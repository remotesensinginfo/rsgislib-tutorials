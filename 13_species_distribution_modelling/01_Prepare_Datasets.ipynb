{
 "cells": [
  {
   "cell_type": "markdown",
   "id": "240240b9-2dad-4054-855c-2b9b6762bf3f",
   "metadata": {},
   "source": [
    "# Species Distribution Modelling (SDM)\n",
    "\n",
    "Also called Habitat Suitability Modelling"
   ]
  },
  {
   "cell_type": "markdown",
   "id": "1a4e8927-fe87-4ef5-966a-4faeb4fde09d",
   "metadata": {},
   "source": [
    "## 1. Create Vector Sighting Data\n",
    "\n",
    " * Import the pandas and geopandas modules needed for this first step.\n",
    " * Define the file path to the sighting CSV file\n",
    " * Read the CSV file using pandas into a Dataframe\n",
    " * Convert Dataframe to a geopandas GeoDataframe - using Lat / Lon (WSG84)\n",
    " * Reproject the GeoDataframe to OSGB (ESPG:27700)\n",
    " * Save as a GeoJSON file which can then be loaded within the GIS"
   ]
  },
  {
   "cell_type": "code",
   "execution_count": 1,
   "id": "c0716c96-60b4-4349-b380-bf65707dabc6",
   "metadata": {},
   "outputs": [],
   "source": [
    "import geopandas\n",
    "import pandas"
   ]
  },
  {
   "cell_type": "code",
   "execution_count": 2,
   "id": "3290ea02-35d5-42f1-818b-587b77569022",
   "metadata": {},
   "outputs": [],
   "source": [
    "sighting_data_csv = \"../data/sdm/sightings/Chrysolina_cerealis.csv\""
   ]
  },
  {
   "cell_type": "code",
   "execution_count": 4,
   "id": "d69a30db-0c05-453c-9345-17fbd7fcff60",
   "metadata": {},
   "outputs": [
    {
     "data": {
      "text/html": [
       "<div>\n",
       "<style scoped>\n",
       "    .dataframe tbody tr th:only-of-type {\n",
       "        vertical-align: middle;\n",
       "    }\n",
       "\n",
       "    .dataframe tbody tr th {\n",
       "        vertical-align: top;\n",
       "    }\n",
       "\n",
       "    .dataframe thead th {\n",
       "        text-align: right;\n",
       "    }\n",
       "</style>\n",
       "<table border=\"1\" class=\"dataframe\">\n",
       "  <thead>\n",
       "    <tr style=\"text-align: right;\">\n",
       "      <th></th>\n",
       "      <th>Scientific name</th>\n",
       "      <th>Common name</th>\n",
       "      <th>Occurrence status</th>\n",
       "      <th>Year</th>\n",
       "      <th>Latitude (WGS84)</th>\n",
       "      <th>Longitude (WGS84)</th>\n",
       "      <th>Coordinate uncertainty (m)</th>\n",
       "      <th>Recorder</th>\n",
       "      <th>Individual count</th>\n",
       "      <th>Institution code</th>\n",
       "    </tr>\n",
       "  </thead>\n",
       "  <tbody>\n",
       "    <tr>\n",
       "      <th>0</th>\n",
       "      <td>Chrysolina cerealis</td>\n",
       "      <td>Rainbow Leaf Beetle</td>\n",
       "      <td>present</td>\n",
       "      <td>1978.0</td>\n",
       "      <td>53.06999</td>\n",
       "      <td>-4.05370</td>\n",
       "      <td>1000</td>\n",
       "      <td>John Parry</td>\n",
       "      <td>13.0</td>\n",
       "      <td>NRW</td>\n",
       "    </tr>\n",
       "    <tr>\n",
       "      <th>1</th>\n",
       "      <td>Chrysolina cerealis</td>\n",
       "      <td>Rainbow Leaf Beetle</td>\n",
       "      <td>present</td>\n",
       "      <td>1902.0</td>\n",
       "      <td>53.06999</td>\n",
       "      <td>-4.05370</td>\n",
       "      <td>1000</td>\n",
       "      <td>J. Chappell</td>\n",
       "      <td>13.0</td>\n",
       "      <td>NRW</td>\n",
       "    </tr>\n",
       "    <tr>\n",
       "      <th>2</th>\n",
       "      <td>Chrysolina cerealis</td>\n",
       "      <td>Rainbow Leaf Beetle</td>\n",
       "      <td>present</td>\n",
       "      <td>1989.0</td>\n",
       "      <td>53.08743</td>\n",
       "      <td>-4.08439</td>\n",
       "      <td>1000</td>\n",
       "      <td>Unknown</td>\n",
       "      <td>1.0</td>\n",
       "      <td>NRW</td>\n",
       "    </tr>\n",
       "    <tr>\n",
       "      <th>3</th>\n",
       "      <td>Chrysolina cerealis</td>\n",
       "      <td>Rainbow Leaf Beetle</td>\n",
       "      <td>present</td>\n",
       "      <td>2007.0</td>\n",
       "      <td>53.08164</td>\n",
       "      <td>-4.08464</td>\n",
       "      <td>1</td>\n",
       "      <td>Michael Shackshaft</td>\n",
       "      <td>1.0</td>\n",
       "      <td>NRW</td>\n",
       "    </tr>\n",
       "    <tr>\n",
       "      <th>4</th>\n",
       "      <td>Chrysolina cerealis</td>\n",
       "      <td>Rainbow Leaf Beetle</td>\n",
       "      <td>present</td>\n",
       "      <td>1989.0</td>\n",
       "      <td>53.08158</td>\n",
       "      <td>-4.08486</td>\n",
       "      <td>100</td>\n",
       "      <td>Adrian Fowles</td>\n",
       "      <td>1.0</td>\n",
       "      <td>NRW</td>\n",
       "    </tr>\n",
       "  </tbody>\n",
       "</table>\n",
       "</div>"
      ],
      "text/plain": [
       "       Scientific name          Common name Occurrence status    Year  \\\n",
       "0  Chrysolina cerealis  Rainbow Leaf Beetle           present  1978.0   \n",
       "1  Chrysolina cerealis  Rainbow Leaf Beetle           present  1902.0   \n",
       "2  Chrysolina cerealis  Rainbow Leaf Beetle           present  1989.0   \n",
       "3  Chrysolina cerealis  Rainbow Leaf Beetle           present  2007.0   \n",
       "4  Chrysolina cerealis  Rainbow Leaf Beetle           present  1989.0   \n",
       "\n",
       "   Latitude (WGS84)  Longitude (WGS84)  Coordinate uncertainty (m)  \\\n",
       "0          53.06999           -4.05370                        1000   \n",
       "1          53.06999           -4.05370                        1000   \n",
       "2          53.08743           -4.08439                        1000   \n",
       "3          53.08164           -4.08464                           1   \n",
       "4          53.08158           -4.08486                         100   \n",
       "\n",
       "             Recorder  Individual count Institution code  \n",
       "0          John Parry              13.0              NRW  \n",
       "1         J. Chappell              13.0              NRW  \n",
       "2             Unknown               1.0              NRW  \n",
       "3  Michael Shackshaft               1.0              NRW  \n",
       "4       Adrian Fowles               1.0              NRW  "
      ]
     },
     "execution_count": 4,
     "metadata": {},
     "output_type": "execute_result"
    }
   ],
   "source": [
    "cc_data_df = pandas.read_csv(sighting_data_csv, header=0)\n",
    "cc_data_df.head()"
   ]
  },
  {
   "cell_type": "code",
   "execution_count": 8,
   "id": "5a5b39d0-f325-403a-9b7b-287852c755ec",
   "metadata": {},
   "outputs": [
    {
     "data": {
      "text/html": [
       "<div>\n",
       "<style scoped>\n",
       "    .dataframe tbody tr th:only-of-type {\n",
       "        vertical-align: middle;\n",
       "    }\n",
       "\n",
       "    .dataframe tbody tr th {\n",
       "        vertical-align: top;\n",
       "    }\n",
       "\n",
       "    .dataframe thead th {\n",
       "        text-align: right;\n",
       "    }\n",
       "</style>\n",
       "<table border=\"1\" class=\"dataframe\">\n",
       "  <thead>\n",
       "    <tr style=\"text-align: right;\">\n",
       "      <th></th>\n",
       "      <th>Scientific name</th>\n",
       "      <th>Common name</th>\n",
       "      <th>Occurrence status</th>\n",
       "      <th>Year</th>\n",
       "      <th>Latitude (WGS84)</th>\n",
       "      <th>Longitude (WGS84)</th>\n",
       "      <th>Coordinate uncertainty (m)</th>\n",
       "      <th>Recorder</th>\n",
       "      <th>Individual count</th>\n",
       "      <th>Institution code</th>\n",
       "      <th>geometry</th>\n",
       "    </tr>\n",
       "  </thead>\n",
       "  <tbody>\n",
       "    <tr>\n",
       "      <th>0</th>\n",
       "      <td>Chrysolina cerealis</td>\n",
       "      <td>Rainbow Leaf Beetle</td>\n",
       "      <td>present</td>\n",
       "      <td>1978.0</td>\n",
       "      <td>53.06999</td>\n",
       "      <td>-4.05370</td>\n",
       "      <td>1000</td>\n",
       "      <td>John Parry</td>\n",
       "      <td>13.0</td>\n",
       "      <td>NRW</td>\n",
       "      <td>POINT (-4.05370 53.06999)</td>\n",
       "    </tr>\n",
       "    <tr>\n",
       "      <th>1</th>\n",
       "      <td>Chrysolina cerealis</td>\n",
       "      <td>Rainbow Leaf Beetle</td>\n",
       "      <td>present</td>\n",
       "      <td>1902.0</td>\n",
       "      <td>53.06999</td>\n",
       "      <td>-4.05370</td>\n",
       "      <td>1000</td>\n",
       "      <td>J. Chappell</td>\n",
       "      <td>13.0</td>\n",
       "      <td>NRW</td>\n",
       "      <td>POINT (-4.05370 53.06999)</td>\n",
       "    </tr>\n",
       "    <tr>\n",
       "      <th>2</th>\n",
       "      <td>Chrysolina cerealis</td>\n",
       "      <td>Rainbow Leaf Beetle</td>\n",
       "      <td>present</td>\n",
       "      <td>1989.0</td>\n",
       "      <td>53.08743</td>\n",
       "      <td>-4.08439</td>\n",
       "      <td>1000</td>\n",
       "      <td>Unknown</td>\n",
       "      <td>1.0</td>\n",
       "      <td>NRW</td>\n",
       "      <td>POINT (-4.08439 53.08743)</td>\n",
       "    </tr>\n",
       "    <tr>\n",
       "      <th>3</th>\n",
       "      <td>Chrysolina cerealis</td>\n",
       "      <td>Rainbow Leaf Beetle</td>\n",
       "      <td>present</td>\n",
       "      <td>2007.0</td>\n",
       "      <td>53.08164</td>\n",
       "      <td>-4.08464</td>\n",
       "      <td>1</td>\n",
       "      <td>Michael Shackshaft</td>\n",
       "      <td>1.0</td>\n",
       "      <td>NRW</td>\n",
       "      <td>POINT (-4.08464 53.08164)</td>\n",
       "    </tr>\n",
       "    <tr>\n",
       "      <th>4</th>\n",
       "      <td>Chrysolina cerealis</td>\n",
       "      <td>Rainbow Leaf Beetle</td>\n",
       "      <td>present</td>\n",
       "      <td>1989.0</td>\n",
       "      <td>53.08158</td>\n",
       "      <td>-4.08486</td>\n",
       "      <td>100</td>\n",
       "      <td>Adrian Fowles</td>\n",
       "      <td>1.0</td>\n",
       "      <td>NRW</td>\n",
       "      <td>POINT (-4.08486 53.08158)</td>\n",
       "    </tr>\n",
       "  </tbody>\n",
       "</table>\n",
       "</div>"
      ],
      "text/plain": [
       "       Scientific name          Common name Occurrence status    Year  \\\n",
       "0  Chrysolina cerealis  Rainbow Leaf Beetle           present  1978.0   \n",
       "1  Chrysolina cerealis  Rainbow Leaf Beetle           present  1902.0   \n",
       "2  Chrysolina cerealis  Rainbow Leaf Beetle           present  1989.0   \n",
       "3  Chrysolina cerealis  Rainbow Leaf Beetle           present  2007.0   \n",
       "4  Chrysolina cerealis  Rainbow Leaf Beetle           present  1989.0   \n",
       "\n",
       "   Latitude (WGS84)  Longitude (WGS84)  Coordinate uncertainty (m)  \\\n",
       "0          53.06999           -4.05370                        1000   \n",
       "1          53.06999           -4.05370                        1000   \n",
       "2          53.08743           -4.08439                        1000   \n",
       "3          53.08164           -4.08464                           1   \n",
       "4          53.08158           -4.08486                         100   \n",
       "\n",
       "             Recorder  Individual count Institution code  \\\n",
       "0          John Parry              13.0              NRW   \n",
       "1         J. Chappell              13.0              NRW   \n",
       "2             Unknown               1.0              NRW   \n",
       "3  Michael Shackshaft               1.0              NRW   \n",
       "4       Adrian Fowles               1.0              NRW   \n",
       "\n",
       "                    geometry  \n",
       "0  POINT (-4.05370 53.06999)  \n",
       "1  POINT (-4.05370 53.06999)  \n",
       "2  POINT (-4.08439 53.08743)  \n",
       "3  POINT (-4.08464 53.08164)  \n",
       "4  POINT (-4.08486 53.08158)  "
      ]
     },
     "execution_count": 8,
     "metadata": {},
     "output_type": "execute_result"
    }
   ],
   "source": [
    "cc_geo_data_gdf = geopandas.GeoDataFrame(\n",
    "    cc_data_df,\n",
    "    geometry=geopandas.points_from_xy(\n",
    "        cc_data_df[\"Longitude (WGS84)\"], cc_data_df[\"Latitude (WGS84)\"]\n",
    "    ),\n",
    "    crs=\"EPSG:4326\",\n",
    ")\n",
    "cc_geo_data_gdf.head()"
   ]
  },
  {
   "cell_type": "code",
   "execution_count": 10,
   "id": "a842b6f8-ae8e-477d-82c2-3bb02baa844f",
   "metadata": {},
   "outputs": [
    {
     "data": {
      "text/html": [
       "<div>\n",
       "<style scoped>\n",
       "    .dataframe tbody tr th:only-of-type {\n",
       "        vertical-align: middle;\n",
       "    }\n",
       "\n",
       "    .dataframe tbody tr th {\n",
       "        vertical-align: top;\n",
       "    }\n",
       "\n",
       "    .dataframe thead th {\n",
       "        text-align: right;\n",
       "    }\n",
       "</style>\n",
       "<table border=\"1\" class=\"dataframe\">\n",
       "  <thead>\n",
       "    <tr style=\"text-align: right;\">\n",
       "      <th></th>\n",
       "      <th>Scientific name</th>\n",
       "      <th>Common name</th>\n",
       "      <th>Occurrence status</th>\n",
       "      <th>Year</th>\n",
       "      <th>Latitude (WGS84)</th>\n",
       "      <th>Longitude (WGS84)</th>\n",
       "      <th>Coordinate uncertainty (m)</th>\n",
       "      <th>Recorder</th>\n",
       "      <th>Individual count</th>\n",
       "      <th>Institution code</th>\n",
       "      <th>geometry</th>\n",
       "    </tr>\n",
       "  </thead>\n",
       "  <tbody>\n",
       "    <tr>\n",
       "      <th>0</th>\n",
       "      <td>Chrysolina cerealis</td>\n",
       "      <td>Rainbow Leaf Beetle</td>\n",
       "      <td>present</td>\n",
       "      <td>1978.0</td>\n",
       "      <td>53.06999</td>\n",
       "      <td>-4.05370</td>\n",
       "      <td>1000</td>\n",
       "      <td>John Parry</td>\n",
       "      <td>13.0</td>\n",
       "      <td>NRW</td>\n",
       "      <td>POINT (262500.145 354498.456)</td>\n",
       "    </tr>\n",
       "    <tr>\n",
       "      <th>1</th>\n",
       "      <td>Chrysolina cerealis</td>\n",
       "      <td>Rainbow Leaf Beetle</td>\n",
       "      <td>present</td>\n",
       "      <td>1902.0</td>\n",
       "      <td>53.06999</td>\n",
       "      <td>-4.05370</td>\n",
       "      <td>1000</td>\n",
       "      <td>J. Chappell</td>\n",
       "      <td>13.0</td>\n",
       "      <td>NRW</td>\n",
       "      <td>POINT (262500.145 354498.456)</td>\n",
       "    </tr>\n",
       "    <tr>\n",
       "      <th>2</th>\n",
       "      <td>Chrysolina cerealis</td>\n",
       "      <td>Rainbow Leaf Beetle</td>\n",
       "      <td>present</td>\n",
       "      <td>1989.0</td>\n",
       "      <td>53.08743</td>\n",
       "      <td>-4.08439</td>\n",
       "      <td>1000</td>\n",
       "      <td>Unknown</td>\n",
       "      <td>1.0</td>\n",
       "      <td>NRW</td>\n",
       "      <td>POINT (260500.630 356497.596)</td>\n",
       "    </tr>\n",
       "    <tr>\n",
       "      <th>3</th>\n",
       "      <td>Chrysolina cerealis</td>\n",
       "      <td>Rainbow Leaf Beetle</td>\n",
       "      <td>present</td>\n",
       "      <td>2007.0</td>\n",
       "      <td>53.08164</td>\n",
       "      <td>-4.08464</td>\n",
       "      <td>1</td>\n",
       "      <td>Michael Shackshaft</td>\n",
       "      <td>1.0</td>\n",
       "      <td>NRW</td>\n",
       "      <td>POINT (260465.146 355854.086)</td>\n",
       "    </tr>\n",
       "    <tr>\n",
       "      <th>4</th>\n",
       "      <td>Chrysolina cerealis</td>\n",
       "      <td>Rainbow Leaf Beetle</td>\n",
       "      <td>present</td>\n",
       "      <td>1989.0</td>\n",
       "      <td>53.08158</td>\n",
       "      <td>-4.08486</td>\n",
       "      <td>100</td>\n",
       "      <td>Adrian Fowles</td>\n",
       "      <td>1.0</td>\n",
       "      <td>NRW</td>\n",
       "      <td>POINT (260450.218 355847.842)</td>\n",
       "    </tr>\n",
       "  </tbody>\n",
       "</table>\n",
       "</div>"
      ],
      "text/plain": [
       "       Scientific name          Common name Occurrence status    Year  \\\n",
       "0  Chrysolina cerealis  Rainbow Leaf Beetle           present  1978.0   \n",
       "1  Chrysolina cerealis  Rainbow Leaf Beetle           present  1902.0   \n",
       "2  Chrysolina cerealis  Rainbow Leaf Beetle           present  1989.0   \n",
       "3  Chrysolina cerealis  Rainbow Leaf Beetle           present  2007.0   \n",
       "4  Chrysolina cerealis  Rainbow Leaf Beetle           present  1989.0   \n",
       "\n",
       "   Latitude (WGS84)  Longitude (WGS84)  Coordinate uncertainty (m)  \\\n",
       "0          53.06999           -4.05370                        1000   \n",
       "1          53.06999           -4.05370                        1000   \n",
       "2          53.08743           -4.08439                        1000   \n",
       "3          53.08164           -4.08464                           1   \n",
       "4          53.08158           -4.08486                         100   \n",
       "\n",
       "             Recorder  Individual count Institution code  \\\n",
       "0          John Parry              13.0              NRW   \n",
       "1         J. Chappell              13.0              NRW   \n",
       "2             Unknown               1.0              NRW   \n",
       "3  Michael Shackshaft               1.0              NRW   \n",
       "4       Adrian Fowles               1.0              NRW   \n",
       "\n",
       "                        geometry  \n",
       "0  POINT (262500.145 354498.456)  \n",
       "1  POINT (262500.145 354498.456)  \n",
       "2  POINT (260500.630 356497.596)  \n",
       "3  POINT (260465.146 355854.086)  \n",
       "4  POINT (260450.218 355847.842)  "
      ]
     },
     "execution_count": 10,
     "metadata": {},
     "output_type": "execute_result"
    }
   ],
   "source": [
    "cc_geo_osgb_data_gdf = cc_geo_data_gdf.to_crs(epsg=27700)\n",
    "cc_geo_osgb_data_gdf.head()"
   ]
  },
  {
   "cell_type": "code",
   "execution_count": 87,
   "id": "b9edaf65-e8ed-4bdb-9b32-4aa0b667d503",
   "metadata": {},
   "outputs": [],
   "source": [
    "cc_geo_osgb_data_gdf.to_file(\"Chrysolina_cerealis_osgb.geojson\", driver=\"GeoJSON\")"
   ]
  },
  {
   "cell_type": "markdown",
   "id": "81407b6b-afe6-451c-b688-978c457b5040",
   "metadata": {},
   "source": [
    "## Rasterise the Study Site Layer"
   ]
  },
  {
   "cell_type": "code",
   "execution_count": 12,
   "id": "5af730b9-3c63-45b9-b5b9-586339bccc9b",
   "metadata": {},
   "outputs": [],
   "source": [
    "import rsgislib\n",
    "import rsgislib.vectorutils.createrasters"
   ]
  },
  {
   "cell_type": "code",
   "execution_count": 13,
   "id": "f0af824e-e2f6-4962-bb0f-2c041d51aa37",
   "metadata": {},
   "outputs": [],
   "source": [
    "# Study Site Vector\n",
    "study_site_vec_file = \"../data/sdm/environmental_data/Study_Area.geojson\"\n",
    "study_site_vec_lyr = \"Study_Area\"\n",
    "\n",
    "# Elevation Image is used as the reference for\n",
    "# Project and Pixel Size\n",
    "elevation_img = \"../data/sdm/environmental_data/elevation.tif\"\n",
    "\n",
    "# Output Study Site Image\n",
    "study_site_img = \"Study_Area.tif\""
   ]
  },
  {
   "cell_type": "code",
   "execution_count": 14,
   "id": "b000dfc8-cbc6-4235-8fc0-547ff7cadd01",
   "metadata": {},
   "outputs": [
    {
     "name": "stdout",
     "output_type": "stream",
     "text": [
      "Creating output image using input image\n",
      "\n",
      "Running Rasterise now...\n",
      "\n",
      "\n",
      "Calculating Image Pyramids.\n",
      "\n",
      "\n"
     ]
    }
   ],
   "source": [
    "# Rasterise the Study Site Layer\n",
    "rsgislib.vectorutils.createrasters.rasterise_vec_lyr(\n",
    "    vec_file=study_site_vec_file,\n",
    "    vec_lyr=study_site_vec_lyr,\n",
    "    input_img=elevation_img,\n",
    "    output_img=study_site_img,\n",
    "    gdalformat=\"GTIFF\",\n",
    "    burn_val=1,\n",
    "    datatype=rsgislib.TYPE_8UINT,\n",
    "    att_column=None,\n",
    "    use_vec_extent=False,\n",
    "    thematic=True,\n",
    "    no_data_val=0,\n",
    ")"
   ]
  },
  {
   "cell_type": "markdown",
   "id": "a2acb332-a4e8-41ee-8dfb-46195af6a34c",
   "metadata": {},
   "source": [
    "## Rasterise Phase 1 (Vegetation Classification)\n",
    "\n",
    "https://datamap.gov.wales/layergroups/geonode:nrw_terrestrial_phase_1_habitat_survey"
   ]
  },
  {
   "cell_type": "code",
   "execution_count": 18,
   "id": "bc56bcc5-e5fa-404f-99ab-3b0a9021ed22",
   "metadata": {},
   "outputs": [],
   "source": [
    "phase1_vec_file = \"../data/sdm/environmental_data/Phase1_Veg.geojson\"\n",
    "phase1_vec_lyr = \"Phase1_Veg\""
   ]
  },
  {
   "cell_type": "code",
   "execution_count": 19,
   "id": "32ec5741-b37e-45d7-98f9-de8e1464ee87",
   "metadata": {},
   "outputs": [],
   "source": [
    "# Output Study Site Image\n",
    "phase1_img = \"Phase1_Cat.tif\""
   ]
  },
  {
   "cell_type": "code",
   "execution_count": 20,
   "id": "de69b327-6411-40c6-a69c-9b1f7542b479",
   "metadata": {},
   "outputs": [
    {
     "name": "stdout",
     "output_type": "stream",
     "text": [
      "Creating output image using input image\n",
      "\n",
      "Running Rasterise now...\n",
      "\n",
      "\n",
      "Calculating Image Pyramids.\n",
      "\n",
      "\n"
     ]
    }
   ],
   "source": [
    "# Rasterise the Phase 1 Vector layer where the\n",
    "# pixel values will be from the \"Class\" column.\n",
    "rsgislib.vectorutils.createrasters.rasterise_vec_lyr(\n",
    "    vec_file=phase1_vec_file,\n",
    "    vec_lyr=phase1_vec_lyr,\n",
    "    input_img=elevation_img,\n",
    "    output_img=phase1_img,\n",
    "    gdalformat=\"GTIFF\",\n",
    "    burn_val=None,\n",
    "    datatype=rsgislib.TYPE_8UINT,\n",
    "    att_column=\"Class\",\n",
    "    use_vec_extent=False,\n",
    "    thematic=True,\n",
    "    no_data_val=0,\n",
    ")"
   ]
  },
  {
   "cell_type": "markdown",
   "id": "22c99865-5f08-4baa-850c-b6f5aac6e072",
   "metadata": {},
   "source": [
    "### Create a Phase 1 Habitat Codes and Class Look Up Table"
   ]
  },
  {
   "cell_type": "code",
   "execution_count": 32,
   "id": "dd43e63b-f897-41d8-98e2-16fc5fd1b682",
   "metadata": {
    "scrolled": true
   },
   "outputs": [],
   "source": [
    "import math"
   ]
  },
  {
   "cell_type": "code",
   "execution_count": 33,
   "id": "a8d749ee-e13c-479d-803d-8abb1bf302c6",
   "metadata": {
    "scrolled": true
   },
   "outputs": [
    {
     "data": {
      "text/html": [
       "<div>\n",
       "<style scoped>\n",
       "    .dataframe tbody tr th:only-of-type {\n",
       "        vertical-align: middle;\n",
       "    }\n",
       "\n",
       "    .dataframe tbody tr th {\n",
       "        vertical-align: top;\n",
       "    }\n",
       "\n",
       "    .dataframe thead th {\n",
       "        text-align: right;\n",
       "    }\n",
       "</style>\n",
       "<table border=\"1\" class=\"dataframe\">\n",
       "  <thead>\n",
       "    <tr style=\"text-align: right;\">\n",
       "      <th></th>\n",
       "      <th>Label</th>\n",
       "      <th>Phase1_Cod</th>\n",
       "      <th>Class</th>\n",
       "      <th>geometry</th>\n",
       "    </tr>\n",
       "  </thead>\n",
       "  <tbody>\n",
       "    <tr>\n",
       "      <th>0</th>\n",
       "      <td>Mosaic of:50% B.1.1,50% E.2.1</td>\n",
       "      <td>mosaic</td>\n",
       "      <td>46.0</td>\n",
       "      <td>MULTIPOLYGON (((259898.030 353244.910, 259934....</td>\n",
       "    </tr>\n",
       "    <tr>\n",
       "      <th>1</th>\n",
       "      <td>Mosaic of:98% B.1.1,2% E.2.1</td>\n",
       "      <td>mosaic</td>\n",
       "      <td>46.0</td>\n",
       "      <td>MULTIPOLYGON (((260094.822 352569.765, 259949....</td>\n",
       "    </tr>\n",
       "    <tr>\n",
       "      <th>2</th>\n",
       "      <td>Mosaic of:98% B.1.1,2% C.2</td>\n",
       "      <td>mosaic</td>\n",
       "      <td>46.0</td>\n",
       "      <td>MULTIPOLYGON (((260398.560 355776.160, 260409....</td>\n",
       "    </tr>\n",
       "    <tr>\n",
       "      <th>3</th>\n",
       "      <td>B.1.1</td>\n",
       "      <td>B.1.1</td>\n",
       "      <td>5.0</td>\n",
       "      <td>MULTIPOLYGON (((258046.320 352360.501, 257491....</td>\n",
       "    </tr>\n",
       "    <tr>\n",
       "      <th>4</th>\n",
       "      <td>B.4</td>\n",
       "      <td>B.4</td>\n",
       "      <td>9.0</td>\n",
       "      <td>MULTIPOLYGON (((257491.331 352376.345, 257444....</td>\n",
       "    </tr>\n",
       "  </tbody>\n",
       "</table>\n",
       "</div>"
      ],
      "text/plain": [
       "                           Label Phase1_Cod  Class  \\\n",
       "0  Mosaic of:50% B.1.1,50% E.2.1     mosaic   46.0   \n",
       "1   Mosaic of:98% B.1.1,2% E.2.1     mosaic   46.0   \n",
       "2     Mosaic of:98% B.1.1,2% C.2     mosaic   46.0   \n",
       "3                          B.1.1      B.1.1    5.0   \n",
       "4                            B.4        B.4    9.0   \n",
       "\n",
       "                                            geometry  \n",
       "0  MULTIPOLYGON (((259898.030 353244.910, 259934....  \n",
       "1  MULTIPOLYGON (((260094.822 352569.765, 259949....  \n",
       "2  MULTIPOLYGON (((260398.560 355776.160, 260409....  \n",
       "3  MULTIPOLYGON (((258046.320 352360.501, 257491....  \n",
       "4  MULTIPOLYGON (((257491.331 352376.345, 257444....  "
      ]
     },
     "execution_count": 33,
     "metadata": {},
     "output_type": "execute_result"
    }
   ],
   "source": [
    "phase1_gdf = geopandas.read_file(phase1_vec_file, layer=phase1_vec_lyr)\n",
    "phase1_gdf.head()"
   ]
  },
  {
   "cell_type": "code",
   "execution_count": 37,
   "id": "ecce207b-2937-47e6-9cd3-8aaeebc70d9f",
   "metadata": {},
   "outputs": [],
   "source": [
    "cls_id_lut = dict()\n",
    "for index, row in phase1_gdf.iterrows():\n",
    "    if not math.isnan(row[\"Class\"]):\n",
    "        cls_id = int(row[\"Class\"])\n",
    "        if (cls_id > 0) and (cls_id not in cls_id_lut):\n",
    "            cls_name = row[\"Phase1_Cod\"]\n",
    "            if cls_name != \"NA\":\n",
    "                cls_id_lut[cls_id] = row[\"Phase1_Cod\"]"
   ]
  },
  {
   "cell_type": "code",
   "execution_count": 68,
   "id": "4e5ff396-5f0f-4529-9cb3-397402ed42cf",
   "metadata": {},
   "outputs": [
    {
     "data": {
      "text/plain": [
       "{46: 'mosaic',\n",
       " 5: 'B.1.1',\n",
       " 9: 'B.4',\n",
       " 6: 'B.1.2',\n",
       " 25: 'E.2.1',\n",
       " 17: 'D.2',\n",
       " 32: 'G.2',\n",
       " 39: 'I.2.2',\n",
       " 10: 'B.5',\n",
       " 4: 'A.2.1',\n",
       " 7: 'B.2.2',\n",
       " 16: 'D.1.1',\n",
       " 31: 'G.1',\n",
       " 43: 'J.3.6',\n",
       " 1: 'A.1.1.1',\n",
       " 13: 'C.1.1',\n",
       " 38: 'I.2.1',\n",
       " 44: 'J.3.7',\n",
       " 12: 'B.5.2',\n",
       " 35: 'I.1.2.1',\n",
       " 19: 'D.5',\n",
       " 34: 'I.1.2',\n",
       " 24: 'E.2',\n",
       " 42: 'J.1.5',\n",
       " 40: 'J.1.2',\n",
       " 41: 'J.1.3',\n",
       " 3: 'A.1.2.2',\n",
       " 21: 'E.1.6.1',\n",
       " 23: 'E.1.8',\n",
       " 45: 'J.4',\n",
       " 37: 'I.1.4.1',\n",
       " 14: 'C.2',\n",
       " 15: 'C.3.2',\n",
       " 36: 'I.1.4',\n",
       " 26: 'E.2.3',\n",
       " 11: 'B.5.1',\n",
       " 29: 'E.4',\n",
       " 18: 'D.3',\n",
       " 28: 'E.3.2',\n",
       " 22: 'E.1.7',\n",
       " 20: 'D.6',\n",
       " 27: 'E.3',\n",
       " 30: 'F.1',\n",
       " 2: 'A.1.1.2',\n",
       " 8: 'B.3.1',\n",
       " 33: 'I.1'}"
      ]
     },
     "execution_count": 68,
     "metadata": {},
     "output_type": "execute_result"
    }
   ],
   "source": [
    "cls_id_lut"
   ]
  },
  {
   "cell_type": "code",
   "execution_count": 41,
   "id": "c88aa82b-ca9e-4b4d-8973-a6499d7963d5",
   "metadata": {},
   "outputs": [
    {
     "data": {
      "text/html": [
       "<div>\n",
       "<style scoped>\n",
       "    .dataframe tbody tr th:only-of-type {\n",
       "        vertical-align: middle;\n",
       "    }\n",
       "\n",
       "    .dataframe tbody tr th {\n",
       "        vertical-align: top;\n",
       "    }\n",
       "\n",
       "    .dataframe thead th {\n",
       "        text-align: right;\n",
       "    }\n",
       "</style>\n",
       "<table border=\"1\" class=\"dataframe\">\n",
       "  <thead>\n",
       "    <tr style=\"text-align: right;\">\n",
       "      <th></th>\n",
       "      <th>JNCC Phase 1 habitat survey handbook code</th>\n",
       "      <th>1st level category</th>\n",
       "      <th>2nd level category</th>\n",
       "      <th>3rd level category</th>\n",
       "      <th>4th level category</th>\n",
       "      <th>JNCC Phase 1 habitat survey handbook name</th>\n",
       "      <th>Phase 1 habitat survey of Wales code</th>\n",
       "      <th>Phase 1 habitat survey of Wales name</th>\n",
       "    </tr>\n",
       "  </thead>\n",
       "  <tbody>\n",
       "    <tr>\n",
       "      <th>0</th>\n",
       "      <td>A</td>\n",
       "      <td>A</td>\n",
       "      <td>NaN</td>\n",
       "      <td>NaN</td>\n",
       "      <td>NaN</td>\n",
       "      <td>Woodland and scrub</td>\n",
       "      <td>NaN</td>\n",
       "      <td>NaN</td>\n",
       "    </tr>\n",
       "    <tr>\n",
       "      <th>1</th>\n",
       "      <td>A1</td>\n",
       "      <td>NaN</td>\n",
       "      <td>A1</td>\n",
       "      <td>NaN</td>\n",
       "      <td>NaN</td>\n",
       "      <td>Woodland</td>\n",
       "      <td>NaN</td>\n",
       "      <td>NaN</td>\n",
       "    </tr>\n",
       "    <tr>\n",
       "      <th>2</th>\n",
       "      <td>A1.1</td>\n",
       "      <td>NaN</td>\n",
       "      <td>NaN</td>\n",
       "      <td>A1.1</td>\n",
       "      <td>NaN</td>\n",
       "      <td>Broadleaved woodland - semi-natural</td>\n",
       "      <td>NaN</td>\n",
       "      <td>NaN</td>\n",
       "    </tr>\n",
       "    <tr>\n",
       "      <th>3</th>\n",
       "      <td>A1.1.1</td>\n",
       "      <td>NaN</td>\n",
       "      <td>NaN</td>\n",
       "      <td>NaN</td>\n",
       "      <td>A1.1.1</td>\n",
       "      <td>Broadleaved woodland - semi-natural</td>\n",
       "      <td>A.1.1.1</td>\n",
       "      <td>Semi-natural broadleaved woodland</td>\n",
       "    </tr>\n",
       "    <tr>\n",
       "      <th>4</th>\n",
       "      <td>A1.1.2</td>\n",
       "      <td>NaN</td>\n",
       "      <td>NaN</td>\n",
       "      <td>NaN</td>\n",
       "      <td>A1.1.2</td>\n",
       "      <td>Broadleaved woodland - plantation</td>\n",
       "      <td>A.1.1.2</td>\n",
       "      <td>Planted broadleaved woodland</td>\n",
       "    </tr>\n",
       "  </tbody>\n",
       "</table>\n",
       "</div>"
      ],
      "text/plain": [
       "  JNCC Phase 1 habitat survey handbook code 1st level category  \\\n",
       "0                                         A                  A   \n",
       "1                                        A1                NaN   \n",
       "2                                      A1.1                NaN   \n",
       "3                                    A1.1.1                NaN   \n",
       "4                                    A1.1.2                NaN   \n",
       "\n",
       "  2nd level category 3rd level category 4th level category  \\\n",
       "0                NaN                NaN                NaN   \n",
       "1                 A1                NaN                NaN   \n",
       "2                NaN               A1.1                NaN   \n",
       "3                NaN                NaN             A1.1.1   \n",
       "4                NaN                NaN             A1.1.2   \n",
       "\n",
       "  JNCC Phase 1 habitat survey handbook name  \\\n",
       "0                        Woodland and scrub   \n",
       "1                                  Woodland   \n",
       "2       Broadleaved woodland - semi-natural   \n",
       "3       Broadleaved woodland - semi-natural   \n",
       "4         Broadleaved woodland - plantation   \n",
       "\n",
       "  Phase 1 habitat survey of Wales code Phase 1 habitat survey of Wales name  \n",
       "0                                  NaN                                  NaN  \n",
       "1                                  NaN                                  NaN  \n",
       "2                                  NaN                                  NaN  \n",
       "3                              A.1.1.1    Semi-natural broadleaved woodland  \n",
       "4                              A.1.1.2         Planted broadleaved woodland  "
      ]
     },
     "execution_count": 41,
     "metadata": {},
     "output_type": "execute_result"
    }
   ],
   "source": [
    "phase1_codes_df = pandas.read_excel(\n",
    "    \"../data/sdm/Phase1-Habitat-DominantSpecies-codes-2008.xlsx\",\n",
    "    sheet_name=\"Habitat list\",\n",
    ")\n",
    "phase1_codes_df.head()"
   ]
  },
  {
   "cell_type": "code",
   "execution_count": 58,
   "id": "46666566-4908-400e-8427-579b2e81091b",
   "metadata": {},
   "outputs": [],
   "source": [
    "cls_names_lut = dict()\n",
    "for index, row in phase1_codes_df.iterrows():\n",
    "    cls_name = f\"{row[\"Phase 1 habitat survey of Wales code\"]}\"\n",
    "    if (cls_name != \"\" and cls_name != \"?\" and cls_name.lower() != \"nan\") and (\n",
    "        cls_name not in cls_names_lut\n",
    "    ):\n",
    "        cls_hab_name = f\"{row[\"Phase 1 habitat survey of Wales name\"]}\"\n",
    "        if cls_hab_name != \"\" and cls_hab_name.lower() != \"nan\":\n",
    "            cls_names_lut[cls_name] = cls_hab_name"
   ]
  },
  {
   "cell_type": "code",
   "execution_count": 59,
   "id": "d716e8ab-cb3e-47a6-885e-e51ce9732306",
   "metadata": {},
   "outputs": [
    {
     "data": {
      "text/plain": [
       "{'A.1.1.1': 'Semi-natural broadleaved woodland',\n",
       " 'A.1.1.2': 'Planted broadleaved woodland',\n",
       " 'A.1.2.1': 'Semi-natural coniferous woodland',\n",
       " 'A.1.2.2': 'Planted coniferous woodland',\n",
       " 'A.1.3.1': 'Semi-natural mixed woodland',\n",
       " 'A.1.3.2': 'Planted mixed woodland',\n",
       " 'A.2.1': 'Dense scrub',\n",
       " 'A.2.2': 'Scattered scrub',\n",
       " 'A.3.1': 'Scattered broadleaved trees',\n",
       " 'A.3.2': 'Scattered coniferous trees',\n",
       " 'A.3.3': 'Scattered mixed trees',\n",
       " 'A.4.1': 'Felled broadleaved woodland',\n",
       " 'A.4.2': 'Felled coniferous woodland',\n",
       " 'A.4.3': 'Felled mixed woodland',\n",
       " 'B.1.1': 'Unimproved acid grassland',\n",
       " 'B.1.2': 'Semi-improved acid grassland',\n",
       " 'B.2.1': 'Unimproved neutral grassland',\n",
       " 'B.2.2': 'Semi-improved neutral grassland',\n",
       " 'B.3.1': 'Unimproved calcareous grassland',\n",
       " 'B.3.2': 'Semi-improved calcareous grassland',\n",
       " 'B.4': 'Improved grassland',\n",
       " 'B.5': 'Marshy grassland',\n",
       " 'B.5.1': 'Marshy grassland Juncus dominated',\n",
       " 'B.5.2': 'Marshy grassland Molinia dominated',\n",
       " 'C.1.1': 'Bracken',\n",
       " 'C.1.2': 'Scattered bracken',\n",
       " 'C.2': 'Upland species rich ledges',\n",
       " 'C.3.1': 'Tall ruderal herb',\n",
       " 'C.3.2': 'Non-ruderal herb and fern',\n",
       " 'D.1.1': 'Dry acid heath',\n",
       " 'D.1.2': 'Dry basic heath',\n",
       " 'D.1.3': 'Scattered dry heath',\n",
       " 'D.2': 'Wet heath',\n",
       " 'D.3': 'Lichen/bryophyte heath',\n",
       " 'D.4': 'Dry heath/acid grassland mosaic',\n",
       " 'D.5': 'Wet heath/acid grassland mosaic',\n",
       " 'D.6': 'Basic dry heath/calcareous grassland mosaic',\n",
       " 'E.1.6.1': 'Blanket bog',\n",
       " 'E.1.6.2': 'Raised bog',\n",
       " 'E.1.7': 'Wet modified bog',\n",
       " 'E.1.8': 'Dry modified bog',\n",
       " 'E.2': 'Flush and spring',\n",
       " 'E.2.1': 'Acid/neutral flush',\n",
       " 'E.2.2': 'Basic flush',\n",
       " 'E.2.3': 'Brophyte-dominated spring',\n",
       " 'E.3': 'Fen',\n",
       " 'E.3.1': 'Valley mire',\n",
       " 'E.3.1.1': 'Modified valley mire',\n",
       " 'E.3.2': 'Basin mire',\n",
       " 'E.3.2.1': 'Modified basin mire',\n",
       " 'E.3.3': 'Flood-plain mire',\n",
       " 'E.3.3.1': 'Modified flood plain mire',\n",
       " 'E.4': 'Bare peat',\n",
       " 'F.1': 'Swamp',\n",
       " 'F.1.1': 'Scattered swamp',\n",
       " 'F.2.2': 'Inundation vegetation',\n",
       " 'G.1': 'Standing water',\n",
       " 'G.2': 'Running water',\n",
       " 'H.1.1': 'Intertidal mud/sand',\n",
       " 'H.1.2': 'Intertidal cobbles/shingle',\n",
       " 'H.1.3': 'Intertidal rocks/boulders',\n",
       " 'H.2.4': 'Scattered salt marsh plants',\n",
       " 'H.2.6': 'Salt marsh',\n",
       " 'H.3.1': 'Mud/sand above mhw',\n",
       " 'H.3.2': 'Shingle/gravel above mhw',\n",
       " 'H.4': 'Rocks/boulders above mhw',\n",
       " 'H.6.4': 'Dune slack',\n",
       " 'H.6.5': 'Dune grassland',\n",
       " 'H.6.6': 'Dune heath',\n",
       " 'H.6.7': 'Dune scrub',\n",
       " 'H.6.8': 'Open dune',\n",
       " 'H.8.1': 'Hard cliff',\n",
       " 'H.8.2': 'Soft cliff',\n",
       " 'H.8.4': 'Coastal grassland',\n",
       " 'H.8.5': 'Coastal heath',\n",
       " 'H.8.6': 'Coastal heath/coastal grassland mosaic',\n",
       " 'I.1': 'Natural rock exposure',\n",
       " 'I.1.1': 'Inland cliff',\n",
       " 'I.1.1.1': 'Acid/neutral inland cliff',\n",
       " 'I.1.1.2': 'Basic inland cliff',\n",
       " 'I.1.2': 'Scree',\n",
       " 'I.1.2.1': 'Acid/neutral scree',\n",
       " 'I.1.2.2': 'Basic scree',\n",
       " 'I.1.3': 'Limestone pavement',\n",
       " 'I.1.4': 'Other rock exposure',\n",
       " 'I.1.4.1': 'Acid/neutral rock',\n",
       " 'I.1.4.2': 'Basic rock',\n",
       " 'I.1.5': 'Cave',\n",
       " 'I.2.1': 'Quarry',\n",
       " 'I.2.2': 'Spoil',\n",
       " 'I.2.3': 'Mine',\n",
       " 'I.2.4': 'Refuse-tip',\n",
       " 'J.1.1': 'Arable',\n",
       " 'J.1.2': 'Amenity grassland',\n",
       " 'J.1.3': 'Ephemeral/short perennial',\n",
       " 'J.1.4': 'Introduced scrub',\n",
       " 'J.1.5': 'Gardens',\n",
       " 'J.3.4': 'Caravan site',\n",
       " 'J.3.5': 'Sea-wall',\n",
       " 'J.3.6': 'Buildings',\n",
       " 'J.3.7': 'Track (not comprehensively digitised)',\n",
       " 'J.4': 'Bare ground'}"
      ]
     },
     "execution_count": 59,
     "metadata": {},
     "output_type": "execute_result"
    }
   ],
   "source": [
    "cls_names_lut"
   ]
  },
  {
   "cell_type": "markdown",
   "id": "72e5a8bc-07a2-4736-9053-92cded1dc147",
   "metadata": {},
   "source": [
    "Using these two look up tables we should be able to find the names of the classes associated with the pixel values within the region of Phase 1 which we have rasterised.\n",
    "\n",
    "Let's try and example: "
   ]
  },
  {
   "cell_type": "code",
   "execution_count": 60,
   "id": "d9c0065b-b941-4e1c-96b4-a97229fe18e7",
   "metadata": {},
   "outputs": [
    {
     "name": "stdout",
     "output_type": "stream",
     "text": [
      "Improved grassland\n"
     ]
    }
   ],
   "source": [
    "pixel_val = 9\n",
    "print(cls_names_lut[cls_id_lut[pixel_val]])"
   ]
  },
  {
   "cell_type": "code",
   "execution_count": 61,
   "id": "bcd07274-a7e3-4b17-b1ea-eaffa7249abf",
   "metadata": {},
   "outputs": [
    {
     "name": "stdout",
     "output_type": "stream",
     "text": [
      "Bracken\n"
     ]
    }
   ],
   "source": [
    "pixel_val = 13\n",
    "print(cls_names_lut[cls_id_lut[pixel_val]])"
   ]
  },
  {
   "cell_type": "markdown",
   "id": "199e9b9d-58ed-4f32-a3b6-f44ed555eac8",
   "metadata": {},
   "source": [
    "## Create Phase 1 Habitat Distance Images\n",
    "\n",
    "Land cover and habitat maps are typically not ideal for species distribution modelling as the sighting could be within a neighbouring pixel to land cover which that species is associated with but the model would not know that. \n",
    "\n",
    "Therefore, it is useful to calculate the distance to each of the land covers and we will enter the distance images into the model rather than the categorical data."
   ]
  },
  {
   "cell_type": "code",
   "execution_count": 76,
   "id": "0226ce8c-c436-4a01-a609-c9a74a99d1da",
   "metadata": {},
   "outputs": [],
   "source": [
    "import os\n",
    "\n",
    "import rsgislib.imagecalc\n",
    "import rsgislib.imageutils\n",
    "import rsgislib.tools.utils"
   ]
  },
  {
   "cell_type": "code",
   "execution_count": 77,
   "id": "ae0ae460-3e57-40a4-8efc-16bfadfa4ac6",
   "metadata": {},
   "outputs": [],
   "source": [
    "# Set up RSGISLib to output compressed and tiled GTIFFs\n",
    "rsgislib.imageutils.set_env_vars_lzw_gtiff_outs(bigtiff=False)"
   ]
  },
  {
   "cell_type": "code",
   "execution_count": 78,
   "id": "79a69cd7-d90e-40d4-aab0-9b5a55dea428",
   "metadata": {},
   "outputs": [],
   "source": [
    "phase1_dist_dir = \"phase1_dist_imgs\"\n",
    "if not os.path.exists(phase1_dist_dir):\n",
    "    os.mkdir(phase1_dist_dir)"
   ]
  },
  {
   "cell_type": "code",
   "execution_count": 80,
   "id": "e0a2bc77-6993-472c-8e20-39d3d991837d",
   "metadata": {},
   "outputs": [
    {
     "name": "stderr",
     "output_type": "stream",
     "text": [
      "\n",
      "101it [00:00, 980.54it/s]                                                                                                                                                                                            \u001b[A\n"
     ]
    },
    {
     "name": "stdout",
     "output_type": "stream",
     "text": [
      "\n",
      "\n",
      "\n",
      "Calculating Image Pyramids.\n",
      "\n",
      "\n",
      "Unimproved acid grassland\n",
      "\tUnimproved_acid_grassland\n"
     ]
    },
    {
     "name": "stderr",
     "output_type": "stream",
     "text": [
      "\n",
      "101it [00:00, 2037.88it/s]                                                                                                                                                                                           \u001b[A\n"
     ]
    },
    {
     "name": "stdout",
     "output_type": "stream",
     "text": [
      "\n",
      "\n",
      "\n",
      "Calculating Image Pyramids.\n",
      "\n",
      "\n",
      "Improved grassland\n",
      "\tImproved_grassland\n"
     ]
    },
    {
     "name": "stderr",
     "output_type": "stream",
     "text": [
      "\n",
      "  0%|                                                                                                                                                                                        | 0/100 [00:00<?, ?it/s]\u001b[A"
     ]
    },
    {
     "name": "stdout",
     "output_type": "stream",
     "text": [
      "\n"
     ]
    },
    {
     "name": "stderr",
     "output_type": "stream",
     "text": [
      "101it [00:00, 2085.10it/s]                                                                                                                                                                                           \n"
     ]
    },
    {
     "name": "stdout",
     "output_type": "stream",
     "text": [
      "\n",
      "Semi-improved acid grassland\n",
      "\tSemi_improved_acid_grassland\n",
      "\n",
      "Calculating Image Pyramids.\n",
      "\n",
      "\n"
     ]
    },
    {
     "name": "stderr",
     "output_type": "stream",
     "text": [
      "\n",
      "  0%|                                                                                                                                                                                        | 0/100 [00:00<?, ?it/s]\u001b[A"
     ]
    },
    {
     "name": "stdout",
     "output_type": "stream",
     "text": [
      "\n"
     ]
    },
    {
     "name": "stderr",
     "output_type": "stream",
     "text": [
      "101it [00:00, 2146.61it/s]                                                                                                                                                                                           \n"
     ]
    },
    {
     "name": "stdout",
     "output_type": "stream",
     "text": [
      "Acid/neutral flush\n",
      "\n",
      "\tAcidneutral_flush\n",
      "\n",
      "Calculating Image Pyramids.\n",
      "\n",
      "\n"
     ]
    },
    {
     "name": "stderr",
     "output_type": "stream",
     "text": [
      "\n",
      "  0%|                                                                                                                                                                                        | 0/100 [00:00<?, ?it/s]\u001b[A"
     ]
    },
    {
     "name": "stdout",
     "output_type": "stream",
     "text": [
      "\n"
     ]
    },
    {
     "name": "stderr",
     "output_type": "stream",
     "text": [
      "101it [00:00, 1924.20it/s]                                                                                                                                                                                           \n"
     ]
    },
    {
     "name": "stdout",
     "output_type": "stream",
     "text": [
      "\n",
      "Wet heath\n",
      "\tWet_heath\n",
      "\n",
      "Calculating Image Pyramids.\n",
      "\n",
      "\n"
     ]
    },
    {
     "name": "stderr",
     "output_type": "stream",
     "text": [
      "\n",
      "  0%|                                                                                                                                                                                        | 0/100 [00:00<?, ?it/s]\u001b[A"
     ]
    },
    {
     "name": "stdout",
     "output_type": "stream",
     "text": [
      "\n"
     ]
    },
    {
     "name": "stderr",
     "output_type": "stream",
     "text": [
      "101it [00:00, 2106.89it/s]                                                                                                                                                                                           \n"
     ]
    },
    {
     "name": "stdout",
     "output_type": "stream",
     "text": [
      "\n",
      "Running water\n",
      "\tRunning_water\n",
      "\n",
      "Calculating Image Pyramids.\n",
      "\n",
      "\n"
     ]
    },
    {
     "name": "stderr",
     "output_type": "stream",
     "text": [
      "\n",
      "  0%|                                                                                                                                                                                        | 0/100 [00:00<?, ?it/s]\u001b[A"
     ]
    },
    {
     "name": "stdout",
     "output_type": "stream",
     "text": [
      "\n"
     ]
    },
    {
     "name": "stderr",
     "output_type": "stream",
     "text": [
      "101it [00:00, 2073.12it/s]                                                                                                                                                                                           \n"
     ]
    },
    {
     "name": "stdout",
     "output_type": "stream",
     "text": [
      "\n",
      "Spoil\n",
      "\tSpoil\n",
      "\n",
      "Calculating Image Pyramids.\n",
      "\n",
      "\n"
     ]
    },
    {
     "name": "stderr",
     "output_type": "stream",
     "text": [
      "\n",
      "  0%|                                                                                                                                                                                        | 0/100 [00:00<?, ?it/s]\u001b[A"
     ]
    },
    {
     "name": "stdout",
     "output_type": "stream",
     "text": [
      "\n"
     ]
    },
    {
     "name": "stderr",
     "output_type": "stream",
     "text": [
      "101it [00:00, 2059.17it/s]                                                                                                                                                                                           \n"
     ]
    },
    {
     "name": "stdout",
     "output_type": "stream",
     "text": [
      "\n",
      "Marshy grassland\n",
      "\tMarshy_grassland\n",
      "\n",
      "Calculating Image Pyramids.\n",
      "\n",
      "\n"
     ]
    },
    {
     "name": "stderr",
     "output_type": "stream",
     "text": [
      "\n",
      "  0%|                                                                                                                                                                                        | 0/100 [00:00<?, ?it/s]\u001b[A"
     ]
    },
    {
     "name": "stdout",
     "output_type": "stream",
     "text": [
      "\n"
     ]
    },
    {
     "name": "stderr",
     "output_type": "stream",
     "text": [
      "101it [00:00, 2132.96it/s]                                                                                                                                                                                           \n"
     ]
    },
    {
     "name": "stdout",
     "output_type": "stream",
     "text": [
      "\n",
      "Dense scrub\n",
      "\tDense_scrub\n",
      "\n",
      "Calculating Image Pyramids.\n",
      "\n",
      "\n"
     ]
    },
    {
     "name": "stderr",
     "output_type": "stream",
     "text": [
      "\n",
      "  0%|                                                                                                                                                                                        | 0/100 [00:00<?, ?it/s]\u001b[A"
     ]
    },
    {
     "name": "stdout",
     "output_type": "stream",
     "text": [
      "\n"
     ]
    },
    {
     "name": "stderr",
     "output_type": "stream",
     "text": [
      "101it [00:00, 2122.03it/s]                                                                                                                                                                                           \n"
     ]
    },
    {
     "name": "stdout",
     "output_type": "stream",
     "text": [
      "Semi-improved neutral grassland\n",
      "\n",
      "\tSemi_improved_neutral_grassland\n",
      "\n",
      "Calculating Image Pyramids.\n",
      "\n",
      "\n"
     ]
    },
    {
     "name": "stderr",
     "output_type": "stream",
     "text": [
      "\n",
      "  0%|                                                                                                                                                                                        | 0/100 [00:00<?, ?it/s]\u001b[A"
     ]
    },
    {
     "name": "stdout",
     "output_type": "stream",
     "text": [
      "\n"
     ]
    },
    {
     "name": "stderr",
     "output_type": "stream",
     "text": [
      "101it [00:00, 2139.99it/s]                                                                                                                                                                                           "
     ]
    },
    {
     "name": "stdout",
     "output_type": "stream",
     "text": [
      "\n",
      "Dry acid heath\n",
      "\tDry_acid_heath\n",
      "\n",
      "Calculating Image Pyramids.\n",
      "\n",
      "\n"
     ]
    },
    {
     "name": "stderr",
     "output_type": "stream",
     "text": [
      "\n",
      "\n",
      "  0%|                                                                                                                                                                                        | 0/100 [00:00<?, ?it/s]\u001b[A"
     ]
    },
    {
     "name": "stdout",
     "output_type": "stream",
     "text": [
      "\n"
     ]
    },
    {
     "name": "stderr",
     "output_type": "stream",
     "text": [
      "101it [00:00, 1847.22it/s]                                                                                                                                                                                           \n"
     ]
    },
    {
     "name": "stdout",
     "output_type": "stream",
     "text": [
      "Standing water\n",
      "\n",
      "\tStanding_water\n",
      "\n",
      "Calculating Image Pyramids.\n",
      "\n",
      "\n"
     ]
    },
    {
     "name": "stderr",
     "output_type": "stream",
     "text": [
      "\n",
      "  0%|                                                                                                                                                                                        | 0/100 [00:00<?, ?it/s]\u001b[A"
     ]
    },
    {
     "name": "stdout",
     "output_type": "stream",
     "text": [
      "\n"
     ]
    },
    {
     "name": "stderr",
     "output_type": "stream",
     "text": [
      "101it [00:00, 2122.70it/s]                                                                                                                                                                                           \n"
     ]
    },
    {
     "name": "stdout",
     "output_type": "stream",
     "text": [
      "\n",
      "Buildings\n",
      "\tBuildings\n",
      "\n",
      "Calculating Image Pyramids.\n",
      "\n",
      "\n"
     ]
    },
    {
     "name": "stderr",
     "output_type": "stream",
     "text": [
      "\n",
      "  0%|                                                                                                                                                                                        | 0/100 [00:00<?, ?it/s]\u001b[A"
     ]
    },
    {
     "name": "stdout",
     "output_type": "stream",
     "text": [
      "\n"
     ]
    },
    {
     "name": "stderr",
     "output_type": "stream",
     "text": [
      "101it [00:00, 2036.54it/s]                                                                                                                                                                                           \n"
     ]
    },
    {
     "name": "stdout",
     "output_type": "stream",
     "text": [
      "Semi-natural broadleaved woodland\n",
      "\n",
      "\tSemi_natural_broadleaved_woodland\n",
      "\n",
      "Calculating Image Pyramids.\n",
      "\n",
      "\n"
     ]
    },
    {
     "name": "stderr",
     "output_type": "stream",
     "text": [
      "\n",
      "  0%|                                                                                                                                                                                        | 0/100 [00:00<?, ?it/s]\u001b[A"
     ]
    },
    {
     "name": "stdout",
     "output_type": "stream",
     "text": [
      "\n"
     ]
    },
    {
     "name": "stderr",
     "output_type": "stream",
     "text": [
      "101it [00:00, 2003.48it/s]                                                                                                                                                                                           \n"
     ]
    },
    {
     "name": "stdout",
     "output_type": "stream",
     "text": [
      "Bracken\n",
      "\n",
      "\tBracken\n",
      "\n",
      "Calculating Image Pyramids.\n",
      "\n",
      "\n"
     ]
    },
    {
     "name": "stderr",
     "output_type": "stream",
     "text": [
      "\n",
      "  0%|                                                                                                                                                                                        | 0/100 [00:00<?, ?it/s]\u001b[A"
     ]
    },
    {
     "name": "stdout",
     "output_type": "stream",
     "text": [
      "\n"
     ]
    },
    {
     "name": "stderr",
     "output_type": "stream",
     "text": [
      "101it [00:00, 1998.93it/s]                                                                                                                                                                                           \n"
     ]
    },
    {
     "name": "stdout",
     "output_type": "stream",
     "text": [
      "\n",
      "Quarry\n",
      "\tQuarry\n",
      "\n",
      "Calculating Image Pyramids.\n",
      "\n",
      "\n"
     ]
    },
    {
     "name": "stderr",
     "output_type": "stream",
     "text": [
      "\n",
      "  0%|                                                                                                                                                                                        | 0/100 [00:00<?, ?it/s]\u001b[A"
     ]
    },
    {
     "name": "stdout",
     "output_type": "stream",
     "text": [
      "\n"
     ]
    },
    {
     "name": "stderr",
     "output_type": "stream",
     "text": [
      "101it [00:00, 2198.66it/s]                                                                                                                                                                                           \n"
     ]
    },
    {
     "name": "stdout",
     "output_type": "stream",
     "text": [
      "\n",
      "Track (not comprehensively digitised)\n",
      "\tTrack_not_comprehensively_digitised\n",
      "\n",
      "Calculating Image Pyramids.\n",
      "\n",
      "\n"
     ]
    },
    {
     "name": "stderr",
     "output_type": "stream",
     "text": [
      "\n",
      "  0%|                                                                                                                                                                                        | 0/100 [00:00<?, ?it/s]\u001b[A"
     ]
    },
    {
     "name": "stdout",
     "output_type": "stream",
     "text": [
      "\n"
     ]
    },
    {
     "name": "stderr",
     "output_type": "stream",
     "text": [
      "101it [00:00, 1916.07it/s]                                                                                                                                                                                           \n"
     ]
    },
    {
     "name": "stdout",
     "output_type": "stream",
     "text": [
      "\n",
      "Marshy grassland Molinia dominated\n",
      "\tMarshy_grassland_Molinia_dominated\n",
      "\n",
      "Calculating Image Pyramids.\n",
      "\n",
      "\n"
     ]
    },
    {
     "name": "stderr",
     "output_type": "stream",
     "text": [
      "\n",
      "  0%|                                                                                                                                                                                        | 0/100 [00:00<?, ?it/s]\u001b[A"
     ]
    },
    {
     "name": "stdout",
     "output_type": "stream",
     "text": [
      "\n"
     ]
    },
    {
     "name": "stderr",
     "output_type": "stream",
     "text": [
      "101it [00:00, 2167.81it/s]                                                                                                                                                                                           \n"
     ]
    },
    {
     "name": "stdout",
     "output_type": "stream",
     "text": [
      "Acid/neutral scree\n",
      "\n",
      "\tAcidneutral_scree\n",
      "\n",
      "Calculating Image Pyramids.\n",
      "\n",
      "\n"
     ]
    },
    {
     "name": "stderr",
     "output_type": "stream",
     "text": [
      "\n",
      "  0%|                                                                                                                                                                                        | 0/100 [00:00<?, ?it/s]\u001b[A"
     ]
    },
    {
     "name": "stdout",
     "output_type": "stream",
     "text": [
      "\n"
     ]
    },
    {
     "name": "stderr",
     "output_type": "stream",
     "text": [
      "101it [00:00, 2177.66it/s]                                                                                                                                                                                           \n"
     ]
    },
    {
     "name": "stdout",
     "output_type": "stream",
     "text": [
      "\n",
      "Wet heath/acid grassland mosaic\n",
      "\tWet_heathacid_grassland_mosaic\n",
      "\n",
      "Calculating Image Pyramids.\n",
      "\n",
      "\n"
     ]
    },
    {
     "name": "stderr",
     "output_type": "stream",
     "text": [
      "\n",
      "  0%|                                                                                                                                                                                        | 0/100 [00:00<?, ?it/s]\u001b[A"
     ]
    },
    {
     "name": "stdout",
     "output_type": "stream",
     "text": [
      "\n"
     ]
    },
    {
     "name": "stderr",
     "output_type": "stream",
     "text": [
      "101it [00:00, 2251.39it/s]                                                                                                                                                                                           "
     ]
    },
    {
     "name": "stdout",
     "output_type": "stream",
     "text": [
      "Scree\n",
      "\n",
      "Calculating Image Pyramids.\n",
      "\n",
      "\n",
      "\n",
      "\tScree\n"
     ]
    },
    {
     "name": "stderr",
     "output_type": "stream",
     "text": [
      "\n",
      "\n",
      "  0%|                                                                                                                                                                                        | 0/100 [00:00<?, ?it/s]\u001b[A"
     ]
    },
    {
     "name": "stdout",
     "output_type": "stream",
     "text": [
      "\n"
     ]
    },
    {
     "name": "stderr",
     "output_type": "stream",
     "text": [
      "101it [00:00, 2276.99it/s]                                                                                                                                                                                           \n"
     ]
    },
    {
     "name": "stdout",
     "output_type": "stream",
     "text": [
      "Flush and spring\n",
      "\n",
      "\tFlush_and_spring\n",
      "\n",
      "Calculating Image Pyramids.\n",
      "\n",
      "\n"
     ]
    },
    {
     "name": "stderr",
     "output_type": "stream",
     "text": [
      "\n",
      "  0%|                                                                                                                                                                                        | 0/100 [00:00<?, ?it/s]\u001b[A"
     ]
    },
    {
     "name": "stdout",
     "output_type": "stream",
     "text": [
      "\n"
     ]
    },
    {
     "name": "stderr",
     "output_type": "stream",
     "text": [
      "101it [00:00, 2090.84it/s]                                                                                                                                                                                           \n"
     ]
    },
    {
     "name": "stdout",
     "output_type": "stream",
     "text": [
      "\n",
      "Gardens\n",
      "\tGardens\n",
      "\n",
      "Calculating Image Pyramids.\n",
      "\n",
      "\n"
     ]
    },
    {
     "name": "stderr",
     "output_type": "stream",
     "text": [
      "\n",
      "  0%|                                                                                                                                                                                        | 0/100 [00:00<?, ?it/s]\u001b[A"
     ]
    },
    {
     "name": "stdout",
     "output_type": "stream",
     "text": [
      "\n"
     ]
    },
    {
     "name": "stderr",
     "output_type": "stream",
     "text": [
      "101it [00:00, 2005.81it/s]                                                                                                                                                                                           \n"
     ]
    },
    {
     "name": "stdout",
     "output_type": "stream",
     "text": [
      "\n",
      "Amenity grassland\n",
      "\tAmenity_grassland\n",
      "\n",
      "Calculating Image Pyramids.\n",
      "\n",
      "\n"
     ]
    },
    {
     "name": "stderr",
     "output_type": "stream",
     "text": [
      "\n",
      "  0%|                                                                                                                                                                                        | 0/100 [00:00<?, ?it/s]\u001b[A"
     ]
    },
    {
     "name": "stdout",
     "output_type": "stream",
     "text": [
      "\n"
     ]
    },
    {
     "name": "stderr",
     "output_type": "stream",
     "text": [
      "101it [00:00, 2156.18it/s]                                                                                                                                                                                           \n"
     ]
    },
    {
     "name": "stdout",
     "output_type": "stream",
     "text": [
      "\n",
      "Ephemeral/short perennial\n",
      "\tEphemeralshort_perennial\n",
      "\n",
      "Calculating Image Pyramids.\n",
      "\n",
      "\n"
     ]
    },
    {
     "name": "stderr",
     "output_type": "stream",
     "text": [
      "\n",
      "  0%|                                                                                                                                                                                        | 0/100 [00:00<?, ?it/s]\u001b[A"
     ]
    },
    {
     "name": "stdout",
     "output_type": "stream",
     "text": [
      "\n"
     ]
    },
    {
     "name": "stderr",
     "output_type": "stream",
     "text": [
      "101it [00:00, 2183.13it/s]                                                                                                                                                                                           \n"
     ]
    },
    {
     "name": "stdout",
     "output_type": "stream",
     "text": [
      "Planted coniferous woodland\n",
      "\n",
      "\tPlanted_coniferous_woodland\n",
      "\n",
      "Calculating Image Pyramids.\n",
      "\n",
      "\n"
     ]
    },
    {
     "name": "stderr",
     "output_type": "stream",
     "text": [
      "\n",
      "  0%|                                                                                                                                                                                        | 0/100 [00:00<?, ?it/s]\u001b[A"
     ]
    },
    {
     "name": "stdout",
     "output_type": "stream",
     "text": [
      "\n"
     ]
    },
    {
     "name": "stderr",
     "output_type": "stream",
     "text": [
      "101it [00:00, 2092.27it/s]                                                                                                                                                                                           \n"
     ]
    },
    {
     "name": "stdout",
     "output_type": "stream",
     "text": [
      "\n",
      "Blanket bog\n",
      "\tBlanket_bog\n",
      "\n",
      "Calculating Image Pyramids.\n",
      "\n",
      "\n"
     ]
    },
    {
     "name": "stderr",
     "output_type": "stream",
     "text": [
      "\n",
      "  0%|                                                                                                                                                                                        | 0/100 [00:00<?, ?it/s]\u001b[A"
     ]
    },
    {
     "name": "stdout",
     "output_type": "stream",
     "text": [
      "\n"
     ]
    },
    {
     "name": "stderr",
     "output_type": "stream",
     "text": [
      "101it [00:00, 2273.59it/s]                                                                                                                                                                                           "
     ]
    },
    {
     "name": "stdout",
     "output_type": "stream",
     "text": [
      "Dry modified bog\n",
      "\n",
      "\tDry_modified_bog\n",
      "\n",
      "Calculating Image Pyramids.\n",
      "\n",
      "\n"
     ]
    },
    {
     "name": "stderr",
     "output_type": "stream",
     "text": [
      "\n",
      "\n",
      "  0%|                                                                                                                                                                                        | 0/100 [00:00<?, ?it/s]\u001b[A"
     ]
    },
    {
     "name": "stdout",
     "output_type": "stream",
     "text": [
      "\n"
     ]
    },
    {
     "name": "stderr",
     "output_type": "stream",
     "text": [
      "101it [00:00, 2267.32it/s]                                                                                                                                                                                           "
     ]
    },
    {
     "name": "stdout",
     "output_type": "stream",
     "text": [
      "Bare ground\n",
      "\n",
      "\tBare_ground\n",
      "\n",
      "Calculating Image Pyramids.\n",
      "\n",
      "\n"
     ]
    },
    {
     "name": "stderr",
     "output_type": "stream",
     "text": [
      "\n",
      "\n",
      "  0%|                                                                                                                                                                                        | 0/100 [00:00<?, ?it/s]\u001b[A"
     ]
    },
    {
     "name": "stdout",
     "output_type": "stream",
     "text": [
      "\n"
     ]
    },
    {
     "name": "stderr",
     "output_type": "stream",
     "text": [
      "101it [00:00, 2120.16it/s]                                                                                                                                                                                           "
     ]
    },
    {
     "name": "stdout",
     "output_type": "stream",
     "text": [
      "\n",
      "Acid/neutral rock\n",
      "\tAcidneutral_rock\n"
     ]
    },
    {
     "name": "stderr",
     "output_type": "stream",
     "text": [
      "\n"
     ]
    },
    {
     "name": "stdout",
     "output_type": "stream",
     "text": [
      "\n",
      "Calculating Image Pyramids.\n",
      "\n",
      "\n"
     ]
    },
    {
     "name": "stderr",
     "output_type": "stream",
     "text": [
      "\n",
      "  0%|                                                                                                                                                                                        | 0/100 [00:00<?, ?it/s]\u001b[A"
     ]
    },
    {
     "name": "stdout",
     "output_type": "stream",
     "text": [
      "\n"
     ]
    },
    {
     "name": "stderr",
     "output_type": "stream",
     "text": [
      "101it [00:00, 2050.05it/s]                                                                                                                                                                                           \n"
     ]
    },
    {
     "name": "stdout",
     "output_type": "stream",
     "text": [
      "\n",
      "Upland species rich ledges\n",
      "\tUpland_species_rich_ledges\n",
      "\n",
      "Calculating Image Pyramids.\n",
      "\n",
      "\n"
     ]
    },
    {
     "name": "stderr",
     "output_type": "stream",
     "text": [
      "\n",
      "  0%|                                                                                                                                                                                        | 0/100 [00:00<?, ?it/s]\u001b[A"
     ]
    },
    {
     "name": "stdout",
     "output_type": "stream",
     "text": [
      "\n"
     ]
    },
    {
     "name": "stderr",
     "output_type": "stream",
     "text": [
      "101it [00:00, 2160.15it/s]                                                                                                                                                                                           \n"
     ]
    },
    {
     "name": "stdout",
     "output_type": "stream",
     "text": [
      "\n",
      "Non-ruderal herb and fern\n",
      "\tNon_ruderal_herb_and_fern\n",
      "\n",
      "Calculating Image Pyramids.\n",
      "\n",
      "\n"
     ]
    },
    {
     "name": "stderr",
     "output_type": "stream",
     "text": [
      "\n",
      "  0%|                                                                                                                                                                                        | 0/100 [00:00<?, ?it/s]\u001b[A"
     ]
    },
    {
     "name": "stdout",
     "output_type": "stream",
     "text": [
      "\n"
     ]
    },
    {
     "name": "stderr",
     "output_type": "stream",
     "text": [
      "101it [00:00, 2107.86it/s]                                                                                                                                                                                           \n"
     ]
    },
    {
     "name": "stdout",
     "output_type": "stream",
     "text": [
      "\n",
      "Other rock exposure\n",
      "\tOther_rock_exposure\n",
      "\n",
      "Calculating Image Pyramids.\n",
      "\n",
      "\n"
     ]
    },
    {
     "name": "stderr",
     "output_type": "stream",
     "text": [
      "\n",
      "  0%|                                                                                                                                                                                        | 0/100 [00:00<?, ?it/s]\u001b[A"
     ]
    },
    {
     "name": "stdout",
     "output_type": "stream",
     "text": [
      "\n"
     ]
    },
    {
     "name": "stderr",
     "output_type": "stream",
     "text": [
      "101it [00:00, 2274.31it/s]                                                                                                                                                                                           "
     ]
    },
    {
     "name": "stdout",
     "output_type": "stream",
     "text": [
      "\n",
      "Brophyte-dominated spring\n",
      "\tBrophyte_dominated_spring\n",
      "\n",
      "Calculating Image Pyramids.\n",
      "\n",
      "\n"
     ]
    },
    {
     "name": "stderr",
     "output_type": "stream",
     "text": [
      "\n",
      "\n",
      "  0%|                                                                                                                                                                                        | 0/100 [00:00<?, ?it/s]\u001b[A"
     ]
    },
    {
     "name": "stdout",
     "output_type": "stream",
     "text": [
      "\n"
     ]
    },
    {
     "name": "stderr",
     "output_type": "stream",
     "text": [
      "101it [00:00, 2350.81it/s]                                                                                                                                                                                           "
     ]
    },
    {
     "name": "stdout",
     "output_type": "stream",
     "text": [
      "Marshy grassland Juncus dominated\n",
      "\n",
      "Calculating Image Pyramids.\n",
      "\n",
      "\n",
      "\n",
      "\tMarshy_grassland_Juncus_dominated\n"
     ]
    },
    {
     "name": "stderr",
     "output_type": "stream",
     "text": [
      "\n",
      "\n",
      "  0%|                                                                                                                                                                                        | 0/100 [00:00<?, ?it/s]\u001b[A"
     ]
    },
    {
     "name": "stdout",
     "output_type": "stream",
     "text": [
      "\n"
     ]
    },
    {
     "name": "stderr",
     "output_type": "stream",
     "text": [
      "101it [00:00, 2187.14it/s]                                                                                                                                                                                           "
     ]
    },
    {
     "name": "stdout",
     "output_type": "stream",
     "text": [
      "\n",
      "Bare peat\n",
      "\tBare_peat\n",
      "\n",
      "Calculating Image Pyramids.\n",
      "\n",
      "\n"
     ]
    },
    {
     "name": "stderr",
     "output_type": "stream",
     "text": [
      "\n",
      "\n",
      "  0%|                                                                                                                                                                                        | 0/100 [00:00<?, ?it/s]\u001b[A"
     ]
    },
    {
     "name": "stdout",
     "output_type": "stream",
     "text": [
      "\n"
     ]
    },
    {
     "name": "stderr",
     "output_type": "stream",
     "text": [
      "101it [00:00, 2231.75it/s]                                                                                                                                                                                           "
     ]
    },
    {
     "name": "stdout",
     "output_type": "stream",
     "text": [
      "Lichen/bryophyte heath\n",
      "\n",
      "Calculating Image Pyramids.\n",
      "\n",
      "\n",
      "\n",
      "\tLichenbryophyte_heath\n"
     ]
    },
    {
     "name": "stderr",
     "output_type": "stream",
     "text": [
      "\n",
      "\n",
      "  0%|                                                                                                                                                                                        | 0/100 [00:00<?, ?it/s]\u001b[A"
     ]
    },
    {
     "name": "stdout",
     "output_type": "stream",
     "text": [
      "\n"
     ]
    },
    {
     "name": "stderr",
     "output_type": "stream",
     "text": [
      "101it [00:00, 2427.83it/s]                                                                                                                                                                                           "
     ]
    },
    {
     "name": "stdout",
     "output_type": "stream",
     "text": [
      "\n",
      "Basin mire\n",
      "\tBasin_mire\n",
      "\n",
      "Calculating Image Pyramids.\n",
      "\n",
      "\n"
     ]
    },
    {
     "name": "stderr",
     "output_type": "stream",
     "text": [
      "\n",
      "\n",
      "  0%|                                                                                                                                                                                        | 0/100 [00:00<?, ?it/s]\u001b[A"
     ]
    },
    {
     "name": "stdout",
     "output_type": "stream",
     "text": [
      "\n"
     ]
    },
    {
     "name": "stderr",
     "output_type": "stream",
     "text": [
      "101it [00:00, 2286.32it/s]                                                                                                                                                                                           "
     ]
    },
    {
     "name": "stdout",
     "output_type": "stream",
     "text": [
      "\n",
      "Wet modified bog\n",
      "\tWet_modified_bog\n",
      "\n",
      "Calculating Image Pyramids.\n",
      "\n",
      "\n"
     ]
    },
    {
     "name": "stderr",
     "output_type": "stream",
     "text": [
      "\n",
      "\n",
      "101it [00:00, 2378.52it/s]                                                                                                                                                                                           \u001b[A\n"
     ]
    },
    {
     "name": "stdout",
     "output_type": "stream",
     "text": [
      "\n",
      "Basic dry heath/calcareous grassland mosaic\n",
      "\tBasic_dry_heathcalcareous_grassland_mosaic\n",
      "\n",
      "\n",
      "Calculating Image Pyramids.\n",
      "\n",
      "\n"
     ]
    },
    {
     "name": "stderr",
     "output_type": "stream",
     "text": [
      "\n",
      "101it [00:00, 2400.71it/s]                                                                                                                                                                                           \u001b[A"
     ]
    },
    {
     "name": "stdout",
     "output_type": "stream",
     "text": [
      "\n"
     ]
    },
    {
     "name": "stderr",
     "output_type": "stream",
     "text": [
      "\n"
     ]
    },
    {
     "name": "stdout",
     "output_type": "stream",
     "text": [
      "\n",
      "Fen\n",
      "\tFen\n",
      "\n",
      "Calculating Image Pyramids.\n",
      "\n",
      "\n"
     ]
    },
    {
     "name": "stderr",
     "output_type": "stream",
     "text": [
      "\n",
      "  0%|                                                                                                                                                                                        | 0/100 [00:00<?, ?it/s]\u001b[A"
     ]
    },
    {
     "name": "stdout",
     "output_type": "stream",
     "text": [
      "\n"
     ]
    },
    {
     "name": "stderr",
     "output_type": "stream",
     "text": [
      "101it [00:00, 2252.21it/s]                                                                                                                                                                                           "
     ]
    },
    {
     "name": "stdout",
     "output_type": "stream",
     "text": [
      "\n",
      "Swamp\n",
      "\tSwamp\n",
      "\n",
      "Calculating Image Pyramids.\n",
      "\n",
      "\n"
     ]
    },
    {
     "name": "stderr",
     "output_type": "stream",
     "text": [
      "\n",
      "\n",
      "101it [00:00, 2314.61it/s]                                                                                                                                                                                           \u001b[A"
     ]
    },
    {
     "name": "stdout",
     "output_type": "stream",
     "text": [
      "\n",
      "Planted broadleaved woodland\n",
      "\tPlanted_broadleaved_woodland\n",
      "\n",
      "\n",
      "Calculating Image Pyramids.\n",
      "\n",
      "\n"
     ]
    },
    {
     "name": "stderr",
     "output_type": "stream",
     "text": [
      "\n",
      "\n",
      "101it [00:00, 2538.91it/s]                                                                                                                                                                                           \u001b[A\n"
     ]
    },
    {
     "name": "stdout",
     "output_type": "stream",
     "text": [
      "\n",
      "Unimproved calcareous grassland\n",
      "\tUnimproved_calcareous_grassland\n",
      "\n",
      "\n",
      "Calculating Image Pyramids.\n",
      "\n",
      "\n"
     ]
    },
    {
     "name": "stderr",
     "output_type": "stream",
     "text": [
      "\n",
      "101it [00:00, 2455.21it/s]                                                                                                                                                                                           \u001b[A\n"
     ]
    },
    {
     "name": "stdout",
     "output_type": "stream",
     "text": [
      "\n",
      "\n",
      "\n",
      "Calculating Image Pyramids.\n",
      "\n",
      "\n",
      "Natural rock exposure\n",
      "\tNatural_rock_exposure\n"
     ]
    },
    {
     "name": "stderr",
     "output_type": "stream",
     "text": [
      "\n",
      "101it [00:00, 2542.98it/s]                                                                                                                                                                                           \u001b[A\n"
     ]
    },
    {
     "name": "stdout",
     "output_type": "stream",
     "text": [
      "\n",
      "\n",
      "\n",
      "Calculating Image Pyramids.\n",
      "\n",
      "\n"
     ]
    }
   ],
   "source": [
    "for cls_pxl_id in cls_id_lut:\n",
    "    phase1_code = cls_id_lut[cls_pxl_id]\n",
    "    calc_dist = False\n",
    "    if phase1_code in cls_names_lut:\n",
    "        print(cls_names_lut[phase1_code])\n",
    "        phase1_cls_name_str = rsgislib.tools.utils.check_str(\n",
    "            cls_names_lut[phase1_code],\n",
    "            rm_non_ascii=True,\n",
    "            rm_dashs=True,\n",
    "            rm_spaces=True,\n",
    "            rm_punc=True,\n",
    "        )\n",
    "        print(f\"\\t{phase1_cls_name_str}\")\n",
    "        dist_img = os.path.join(phase1_dist_dir, f\"{phase1_cls_name_str}_dist.tif\")\n",
    "        calc_dist = True\n",
    "    elif phase1_code == \"mosaic\":\n",
    "        dist_img = os.path.join(phase1_dist_dir, \"mosaic_dist.tif\")\n",
    "        calc_dist = True\n",
    "    if calc_dist:\n",
    "        rsgislib.imagecalc.calc_dist_to_img_vals(\n",
    "            phase1_img,\n",
    "            dist_img,\n",
    "            pxl_vals=[cls_pxl_id],\n",
    "            img_band=1,\n",
    "            gdalformat=\"GTIFF\",\n",
    "            max_dist=None,\n",
    "            no_data_val=None,\n",
    "            out_no_data_val=-9999,\n",
    "            unit_geo=True,\n",
    "        )\n",
    "        rsgislib.imageutils.pop_img_stats(\n",
    "            dist_img, use_no_data=True, no_data_val=-9999, calc_pyramids=True\n",
    "        )"
   ]
  },
  {
   "cell_type": "markdown",
   "id": "b7266197-ddcf-4faf-b527-172f55d47b3d",
   "metadata": {},
   "source": [
    "## Make Some Maps\n",
    "\n",
    "You will probably want to open the data within QGIS or similar to visualise the data but within the notebook we'll create some maps to see what the data looks like"
   ]
  },
  {
   "cell_type": "code",
   "execution_count": 81,
   "id": "7ea8b1c6-9d85-42f6-8f83-88cea1303a9d",
   "metadata": {},
   "outputs": [],
   "source": [
    "import matplotlib.pyplot as plt\n",
    "import rsgislib.tools.mapping"
   ]
  },
  {
   "cell_type": "code",
   "execution_count": 84,
   "id": "99469151-66fe-4c0a-8a6d-6145de04485d",
   "metadata": {},
   "outputs": [
    {
     "name": "stdout",
     "output_type": "stream",
     "text": [
      "Image Data Size: 757 x 596\n"
     ]
    },
    {
     "data": {
      "image/png": "[encoded data removed]",
      "text/plain": [
       "<Figure size 500x500 with 1 Axes>"
      ]
     },
     "metadata": {},
     "output_type": "display_data"
    }
   ],
   "source": [
    "# Create a plot using the matplotlib library\n",
    "fig, ax = plt.subplots(figsize=(5, 5))\n",
    "\n",
    "rsgislib.tools.mapping.create_raster_cmap_img_map(\n",
    "    ax,\n",
    "    input_img=elevation_img,\n",
    "    img_band=1,\n",
    "    title_str=\"Elevation\",\n",
    ")\n",
    "ax.tick_params(axis=\"x\", labelrotation=45)"
   ]
  },
  {
   "cell_type": "code",
   "execution_count": 86,
   "id": "6bd1773a-0bb2-4d4d-8d2c-0b9ded2226ba",
   "metadata": {},
   "outputs": [
    {
     "name": "stdout",
     "output_type": "stream",
     "text": [
      "Image Data Size: 757 x 596\n"
     ]
    },
    {
     "data": {
      "image/png": "[encoded data removed]",
      "text/plain": [
       "<Figure size 500x500 with 1 Axes>"
      ]
     },
     "metadata": {},
     "output_type": "display_data"
    }
   ],
   "source": [
    "# Create a plot using the matplotlib library\n",
    "fig, ax = plt.subplots(figsize=(5, 5))\n",
    "\n",
    "rsgislib.tools.mapping.create_raster_cmap_img_map(\n",
    "    ax,\n",
    "    input_img=\"phase1_dist_imgs/Marshy_grassland_Molinia_dominated_dist.tif\",\n",
    "    img_band=1,\n",
    "    title_str=\"Dist. Marshy Grassland (Molinia Dominated)\",\n",
    ")\n",
    "ax.tick_params(axis=\"x\", labelrotation=45)"
   ]
  },
  {
   "cell_type": "code",
   "execution_count": null,
   "id": "208bf81f-011b-47aa-b79e-510b47138c81",
   "metadata": {},
   "outputs": [],
   "source": []
  },
  {
   "cell_type": "code",
   "execution_count": null,
   "id": "97cae7be-60da-4dbc-b193-cb0ab3fde725",
   "metadata": {},
   "outputs": [],
   "source": []
  },
  {
   "cell_type": "code",
   "execution_count": null,
   "id": "12159e4e-be0a-429d-b2db-5c5c02d0bdb0",
   "metadata": {},
   "outputs": [],
   "source": []
  }
 ],
 "metadata": {
  "kernelspec": {
   "display_name": "Python 3 (ipykernel)",
   "language": "python",
   "name": "python3"
  },
  "language_info": {
   "codemirror_mode": {
    "name": "ipython",
    "version": 3
   },
   "file_extension": ".py",
   "mimetype": "text/x-python",
   "name": "python",
   "nbconvert_exporter": "python",
   "pygments_lexer": "ipython3",
   "version": "3.12.4"
  }
 },
 "nbformat": 4,
 "nbformat_minor": 5
}
