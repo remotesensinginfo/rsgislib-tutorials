{
 "cells": [
  {
   "cell_type": "markdown",
   "id": "314e0e19-6b39-44c3-ab5d-ce0312e541cf",
   "metadata": {},
   "source": [
    "# Data Normalisation\n",
    "\n",
    "Some classifiers (e.g., Support Vector Machines) require the image pixel values to be normalised so they are within the same range. If you were merging data from different modalities, this would be even more important (e.g., dB values from SAR are negative). Within the Sentinel-2 data the range of values for each band can be quite different, for example in the visible bands range is commonly quite low, while in the near infrared (NIR) the range is high. \n",
    "\n",
    "There are different approaches to normalising the data but for this tutorial we will try two:\n",
    "\n",
    "- minimum -- maximum normalisation\n",
    "- standard deviation normalisation\n",
    "\n",
    "Following the application of the normalisation to the input imagery, the image pixel values will be extracted from the images. This will result in three training sets, the two normalised and original datasets.\n",
    "\n",
    "## Min-Max Normalisation\n",
    "\n",
    "Applied on a per-band basis this normalisation calculates the minimum and maximum pixel values and then uses those to scale the rest of the data to the same range:\n",
    "\n",
    "$$\n",
    "out_X = \\frac{X - min}{max-min} \\times out_{range}\n",
    "$$\n",
    "\n",
    "Where $X$ is the current pixel, $min$ is the minimum for the whole image band, $max$ is the maximum for the whole image band, $out_{range}$ is the maximum image pixel value within the output image and $out_X$ is the output image pixel value written to the output image.\n",
    "\n",
    "## Standard Deviation Normalisation\n",
    "\n",
    "Also applied on a per-band basis, this normalisation calculates the $mean$ and standard deviation ($stdev$) for each image band. The user provides the number of standard deviations ($n_{userstdevs}$) the data should be normalised over (e.g., 2 standard deviations). This provides the upper ($up_{stdev}$) and lower ($low_{stdev}$) bounds for the normalisations. \n",
    "\n",
    "$$\n",
    "low_{stdev} = mean - (std \\times n_{userstdevs}) \\\\\n",
    "\\text{if } min > low_{stdev} \\text{ then } low_{stdev} = min \\\\\n",
    "up_{stdev} = mean + (std \\times n_{userstdevs}) \\\\\n",
    "\\text{if } max < up_{stdev} \\text{ then } up_{stdev} = max \\\\\n",
    "out_X = \\frac{X - low_{stdev}}{up_{std}-low_{stdev}} \\times out_{range}\n",
    "$$\n",
    "\n",
    "Where $X$ is the current pixel, $min$ is the minimum for the whole image band, $max$ is the maximum for the whole image band, $out_{range}$ is the maximum image pixel value within the output image and $out_X$ is the output image pixel value written to the output image.\n",
    "\n",
    "\n",
    "## Running Notebook\n",
    "\n",
    "The notebook has been run and saved with the outputs so you can see what the outputs should be and so the notebook and be browsed online without having to run the notebook for it to make sense. \n",
    "\n",
    "If you are running the notebook for yourself it is recommended that you clear the existing outputs which can be done by running one of the following options depending on what system you are using:\n",
    "\n",
    "**Jupyter-lab**:\n",
    "\n",
    "> \\> _Edit_ \\> _'Clear All Outputs'_\n",
    "\n",
    "**Jupyter-notebook**:\n",
    "\n",
    "> \\> _Cell_ \\> _'All Outputs'_ \\> _Clear_\n"
   ]
  },
  {
   "cell_type": "markdown",
   "id": "f11e3894-61cb-41f4-8246-635926296b79",
   "metadata": {},
   "source": [
    "# 1. Import Modules"
   ]
  },
  {
   "cell_type": "code",
   "execution_count": 1,
   "id": "06ea142e-6ad9-40d3-a1e2-f03d7e716e1d",
   "metadata": {},
   "outputs": [],
   "source": [
    "import os\n",
    "\n",
    "import rsgislib\n",
    "import rsgislib.imageutils\n",
    "from rsgislib.imageutils import STRETCH_LINEARMINMAX, STRETCH_LINEARSTDDEV"
   ]
  },
  {
   "cell_type": "markdown",
   "id": "3590524a-b8f1-494e-8e3c-583c9117f94e",
   "metadata": {},
   "source": [
    "# 2. Define the input image"
   ]
  },
  {
   "cell_type": "code",
   "execution_count": 2,
   "id": "81b4ffb3-0981-4a09-98cc-f79646ac58e2",
   "metadata": {},
   "outputs": [],
   "source": [
    "# The input image\n",
    "input_img = \"../data/sen2_20180629_t30uvd_orb037_osgb_stdsref_20m.tif\""
   ]
  },
  {
   "cell_type": "markdown",
   "id": "36e2b189-c1d7-41ec-991c-54569b957cb4",
   "metadata": {},
   "source": [
    "# 3. Set up GTIFF options for output files "
   ]
  },
  {
   "cell_type": "code",
   "execution_count": 3,
   "id": "0f39cb3a-86d9-4934-950b-7ccab23dd2a7",
   "metadata": {},
   "outputs": [],
   "source": [
    "# Define environmental variable so outputted GeoTIFFs are tiled and compressed.\n",
    "rsgislib.imageutils.set_env_vars_lzw_gtiff_outs()"
   ]
  },
  {
   "cell_type": "markdown",
   "id": "68ffa284-1b18-4e38-8bdb-0eb2e5f2c96b",
   "metadata": {},
   "source": [
    "# 4. Create the outputs directory"
   ]
  },
  {
   "cell_type": "code",
   "execution_count": 4,
   "id": "392ea44f-4f93-46ed-87b9-ad974dbe66a2",
   "metadata": {},
   "outputs": [],
   "source": [
    "# The output directory.\n",
    "out_dir = \"norm_images\"\n",
    "\n",
    "# if the output directory does not exist\n",
    "# then create it.\n",
    "if not os.path.exists(out_dir):\n",
    "    os.mkdir(out_dir)"
   ]
  },
  {
   "cell_type": "markdown",
   "id": "275196df-035b-4054-a8f3-2543257a6bea",
   "metadata": {},
   "source": [
    "# 5. Apply Linear Min--Max Normalisation"
   ]
  },
  {
   "cell_type": "code",
   "execution_count": null,
   "id": "bfe0ed3e-b50e-4be0-a553-da81c386f448",
   "metadata": {},
   "outputs": [],
   "source": [
    "# The output image file for the linear normalisation\n",
    "output_lin_img = os.path.join(\n",
    "    out_dir, \"sen2_20180629_t30uvd_orb037_osgb_stdsref_norm_linear.tif\"\n",
    ")\n",
    "\n",
    "# Run the linear normalisation where all the input image\n",
    "# band will independently be normalised so the minimum\n",
    "# value is 1 and the maximum value is 1000.\n",
    "rsgislib.imageutils.normalise_img_pxl_vals(\n",
    "    input_img=input_img,\n",
    "    output_img=output_lin_img,\n",
    "    gdalformat=\"GTIFF\",\n",
    "    datatype=rsgislib.TYPE_16UINT,\n",
    "    in_no_data_val=0,\n",
    "    out_no_data_val=0,\n",
    "    out_min=1,\n",
    "    out_max=1000,\n",
    "    stretch_type=STRETCH_LINEARMINMAX,\n",
    ")\n",
    "\n",
    "# Calculate image statistics and pyramids for the output image\n",
    "rsgislib.imageutils.pop_img_stats(\n",
    "    output_lin_img, use_no_data=True, no_data_val=0, calc_pyramids=True\n",
    ")"
   ]
  },
  {
   "cell_type": "markdown",
   "id": "cf7d0427-0fd0-433f-bd38-1f5d547b476a",
   "metadata": {},
   "source": [
    "# 6. Apply Linear Standard Deviation Normalisation\n"
   ]
  },
  {
   "cell_type": "code",
   "execution_count": null,
   "id": "58970942-52aa-461b-8cd3-4f2eaa24c8b4",
   "metadata": {},
   "outputs": [],
   "source": [
    "# The output image file for the standard deviation normalisation\n",
    "output_sd_img = os.path.join(\n",
    "    out_dir, \"sen2_20180629_t30uvd_orb037_osgb_stdsref_norm_stddev.tif\"\n",
    ")\n",
    "\n",
    "# Run the standard deviation normalisation\n",
    "rsgislib.imageutils.normalise_img_pxl_vals(\n",
    "    input_img,\n",
    "    output_sd_img,\n",
    "    \"GTIFF\",\n",
    "    rsgislib.TYPE_16UINT,\n",
    "    in_no_data_val=0,\n",
    "    out_no_data_val=0,\n",
    "    out_min=0,\n",
    "    out_max=1000,\n",
    "    stretch_type=STRETCH_LINEARSTDDEV,\n",
    "    stretch_param=2,\n",
    ")\n",
    "\n",
    "# Calculate image statistics and pyramids for the output image\n",
    "rsgislib.imageutils.pop_img_stats(\n",
    "    output_sd_img, use_no_data=True, no_data_val=0, calc_pyramids=True\n",
    ")"
   ]
  },
  {
   "cell_type": "code",
   "execution_count": null,
   "id": "93b7d69b-c686-4afa-a752-97eddab8933a",
   "metadata": {},
   "outputs": [],
   "source": []
  },
  {
   "cell_type": "code",
   "execution_count": null,
   "id": "960db836-c9fe-48a3-b4ac-64b99f83bfdc",
   "metadata": {},
   "outputs": [],
   "source": []
  }
 ],
 "metadata": {
  "kernelspec": {
   "display_name": "Python 3 (ipykernel)",
   "language": "python",
   "name": "python3"
  },
  "language_info": {
   "codemirror_mode": {
    "name": "ipython",
    "version": 3
   },
   "file_extension": ".py",
   "mimetype": "text/x-python",
   "name": "python",
   "nbconvert_exporter": "python",
   "pygments_lexer": "ipython3",
   "version": "3.10.11"
  }
 },
 "nbformat": 4,
 "nbformat_minor": 5
}
