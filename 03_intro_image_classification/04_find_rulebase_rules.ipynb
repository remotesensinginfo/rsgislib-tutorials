{
 "cells": [
  {
   "cell_type": "markdown",
   "id": "45a5665e-bafb-448e-8260-1e8ffc3c37f8",
   "metadata": {},
   "source": [
    "# Introduction\n",
    "\n",
    "In the previous notebook we explored creating a rule based classifier using the `band_math` tool to apply the classification to the image data. We saw how trying to define rule can be time consuming and difficult to do. However, we can try to use our machine learning algorithms to help identify some rules. \n",
    "\n",
    "Our rule based classifier is usually a decision tree classifier and helpfully scikit-learn has a decision tree classifier so could we use that to help define some thresholds?\n",
    "\n",
    "The first part of the notebook follows the same set of steps we'd follow with a normal machine learning supervised classification:\n",
    "\n",
    " * Define samples\n",
    " * Extract samples\n",
    " * Split training, testing and validation data\n",
    " * Train Classifier\n"
   ]
  },
  {
   "cell_type": "markdown",
   "id": "a8b96a0c-59af-431c-b132-2b1a996a9148",
   "metadata": {},
   "source": [
    "## Running Notebook\n",
    "\n",
    "The notebook has been run and saved with the outputs so you can see what the outputs should be and so the notebook and be browsed online without having to run the notebook for it to make sense. \n",
    "\n",
    "If you are running the notebook for yourself it is recommended that you clear the existing outputs which can be done by running one of the following options depending on what system you are using:\n",
    "\n",
    "**Jupyter-lab**:\n",
    "\n",
    "> \\> _Edit_ \\> _'Clear All Outputs'_\n",
    "\n",
    "**Jupyter-notebook**:\n",
    "\n",
    "> \\> _Cell_ \\> _'All Outputs'_ \\> _Clear_\n",
    "\n"
   ]
  },
  {
   "cell_type": "markdown",
   "id": "9cdf070d-de05-4cf8-82ed-2f6918348bdd",
   "metadata": {
    "tags": []
   },
   "source": [
    "# 1. Import modules"
   ]
  },
  {
   "cell_type": "code",
   "execution_count": 1,
   "id": "7573e9d5-1a13-4fe3-bc11-aec24f104aa6",
   "metadata": {},
   "outputs": [],
   "source": [
    "# Import modules from python standard library\n",
    "import os\n",
    "os.environ[\"USE_PYGEOS\"] = \"0\"\n",
    "\n",
    "# Import the matplotlib plotting module and set it to work within\n",
    "# a notebook environment.\n",
    "%matplotlib inline\n",
    "import matplotlib\n",
    "import matplotlib.colors as mcolors\n",
    "import matplotlib.pyplot as plt\n",
    "\n",
    "# Import the RSGISLib modules for the notebook\n",
    "import rsgislib\n",
    "import rsgislib.classification\n",
    "import rsgislib.classification.classsklearn\n",
    "import rsgislib.imagecalc.calcindices\n",
    "import rsgislib.tools.filetools\n",
    "import rsgislib.tools.mapping\n",
    "import rsgislib.vectorutils\n",
    "import rsgislib.zonalstats\n",
    "\n",
    "# Import the decision tree classifier from scikit-learn\n",
    "from sklearn.tree import DecisionTreeClassifier"
   ]
  },
  {
   "cell_type": "markdown",
   "id": "0eee0582-9be2-4ac2-9a8f-9b1f1c3c9eae",
   "metadata": {},
   "source": [
    "## 1.1 Define the input image files\n",
    "\n",
    "The input images files are defined:"
   ]
  },
  {
   "cell_type": "code",
   "execution_count": 2,
   "id": "4406772d-6509-4f11-ab78-e52b3432c8f4",
   "metadata": {},
   "outputs": [
    {
     "name": "stdout",
     "output_type": "stream",
     "text": [
      "Image: ../data/sen2_20180629_t30uvd_orb037_osgb_stdsref_20m.tif\n",
      "\t Variable 'red' is band 3\n",
      "\t Variable 'nir' is band 8\n",
      "New image width = 3295 height = 2880 bands = 1\n",
      "\n",
      "\n",
      "\n",
      "Calculating Image Pyramids.\n",
      "\n",
      "Image: ../data/sen2_20180629_t30uvd_orb037_osgb_stdsref_20m.tif\n",
      "\t Variable 'green' is band 2\n",
      "\t Variable 'swir' is band 9\n",
      "New image width = 3295 height = 2880 bands = 1\n",
      "\n",
      "\n",
      "\n",
      "Calculating Image Pyramids.\n",
      "\n"
     ]
    }
   ],
   "source": [
    "# Input Sentinel-2 image file with 20 m resolution pixels.\n",
    "input_img = \"../data/sen2_20180629_t30uvd_orb037_osgb_stdsref_20m.tif\"\n",
    "\n",
    "# A valid pixel mask for the input image - this is required for later\n",
    "# steps but note that for this particular image all the pixel values\n",
    "# are valid (i.e., there aren't are no data regions).\n",
    "in_msk_img = \"../data/sen2_20180629_t30uvd_orb037_osgb_stdsref_20m_vmsk.tif\"\n",
    "\n",
    "# The output NDVI image file\n",
    "ndvi_output_img = \"sen2_20180629_aber_ndvi.kea\"\n",
    "\n",
    "rsgislib.imagecalc.calcindices.calc_ndvi(\n",
    "    input_img,\n",
    "    img_red_band=3,\n",
    "    img_nir_band=8,\n",
    "    output_img=ndvi_output_img,\n",
    "    calc_stats=True,\n",
    "    gdalformat=\"KEA\",\n",
    ")\n",
    "\n",
    "# The output NDWI image file\n",
    "ndwi_output_img = \"sen2_20180629_aber_ndwi.kea\"\n",
    "\n",
    "rsgislib.imagecalc.calcindices.calc_gmndwi(\n",
    "    input_img,\n",
    "    img_green_band=2,\n",
    "    img_swir1_band=9,\n",
    "    output_img=ndwi_output_img,\n",
    "    calc_stats=True,\n",
    "    gdalformat=\"KEA\",\n",
    ")"
   ]
  },
  {
   "cell_type": "markdown",
   "id": "9b48f1d1-ea6e-490a-9520-27efef77e0c1",
   "metadata": {
    "tags": []
   },
   "source": [
    "# 2. Defining Training Samples\n",
    "\n",
    "Samples are define using polygon or point vector layers, where each layer is defines a single class where multiple polygons/points are used to identify pixels belonging the the class of interest. It should be noted that the vector layer needs to be the same projection as the input image(s).\n",
    "\n",
    "Samples are defined by either referencing an existing dataset or manually digitising regions using a desktop GIS. [QGIS](https://www.qgis.org) is freely available and easiest to access desktop GIS which can be used for this purpose but other desktop GIS packages (e.g., ArcGIS) are also available.\n",
    "\n",
    "For this analysis the following Geopackage (GPKG) file as a number of layers defining the training data:\n"
   ]
  },
  {
   "cell_type": "code",
   "execution_count": 3,
   "id": "3b04e147-6634-49e0-a761-15c772ed8d88",
   "metadata": {},
   "outputs": [],
   "source": [
    "vec_train_file = \"../data/cls_data/aber_sen2_cls_training.gpkg\""
   ]
  },
  {
   "cell_type": "markdown",
   "id": "18e17fa8-3aa4-47a9-b6da-fe193ac0dbbb",
   "metadata": {},
   "source": [
    "## 2.1 List the vector layers\n",
    "\n",
    "To find out which layers are within the vector layer and therefore the classes training data has been provided for this analysis:\n"
   ]
  },
  {
   "cell_type": "code",
   "execution_count": 4,
   "id": "18c60226-a41a-4951-9c27-4ba36e5a4d55",
   "metadata": {},
   "outputs": [
    {
     "name": "stdout",
     "output_type": "stream",
     "text": [
      "1:\tArtificial_Surfaces\n",
      "2:\tBare_Rock_Sand\n",
      "3:\tConifer_Forest\n",
      "4:\tDeciduous_Forest\n",
      "5:\tGrass_Long\n",
      "6:\tGrass_Short\n",
      "7:\tNonPhotosynthetic_Vegetation\n",
      "8:\tScrub\n",
      "9:\tWater_Training\n",
      "10:\tBracken\n"
     ]
    }
   ],
   "source": [
    "# Get the list of layers within the vector file.\n",
    "lyr_names = rsgislib.vectorutils.get_vec_lyrs_lst(vec_train_file)\n",
    "\n",
    "# Print out the layer names by looping through the list of layers returned.\n",
    "# Note. the enumerate function returns the array index and the list value:\n",
    "for i, lyr_name in enumerate(lyr_names):\n",
    "    print(f\"{i+1}:\\t{lyr_name}\")"
   ]
  },
  {
   "cell_type": "markdown",
   "id": "a19fff80-3beb-4567-a0d2-89b1344de46c",
   "metadata": {
    "tags": []
   },
   "source": [
    "# 3. Extract Training Samples\n",
    "\n",
    "For the analysis, individual pixel values are extracted and stored in a [HDF5](https://www.hdfgroup.org/solutions/hdf5/) which allows for that data to be stored and manipulated (e.g., pixels values from multiple images can be merged).\n",
    "\n",
    "To extract the training samples (i.e., individual pixel values) using the defined vector layer the vector layers first need to be rasterised to the same pixel grid as the input image(s). To simplify the implementation of this a helper function has been provided: `rsgislib.classification.get_class_training_data`. This tutorial will therefore make use of this helper function.\n",
    "\n",
    "\n"
   ]
  },
  {
   "cell_type": "markdown",
   "id": "62361d45-4dc0-4fc9-8825-cbc106acfab0",
   "metadata": {
    "tags": []
   },
   "source": [
    "## 3.1 Define Images and Bands for Classification\n",
    "\n",
    "Before the image pixel values can be extracted or the classification performed the relevant images and bands within those images need to be defined. Clearly, these need to defined identically for both extracting the image samples and the classification step. If these are not identically defined then the trained classifer will not work as intended which is likely to produce very poor classification results.\n",
    "\n",
    "To define the images and bands a list of `rsgislib.imageutils.ImageBandInfo` objects is provided to the relevant RSGISLib functions:\n"
   ]
  },
  {
   "cell_type": "code",
   "execution_count": 5,
   "id": "ae1aed87-9eab-4a55-a60f-174f6f3ddf57",
   "metadata": {},
   "outputs": [],
   "source": [
    "img_band_info = list()\n",
    "img_band_info.append(\n",
    "    rsgislib.imageutils.ImageBandInfo(file_name=ndvi_output_img, name=\"ndvi\", bands=[1])\n",
    ")\n",
    "img_band_info.append(\n",
    "    rsgislib.imageutils.ImageBandInfo(file_name=ndwi_output_img, name=\"ndwi\", bands=[1])\n",
    ")\n",
    "img_band_info.append(\n",
    "    rsgislib.imageutils.ImageBandInfo(\n",
    "        file_name=input_img, name=\"sen2\", bands=[1, 2, 3, 4, 5, 6, 7, 8, 9, 10]\n",
    "    )\n",
    ")"
   ]
  },
  {
   "cell_type": "markdown",
   "id": "b5abdbe6-b905-47a0-af18-f1a0b98f73a7",
   "metadata": {},
   "source": [
    "## 3.2 Define the classes and the vector samples\n",
    "\n",
    "For the helper function the class names and vector layers needed to be define as a list of `rsgislib.classification.ClassVecSamplesInfoObj` objects:\n",
    "\n",
    "> Note. the `id` will be the output pixel value for the class in the output image.\n"
   ]
  },
  {
   "cell_type": "code",
   "execution_count": 6,
   "id": "cd55bb37-aa94-4915-8d86-dd44a1a5a2ff",
   "metadata": {},
   "outputs": [],
   "source": [
    "class_vec_sample_info = list()\n",
    "\n",
    "# Define the file name of the samples HDF5 file, which will be created\n",
    "artificial_surfaces_h5 = \"artificial_surfaces_smpls.h5\"\n",
    "class_vec_sample_info.append(\n",
    "    rsgislib.classification.ClassVecSamplesInfoObj(\n",
    "        id=1,\n",
    "        class_name=\"artificial_surfaces\",\n",
    "        vec_file=vec_train_file,\n",
    "        vec_lyr=\"Artificial_Surfaces\",\n",
    "        file_h5=artificial_surfaces_h5,\n",
    "    )\n",
    ")\n",
    "\n",
    "# Define the file name of the samples HDF5 file, which will be created\n",
    "bare_rock_sand_h5 = \"bare_rock_sand_smpls.h5\"\n",
    "class_vec_sample_info.append(\n",
    "    rsgislib.classification.ClassVecSamplesInfoObj(\n",
    "        id=2,\n",
    "        class_name=\"bare_rock_sand\",\n",
    "        vec_file=vec_train_file,\n",
    "        vec_lyr=\"Bare_Rock_Sand\",\n",
    "        file_h5=bare_rock_sand_h5,\n",
    "    )\n",
    ")\n",
    "\n",
    "\n",
    "# Define the file name of the samples HDF5 file, which will be created\n",
    "conifer_forest_h5 = \"conifer_forest_smpls.h5\"\n",
    "class_vec_sample_info.append(\n",
    "    rsgislib.classification.ClassVecSamplesInfoObj(\n",
    "        id=3,\n",
    "        class_name=\"conifer_forest\",\n",
    "        vec_file=vec_train_file,\n",
    "        vec_lyr=\"Conifer_Forest\",\n",
    "        file_h5=conifer_forest_h5,\n",
    "    )\n",
    ")\n",
    "\n",
    "# Define the file name of the samples HDF5 file, which will be created\n",
    "deciduous_forest_h5 = \"deciduous_forest_smpls.h5\"\n",
    "class_vec_sample_info.append(\n",
    "    rsgislib.classification.ClassVecSamplesInfoObj(\n",
    "        id=4,\n",
    "        class_name=\"deciduous_forest\",\n",
    "        vec_file=vec_train_file,\n",
    "        vec_lyr=\"Deciduous_Forest\",\n",
    "        file_h5=deciduous_forest_h5,\n",
    "    )\n",
    ")\n",
    "\n",
    "# Define the file name of the samples HDF5 file, which will be created\n",
    "grass_long_h5 = \"grass_long_smpls.h5\"\n",
    "class_vec_sample_info.append(\n",
    "    rsgislib.classification.ClassVecSamplesInfoObj(\n",
    "        id=5,\n",
    "        class_name=\"grass_long\",\n",
    "        vec_file=vec_train_file,\n",
    "        vec_lyr=\"Grass_Long\",\n",
    "        file_h5=grass_long_h5,\n",
    "    )\n",
    ")\n",
    "\n",
    "# Define the file name of the samples HDF5 file, which will be created\n",
    "grass_short_h5 = \"grass_short_smpls.h5\"\n",
    "class_vec_sample_info.append(\n",
    "    rsgislib.classification.ClassVecSamplesInfoObj(\n",
    "        id=6,\n",
    "        class_name=\"grass_short\",\n",
    "        vec_file=vec_train_file,\n",
    "        vec_lyr=\"Grass_Short\",\n",
    "        file_h5=grass_short_h5,\n",
    "    )\n",
    ")\n",
    "\n",
    "# Define the file name of the samples HDF5 file, which will be created\n",
    "nonphoto_veg_h5 = \"nonphoto_veg_smpls.h5\"\n",
    "class_vec_sample_info.append(\n",
    "    rsgislib.classification.ClassVecSamplesInfoObj(\n",
    "        id=7,\n",
    "        class_name=\"nonphoto_veg\",\n",
    "        vec_file=vec_train_file,\n",
    "        vec_lyr=\"NonPhotosynthetic_Vegetation\",\n",
    "        file_h5=nonphoto_veg_h5,\n",
    "    )\n",
    ")\n",
    "\n",
    "# Define the file name of the samples HDF5 file, which will be created\n",
    "scrub_h5 = \"scrub_smpls.h5\"\n",
    "class_vec_sample_info.append(\n",
    "    rsgislib.classification.ClassVecSamplesInfoObj(\n",
    "        id=8,\n",
    "        class_name=\"scrub\",\n",
    "        vec_file=vec_train_file,\n",
    "        vec_lyr=\"Scrub\",\n",
    "        file_h5=scrub_h5,\n",
    "    )\n",
    ")\n",
    "\n",
    "# Define the file name of the samples HDF5 file, which will be created\n",
    "water_h5 = \"water_smpls.h5\"\n",
    "class_vec_sample_info.append(\n",
    "    rsgislib.classification.ClassVecSamplesInfoObj(\n",
    "        id=9,\n",
    "        class_name=\"water\",\n",
    "        vec_file=vec_train_file,\n",
    "        vec_lyr=\"Water_Training\",\n",
    "        file_h5=water_h5,\n",
    "    )\n",
    ")\n",
    "\n",
    "# Define the file name of the samples HDF5 file, which will be created\n",
    "bracken_h5 = \"bracken_smpls.h5\"\n",
    "class_vec_sample_info.append(\n",
    "    rsgislib.classification.ClassVecSamplesInfoObj(\n",
    "        id=10,\n",
    "        class_name=\"bracken\",\n",
    "        vec_file=vec_train_file,\n",
    "        vec_lyr=\"Bracken\",\n",
    "        file_h5=bracken_h5,\n",
    "    )\n",
    ")"
   ]
  },
  {
   "cell_type": "markdown",
   "id": "c24bd0e1-01d2-4e64-ab6e-ea96d0814e10",
   "metadata": {
    "tags": []
   },
   "source": [
    "## 3.3 Create a temporary output directory\n",
    "\n",
    "The helper function requires a directory for temporary outputs (e.g., rastered vector layers) to be written to during the processing. The following code will test as to whether the directory already exists and if not it will created it:"
   ]
  },
  {
   "cell_type": "code",
   "execution_count": 7,
   "id": "49c5a3c4-0798-42fd-bfd2-57ebd44137c9",
   "metadata": {},
   "outputs": [],
   "source": [
    "tmp_dir = \"./tmp\"\n",
    "\n",
    "if not os.path.exists(tmp_dir):\n",
    "    os.mkdir(tmp_dir)"
   ]
  },
  {
   "cell_type": "markdown",
   "id": "c3a96170-61db-4816-8db2-34f2a6b64352",
   "metadata": {},
   "source": [
    "## 3.4 Perform Sample Extraction\n",
    "\n",
    "The next step will now use the `rsgislib.classification.get_class_training_data` helper function to extract the sample data:\n"
   ]
  },
  {
   "cell_type": "code",
   "execution_count": 8,
   "id": "c253038b-c6f8-47d1-a125-3d7cc3ecbe0d",
   "metadata": {},
   "outputs": [
    {
     "name": "stdout",
     "output_type": "stream",
     "text": [
      "Creating output image using input image\n",
      "Running Rasterise now...\n",
      "\n",
      "Get Image Min and Max.\n",
      "\n",
      "Creating output image using input image\n",
      "Get Image Histogram.\n",
      "\n",
      "Adding Histogram and Colour Table to image file\n",
      "Calculating Image Pyramids.\n",
      "\n",
      "\n",
      "\n",
      "Running Rasterise now...\n",
      "Get Image Min and Max.\n",
      "\n",
      "Creating output image using input image\n",
      "Running Rasterise now...\n",
      "Get Image Histogram.\n",
      "\n",
      "Adding Histogram and Colour Table to image file\n",
      "Calculating Image Pyramids.\n",
      "\n",
      "\n",
      "\n",
      "Get Image Min and Max.\n",
      "\n",
      "Creating output image using input image\n",
      "Get Image Histogram.\n",
      "\n",
      "Adding Histogram and Colour Table to image file\n",
      "Calculating Image Pyramids.\n",
      "\n",
      "\n",
      "\n",
      "Running Rasterise now...\n",
      "Get Image Min and Max.\n",
      "\n",
      "Creating output image using input image\n",
      "Get Image Histogram.\n",
      "\n",
      "Adding Histogram and Colour Table to image file\n",
      "Calculating Image Pyramids.\n",
      "\n",
      "\n",
      "Running Rasterise now...\n",
      "\n",
      "Get Image Min and Max.\n",
      "\n",
      "Get Image Histogram.\n",
      "\n",
      "Adding Histogram and Colour Table to image file\n",
      "Calculating Image Pyramids.\n",
      "\n",
      "\n",
      "Creating output image using input image\n",
      "\n",
      "Running Rasterise now...\n",
      "Get Image Min and Max.\n",
      "\n",
      "Get Image Histogram.\n",
      "\n",
      "Adding Histogram and Colour Table to image file\n",
      "Calculating Image Pyramids.\n",
      "\n",
      "Creating output image using input image\n",
      "\n",
      "Running Rasterise now...\n",
      "\n",
      "Get Image Min and Max.\n",
      "\n",
      "Get Image Histogram.\n",
      "\n",
      "Adding Histogram and Colour Table to image file\n",
      "Calculating Image Pyramids.\n",
      "\n",
      "\n",
      "Creating output image using input image\n",
      "Running Rasterise now...\n",
      "\n",
      "Get Image Min and Max.\n",
      "\n",
      "Get Image Histogram.\n",
      "\n",
      "Adding Histogram and Colour Table to image file\n",
      "Calculating Image Pyramids.\n",
      "\n",
      "Creating output image using input image\n",
      "Running Rasterise now...\n",
      "\n",
      "\n",
      "Get Image Min and Max.\n",
      "\n",
      "Get Image Histogram.\n",
      "\n",
      "Adding Histogram and Colour Table to image file\n",
      "Calculating Image Pyramids.\n",
      "\n",
      "\n",
      "Creating output image using input image\n",
      "\n",
      "Running Rasterise now...\n",
      "Get Image Min and Max.\n",
      "\n",
      "Get Image Histogram.\n",
      "\n",
      "Adding Histogram and Colour Table to image file\n",
      "Calculating Image Pyramids.\n",
      "\n",
      "\n"
     ]
    }
   ],
   "source": [
    "cls_smpls_info = rsgislib.classification.get_class_training_data(\n",
    "    img_band_info, class_vec_sample_info, tmp_dir, ref_img=in_msk_img\n",
    ")"
   ]
  },
  {
   "cell_type": "code",
   "execution_count": 9,
   "id": "a7b9f38c-c86c-4dd7-a261-49e5f3547100",
   "metadata": {},
   "outputs": [
    {
     "data": {
      "text/plain": [
       "{'artificial_surfaces': 1: artificial_surfaces_smpls.h5, (121, 91, 81),\n",
       " 'bare_rock_sand': 2: bare_rock_sand_smpls.h5, (108, 161, 94),\n",
       " 'conifer_forest': 3: conifer_forest_smpls.h5, (23, 80, 141),\n",
       " 'deciduous_forest': 4: deciduous_forest_smpls.h5, (110, 252, 36),\n",
       " 'grass_long': 5: grass_long_smpls.h5, (48, 20, 173),\n",
       " 'grass_short': 6: grass_short_smpls.h5, (148, 168, 61),\n",
       " 'nonphoto_veg': 7: nonphoto_veg_smpls.h5, (132, 89, 216),\n",
       " 'scrub': 8: scrub_smpls.h5, (204, 5, 152),\n",
       " 'water': 9: water_smpls.h5, (243, 84, 71),\n",
       " 'bracken': 10: bracken_smpls.h5, (48, 204, 129)}"
      ]
     },
     "execution_count": 9,
     "metadata": {},
     "output_type": "execute_result"
    }
   ],
   "source": [
    "# Output the returned class samples info object - note the colours have been randomly assigned:\n",
    "cls_smpls_info"
   ]
  },
  {
   "cell_type": "markdown",
   "id": "40d7e38c-3c63-4871-9766-24f033268e2b",
   "metadata": {},
   "source": [
    "## 3.5 Define Class Colours\n",
    "\n",
    "It is useful to manual define colours for classes is it makes it much easier for the end user to interpret the map. Colours are define as Red, Green and Blue (RGB) values between 0-255. There are many tools to look up colour online (try searching 'Colour picker').\n"
   ]
  },
  {
   "cell_type": "code",
   "execution_count": 10,
   "id": "f3dce089-da50-4bd5-8244-ad28fcc278c0",
   "metadata": {
    "tags": []
   },
   "outputs": [
    {
     "data": {
      "text/plain": [
       "{'artificial_surfaces': 1: artificial_surfaces_smpls.h5, (180, 180, 180),\n",
       " 'bare_rock_sand': 2: bare_rock_sand_smpls.h5, (131, 250, 252),\n",
       " 'conifer_forest': 3: conifer_forest_smpls.h5, (0, 105, 16),\n",
       " 'deciduous_forest': 4: deciduous_forest_smpls.h5, (62, 168, 78),\n",
       " 'grass_long': 5: grass_long_smpls.h5, (247, 176, 32),\n",
       " 'grass_short': 6: grass_short_smpls.h5, (252, 231, 109),\n",
       " 'nonphoto_veg': 7: nonphoto_veg_smpls.h5, (156, 255, 215),\n",
       " 'scrub': 8: scrub_smpls.h5, (225, 114, 247),\n",
       " 'water': 9: water_smpls.h5, (0, 0, 255),\n",
       " 'bracken': 10: bracken_smpls.h5, (140, 255, 0)}"
      ]
     },
     "execution_count": 10,
     "metadata": {},
     "output_type": "execute_result"
    }
   ],
   "source": [
    "cls_smpls_info[\"artificial_surfaces\"].red = 180\n",
    "cls_smpls_info[\"artificial_surfaces\"].green = 180\n",
    "cls_smpls_info[\"artificial_surfaces\"].blue = 180\n",
    "\n",
    "cls_smpls_info[\"bare_rock_sand\"].red = 131\n",
    "cls_smpls_info[\"bare_rock_sand\"].green = 250\n",
    "cls_smpls_info[\"bare_rock_sand\"].blue = 252\n",
    "\n",
    "cls_smpls_info[\"conifer_forest\"].red = 0\n",
    "cls_smpls_info[\"conifer_forest\"].green = 105\n",
    "cls_smpls_info[\"conifer_forest\"].blue = 16\n",
    "\n",
    "cls_smpls_info[\"deciduous_forest\"].red = 62\n",
    "cls_smpls_info[\"deciduous_forest\"].green = 168\n",
    "cls_smpls_info[\"deciduous_forest\"].blue = 78\n",
    "\n",
    "cls_smpls_info[\"grass_long\"].red = 247\n",
    "cls_smpls_info[\"grass_long\"].green = 176\n",
    "cls_smpls_info[\"grass_long\"].blue = 32\n",
    "\n",
    "cls_smpls_info[\"grass_short\"].red = 252\n",
    "cls_smpls_info[\"grass_short\"].green = 231\n",
    "cls_smpls_info[\"grass_short\"].blue = 109\n",
    "\n",
    "cls_smpls_info[\"nonphoto_veg\"].red = 156\n",
    "cls_smpls_info[\"nonphoto_veg\"].green = 255\n",
    "cls_smpls_info[\"nonphoto_veg\"].blue = 215\n",
    "\n",
    "cls_smpls_info[\"scrub\"].red = 225\n",
    "cls_smpls_info[\"scrub\"].green = 114\n",
    "cls_smpls_info[\"scrub\"].blue = 247\n",
    "\n",
    "cls_smpls_info[\"water\"].red = 0\n",
    "cls_smpls_info[\"water\"].green = 0\n",
    "cls_smpls_info[\"water\"].blue = 255\n",
    "\n",
    "cls_smpls_info[\"bracken\"].red = 140\n",
    "cls_smpls_info[\"bracken\"].green = 255\n",
    "cls_smpls_info[\"bracken\"].blue = 0\n",
    "\n",
    "cls_smpls_info"
   ]
  },
  {
   "cell_type": "markdown",
   "id": "a43ee287-3ec5-4a6a-b1ae-0c616a43303f",
   "metadata": {},
   "source": [
    "## 3.6 How many training samples were extracted:\n",
    "\n",
    "To find out how many training samples were extracted the following code will loop through the `cls_smpls_info` dict and print out the number of samples:\n"
   ]
  },
  {
   "cell_type": "code",
   "execution_count": 11,
   "id": "1a53a64c-33e8-44b0-b170-161cb8c5402f",
   "metadata": {},
   "outputs": [
    {
     "name": "stdout",
     "output_type": "stream",
     "text": [
      "artificial_surfaces: 454\n",
      "bare_rock_sand: 5392\n",
      "conifer_forest: 3335\n",
      "deciduous_forest: 4021\n",
      "grass_long: 1264\n",
      "grass_short: 622\n",
      "nonphoto_veg: 1989\n",
      "scrub: 5961\n",
      "water: 34232\n",
      "bracken: 1399\n"
     ]
    }
   ],
   "source": [
    "for cls_name in cls_smpls_info:\n",
    "    smpls_h5_file = cls_smpls_info[cls_name].file_h5\n",
    "    n_smpls = rsgislib.classification.get_num_samples(smpls_h5_file)\n",
    "    print(f\"{cls_name}: {n_smpls}\")"
   ]
  },
  {
   "cell_type": "markdown",
   "id": "4c17b5ab-b179-4e38-92f7-f557cf8547d7",
   "metadata": {},
   "source": [
    "Observing the number of samples which are available for the classes there are a number of things which could be done. First, the samples should be balance (i.e., the same number per-class) and this would require using the class with the minimum of samples as the reference for defining the number of testing, training and validation samples. Alternatively, the sample data can be oversampled or there are algorithms which attempt to generate artifical training samples (see the functions within the `rsgislib.classification.classimblearn` module which make use of the [imbalanced-learn](https://imbalanced-learn.org) library.\n",
    "\n",
    "For this tutorial, things will be kept simple and the class (artificial_surfaces) with the lowest number of samples will be used to define the number of samples for each class:\n",
    "\n",
    " * Training: 350\n",
    " * Validation: 50\n",
    " * Testing: 50\n",
    " \n",
    " The samples are randomly selected from the population of input samples.\n"
   ]
  },
  {
   "cell_type": "markdown",
   "id": "6870a304-f88d-4808-a68b-b0fd9f6345eb",
   "metadata": {},
   "source": [
    "## 3.7 Balance and Extract Training / Validation and Testing datasets\n",
    "\n",
    "Again a helper function (`rsgislib.classication.create_train_valid_test_sets`) has been provided which will make it simplier to perform this analysis. For this a list of `rsgislib.classification.ClassInfoObj` objects needs to be defined which specifies the file names for the training, validation and testing HDF5 files.\n",
    "\n",
    "In this case, using the `get_class_info_dict` function the existing dictionary (`cls_smpls_info`) will be looped through and file names automatically defined by adding either `_train`, `_valid` or `_test` to the existing file name for the HDF5 file.\n"
   ]
  },
  {
   "cell_type": "code",
   "execution_count": 12,
   "id": "d659f162-a2fe-4853-b0eb-84a990122507",
   "metadata": {},
   "outputs": [
    {
     "name": "stdout",
     "output_type": "stream",
     "text": [
      "0=1: (Train:./cls_smpls/artificial_surfaces_smpls_train.h5, Test:./cls_smpls/artificial_surfaces_smpls_test.h5, Valid:./cls_smpls/artificial_surfaces_smpls_valid.h5), (180, 180, 180)\n",
      "1=2: (Train:./cls_smpls/bare_rock_sand_smpls_train.h5, Test:./cls_smpls/bare_rock_sand_smpls_test.h5, Valid:./cls_smpls/bare_rock_sand_smpls_valid.h5), (131, 250, 252)\n",
      "2=3: (Train:./cls_smpls/conifer_forest_smpls_train.h5, Test:./cls_smpls/conifer_forest_smpls_test.h5, Valid:./cls_smpls/conifer_forest_smpls_valid.h5), (0, 105, 16)\n",
      "3=4: (Train:./cls_smpls/deciduous_forest_smpls_train.h5, Test:./cls_smpls/deciduous_forest_smpls_test.h5, Valid:./cls_smpls/deciduous_forest_smpls_valid.h5), (62, 168, 78)\n",
      "4=5: (Train:./cls_smpls/grass_long_smpls_train.h5, Test:./cls_smpls/grass_long_smpls_test.h5, Valid:./cls_smpls/grass_long_smpls_valid.h5), (247, 176, 32)\n",
      "5=6: (Train:./cls_smpls/grass_short_smpls_train.h5, Test:./cls_smpls/grass_short_smpls_test.h5, Valid:./cls_smpls/grass_short_smpls_valid.h5), (252, 231, 109)\n",
      "6=7: (Train:./cls_smpls/nonphoto_veg_smpls_train.h5, Test:./cls_smpls/nonphoto_veg_smpls_test.h5, Valid:./cls_smpls/nonphoto_veg_smpls_valid.h5), (156, 255, 215)\n",
      "7=8: (Train:./cls_smpls/scrub_smpls_train.h5, Test:./cls_smpls/scrub_smpls_test.h5, Valid:./cls_smpls/scrub_smpls_valid.h5), (225, 114, 247)\n",
      "8=9: (Train:./cls_smpls/water_smpls_train.h5, Test:./cls_smpls/water_smpls_test.h5, Valid:./cls_smpls/water_smpls_valid.h5), (0, 0, 255)\n",
      "9=10: (Train:./cls_smpls/bracken_smpls_train.h5, Test:./cls_smpls/bracken_smpls_test.h5, Valid:./cls_smpls/bracken_smpls_valid.h5), (140, 255, 0)\n"
     ]
    }
   ],
   "source": [
    "# Define the output directory and create if it does not exist:\n",
    "smpls_dir = \"./cls_smpls\"\n",
    "\n",
    "if not os.path.exists(smpls_dir):\n",
    "    os.mkdir(smpls_dir)\n",
    "\n",
    "\n",
    "cls_smpls_fnl_info = rsgislib.classification.get_class_info_dict(\n",
    "    cls_smpls_info, smpls_dir\n",
    ")"
   ]
  },
  {
   "cell_type": "code",
   "execution_count": 13,
   "id": "03eb5e54-cd08-4f5c-b0b9-ca5adf22d879",
   "metadata": {
    "tags": []
   },
   "outputs": [],
   "source": [
    "# Run the create_train_valid_test_sets helper function to\n",
    "# create the train, valid and test datasets\n",
    "rsgislib.classification.create_train_valid_test_sets(\n",
    "    cls_smpls_info, cls_smpls_fnl_info, 50, 50, 350\n",
    ")"
   ]
  },
  {
   "cell_type": "markdown",
   "id": "7f080779-e1e4-4190-9adf-aad99bd3d3f7",
   "metadata": {},
   "source": [
    "# 4. Train the Classifier\n",
    "\n",
    "\n",
    "## 4.1 Train Classifier\n",
    "\n",
    "Now we have the training data we can train the decision tree classifier. To make it simple we will set the `max_leaf_nodes=10` which will cause there to only 10 output paths (i.e., one for each class we are interested in). Additionally, to simplify the decision tree result we will test the `max_features=2`. \n"
   ]
  },
  {
   "cell_type": "code",
   "execution_count": 14,
   "id": "6fca65db-5359-4980-a06e-9a3802cc51e3",
   "metadata": {},
   "outputs": [],
   "source": [
    "# Define the classifier and parameters\n",
    "sk_classifier = DecisionTreeClassifier(max_features=2, max_leaf_nodes=10)"
   ]
  },
  {
   "cell_type": "code",
   "execution_count": 15,
   "id": "afea746f-1340-4656-bcb1-e6f3654e1c0c",
   "metadata": {},
   "outputs": [
    {
     "name": "stdout",
     "output_type": "stream",
     "text": [
      "Training data size: 3540 x 12\n",
      "Testing data size: 534 x 12\n",
      "Training Classifier\n",
      "Completed\n",
      "Calc Classifier Accuracy\n",
      "Classifier Train Score = 87.74%\n",
      "Classifier Test Score = 87.08%\n"
     ]
    },
    {
     "data": {
      "text/plain": [
       "(0.8774011299435028, 0.8707865168539326)"
      ]
     },
     "execution_count": 15,
     "metadata": {},
     "output_type": "execute_result"
    }
   ],
   "source": [
    "# Train the classifier\n",
    "rsgislib.classification.classsklearn.train_sklearn_classifier(\n",
    "    cls_smpls_fnl_info, sk_classifier\n",
    ")"
   ]
  },
  {
   "cell_type": "markdown",
   "id": "85da5b3d-f867-4b36-ac72-2f70c559c9cd",
   "metadata": {},
   "source": [
    "## 4.2 Visualise the Decision Tree Classifier Rules\n",
    "\n",
    "Scikit-learn provides a really useful function to be able to visualise the rules within the tree. Let's try that out:"
   ]
  },
  {
   "cell_type": "code",
   "execution_count": 16,
   "id": "f48c59c6-e367-4ae2-a7f6-29fa5c3ddeb5",
   "metadata": {},
   "outputs": [
    {
     "name": "stdout",
     "output_type": "stream",
     "text": [
      "['ndvi', 'ndwi', 'Blue', 'Green', 'Red', 'RE_B5', 'RE_B6', 'RE_B7', 'NIR_B8', 'NIR_B8A', 'SWIR1', 'SWIR2']\n",
      "|--- RE_B5 <= 34.50\n",
      "|   |--- class: 8\n",
      "|--- RE_B5 >  34.50\n",
      "|   |--- NIR_B8 <= 563.50\n",
      "|   |   |--- ndwi <= -0.54\n",
      "|   |   |   |--- Green <= 77.50\n",
      "|   |   |   |   |--- Red <= 30.50\n",
      "|   |   |   |   |   |--- class: 3\n",
      "|   |   |   |   |--- Red >  30.50\n",
      "|   |   |   |   |   |--- class: 7\n",
      "|   |   |   |--- Green >  77.50\n",
      "|   |   |   |   |--- ndvi <= 0.54\n",
      "|   |   |   |   |   |--- class: 6\n",
      "|   |   |   |   |--- ndvi >  0.54\n",
      "|   |   |   |   |   |--- class: 5\n",
      "|   |   |--- ndwi >  -0.54\n",
      "|   |   |   |--- SWIR2 <= 148.50\n",
      "|   |   |   |   |--- RE_B6 <= 194.00\n",
      "|   |   |   |   |   |--- class: 1\n",
      "|   |   |   |   |--- RE_B6 >  194.00\n",
      "|   |   |   |   |   |--- class: 2\n",
      "|   |   |   |--- SWIR2 >  148.50\n",
      "|   |   |   |   |--- class: 0\n",
      "|   |--- NIR_B8 >  563.50\n",
      "|   |   |--- ndwi <= -0.54\n",
      "|   |   |   |--- class: 9\n",
      "|   |   |--- ndwi >  -0.54\n",
      "|   |   |   |--- class: 4\n",
      "\n"
     ]
    }
   ],
   "source": [
    "# Import the export_test tool we want to use.\n",
    "from sklearn.tree import export_text\n",
    "\n",
    "# We need to define a list of the variable names in the same order\n",
    "# they are passed to the classifer (i.e., within the img_band_info list).\n",
    "band_names = [\"ndvi\", \"ndwi\"] + rsgislib.imageutils.get_band_names(input_img)\n",
    "# Print those names.\n",
    "print(band_names)\n",
    "\n",
    "# Get the sk_classifier rules.\n",
    "tree_rules = export_text(sk_classifier, feature_names=band_names)\n",
    "\n",
    "print(tree_rules)"
   ]
  },
  {
   "cell_type": "markdown",
   "id": "0f1b3faa-b047-47cb-bbd3-f103fbf541f3",
   "metadata": {},
   "source": [
    "Some thing to remember when interpreting the output above is that the class IDs were define as starting from zero (0) which are then translate to a set of output IDs during the processing so the output pixel values for the classification as the output IDs. However, within the result above the internal class IDs and not the output IDs are used. Therefore, 'class 8' is actually 'class 9' within the image and 'class 1' is 'class 2'. See the ids and out_ids defined within `cls_smpls_fnl_info`."
   ]
  },
  {
   "cell_type": "code",
   "execution_count": null,
   "id": "2aa70917-db2a-4a48-8fcf-90739d3c1250",
   "metadata": {},
   "outputs": [],
   "source": []
  }
 ],
 "metadata": {
  "kernelspec": {
   "display_name": "Python 3 (ipykernel)",
   "language": "python",
   "name": "python3"
  },
  "language_info": {
   "codemirror_mode": {
    "name": "ipython",
    "version": 3
   },
   "file_extension": ".py",
   "mimetype": "text/x-python",
   "name": "python",
   "nbconvert_exporter": "python",
   "pygments_lexer": "ipython3",
   "version": "3.10.8"
  }
 },
 "nbformat": 4,
 "nbformat_minor": 5
}
