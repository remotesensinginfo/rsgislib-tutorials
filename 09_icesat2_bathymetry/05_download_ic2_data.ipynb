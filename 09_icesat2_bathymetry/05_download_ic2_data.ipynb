{
 "cells": [
  {
   "cell_type": "markdown",
   "id": "62306f6e-8b49-4ffb-8f0a-3a533648bac0",
   "metadata": {},
   "source": [
    "# Download ICESAT-2 Data\n",
    "\n",
    "Using the icepyx (https://icepyx.readthedocs.io) python module, we can easily download the ATL03 ICESAT-2."
   ]
  },
  {
   "cell_type": "markdown",
   "id": "fbcbdaff-9d7c-48fa-bc9a-332bab6fb1a5",
   "metadata": {},
   "source": [
    "## 1. Import Modules"
   ]
  },
  {
   "cell_type": "code",
   "execution_count": null,
   "id": "3d114dc3-6c3f-42e2-a029-0e8eb6e647fb",
   "metadata": {},
   "outputs": [],
   "source": [
    "import os\n",
    "import icepyx\n",
    "import rsgislib.vectorattrs\n",
    "import rsgislib.vectorgeoms\n",
    "import rsgislib.vectorutils\n",
    "import rsgislib.tools.mapping\n",
    "import rsgislib.tools.geometrytools\n",
    "import geopandas\n",
    "%matplotlib inline\n",
    "import matplotlib.pyplot as plt"
   ]
  },
  {
   "cell_type": "markdown",
   "id": "e3620f80-f92d-43f8-8354-b2083c47f72c",
   "metadata": {},
   "source": [
    "## 2. Get list Region of Interests\n",
    "\n",
    "A set of regions of interest (ROIs) has been defined within the vector layer (`is2_dwnld_rois.geojson`) as polygons using the WGS84 coordinate system (EPSG:4326). It is for these regions that ICESAT-2 data will be downloaded."
   ]
  },
  {
   "cell_type": "markdown",
   "id": "987d6ce0-3a59-489f-a741-1b5bfefa3aca",
   "metadata": {},
   "source": [
    "### 2.1 Visualise the Input Data"
   ]
  },
  {
   "cell_type": "code",
   "execution_count": null,
   "id": "c0c16ba2-c2c6-4fb3-9132-ace48e166737",
   "metadata": {},
   "outputs": [],
   "source": [
    "vec_roi_file = \"../data/is2_bathy/is2_dwnld_rois.geojson\"\n",
    "vec_roi_lyr = \"is2_dwnld_rois\"\n"
   ]
  },
  {
   "cell_type": "code",
   "execution_count": null,
   "id": "cae79357-c448-4140-97be-98cc34885b27",
   "metadata": {},
   "outputs": [],
   "source": [
    "# Define bounding box for map.\n",
    "bbox = rsgislib.vectorutils.get_vec_layer_extent(vec_roi_file, vec_roi_lyr)\n",
    "bbox = rsgislib.tools.geometrytools.buffer_bbox(bbox, buf = 5)\n",
    "\n",
    "# Create a plot using the matplotlib library\n",
    "fig, ax = plt.subplots(figsize=(5, 5))\n",
    "\n",
    "# Display countries layer to provide background context\n",
    "countries_df = geopandas.read_file(\"../data/country.geojson\")\n",
    "rsgislib.tools.mapping.create_vec_lyr_map(ax, countries_df.boundary, bbox)\n",
    "\n",
    "# Display the ROI file to check where you will be downloading data for.\n",
    "roi_polys_df = geopandas.read_file(vec_roi_file)\n",
    "rsgislib.tools.mapping.create_vec_lyr_map(ax, roi_polys_df, bbox, vec_fill_clrs=\"red\")\n"
   ]
  },
  {
   "cell_type": "markdown",
   "id": "65f85497-9703-4e9a-a65c-772d71d9a052",
   "metadata": {},
   "source": [
    "### 2.2 See the ROI attribute table\n",
    "\n",
    "Note, the `name` column will be used for the output directory name when we come to download the data"
   ]
  },
  {
   "cell_type": "code",
   "execution_count": null,
   "id": "5f30a7dc-307b-44bc-82f8-d3b9b37610b2",
   "metadata": {},
   "outputs": [],
   "source": [
    "roi_polys_df"
   ]
  },
  {
   "cell_type": "markdown",
   "id": "9a7785b7-74ef-44e8-a414-4faa7a05a84c",
   "metadata": {},
   "source": [
    "### 2.3 Get the list of Names and BBOXs"
   ]
  },
  {
   "cell_type": "code",
   "execution_count": null,
   "id": "7cce8f2b-db0a-4815-b40f-e42d3d800423",
   "metadata": {},
   "outputs": [],
   "source": [
    "names = rsgislib.vectorattrs.read_vec_column(vec_file=vec_roi_file, vec_lyr=vec_roi_lyr, att_column=\"name\")\n",
    "bboxes = rsgislib.vectorgeoms.get_geoms_as_bboxs(vec_file = vec_roi_file, vec_lyr = vec_roi_lyr)"
   ]
  },
  {
   "cell_type": "markdown",
   "id": "682d07eb-dc5b-4569-a1ff-5fa6754b364c",
   "metadata": {},
   "source": []
  },
  {
   "cell_type": "markdown",
   "id": "530393ec-a9d3-4279-bd7e-b41521f8ede9",
   "metadata": {},
   "source": [
    "## 3. Download ICESAT-2 Data\n",
    "\n",
    "The next block of code iterates through the sites defined within the ROIs vector layer, creates a set of directories for the data to be downloaded to and then runs the download - this could take a while depending on your internet connection. It also requires that an Earth Data login (https://www.earthdata.nasa.gov)."
   ]
  },
  {
   "cell_type": "code",
   "execution_count": null,
   "id": "bfea2606-91f7-4a39-a5b1-4e583c23e4ac",
   "metadata": {},
   "outputs": [],
   "source": [
    "# Define the base directory where data will be downloaded to.\n",
    "base_data_dir = \"icesat2_dwnld\"\n",
    "if not os.path.exists(base_data_dir):\n",
    "    os.mkdir(base_data_dir)\n",
    "    \n",
    "for name, bbox in zip(names, bboxes):\n",
    "    print(f\"{name}: {bbox}\")\n",
    "\n",
    "    # Query BBOX: [lon_LL, lat_LL, lon_UR, lat_UR]\n",
    "    query_bbox = [bbox[0], bbox[2], bbox[1], bbox[3]]\n",
    "    \n",
    "    # Define the directory for this ROI\n",
    "    roi_data_dir = os.path.join(base_data_dir, name)\n",
    "    if not os.path.exists(roi_data_dir):\n",
    "        os.mkdir(roi_data_dir)\n",
    "        \n",
    "    # Loop through the years you want to download\n",
    "    for year in [2019, 2020]:\n",
    "        print(f\"\\t{year}\")\n",
    "        out_data_dir = os.path.join(roi_data_dir, f\"{year}\")\n",
    "        if not os.path.exists(out_data_dir):\n",
    "            os.mkdir(out_data_dir)\n",
    "\n",
    "        # Run Query to find data for the query_bbox and time period\n",
    "        roi_query = icepyx.Query('ATL03', query_bbox, [f'{year}-01-01', f'{year}-12-31'])\n",
    "\n",
    "        print(\"\\t\\t\", roi_query.avail_granules())\n",
    "\n",
    "        # Order the ICESAT-2 Granules:\n",
    "        roi_query.order_granules()\n",
    "        # Download the ICESAT-2 Granules to out_data_dir \n",
    "        roi_query.download_granules(out_data_dir)\n",
    "        "
   ]
  },
  {
   "cell_type": "code",
   "execution_count": null,
   "id": "d953bdd4-e527-448c-8c82-eb7cd67200fb",
   "metadata": {},
   "outputs": [],
   "source": []
  },
  {
   "cell_type": "code",
   "execution_count": null,
   "id": "48de5eaa-ee92-401a-8c47-78603b239093",
   "metadata": {},
   "outputs": [],
   "source": []
  },
  {
   "cell_type": "code",
   "execution_count": null,
   "id": "2c744a06-1124-469e-b069-610969e8b0db",
   "metadata": {},
   "outputs": [],
   "source": []
  },
  {
   "cell_type": "code",
   "execution_count": null,
   "id": "1716847c-eca5-4e6d-a412-6566be71c257",
   "metadata": {},
   "outputs": [],
   "source": []
  }
 ],
 "metadata": {
  "kernelspec": {
   "display_name": "Python 3 (ipykernel)",
   "language": "python",
   "name": "python3"
  },
  "language_info": {
   "codemirror_mode": {
    "name": "ipython",
    "version": 3
   },
   "file_extension": ".py",
   "mimetype": "text/x-python",
   "name": "python",
   "nbconvert_exporter": "python",
   "pygments_lexer": "ipython3",
   "version": "3.12.4"
  }
 },
 "nbformat": 4,
 "nbformat_minor": 5
}
