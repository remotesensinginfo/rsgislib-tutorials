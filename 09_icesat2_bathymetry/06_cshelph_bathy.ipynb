{
 "cells": [
  {
   "cell_type": "markdown",
   "id": "f9ba51fb-5d93-401f-8aaf-bfb16563d972",
   "metadata": {},
   "source": [
    "# Classify the ICESAT-2 Photons\n",
    "\n",
    "The next stage is to classify the ICESAT-2 photons to identify the bathymetry points from the ATL03. To achieve these we'll use the C-SHELPh module (https://github.com/nmt28/C-SHELPh).\n"
   ]
  },
  {
   "cell_type": "markdown",
   "id": "01791cb9-fdec-4673-9821-0ca2fe9ec4a8",
   "metadata": {},
   "source": [
    "## Import Modules"
   ]
  },
  {
   "cell_type": "code",
   "execution_count": null,
   "id": "083c9db7-c8e9-4237-8ca8-8fe8fd23233b",
   "metadata": {},
   "outputs": [],
   "source": [
    "import pathlib\n",
    "import cshelph.run_cshelph\n",
    "import json"
   ]
  },
  {
   "cell_type": "markdown",
   "id": "6264fa0d-f6f2-4149-b195-6710c3054ddb",
   "metadata": {},
   "source": [
    "## Iterate through Data Directories"
   ]
  },
  {
   "cell_type": "code",
   "execution_count": null,
   "id": "d4d98801-c82a-454d-807b-c9edbff1a503",
   "metadata": {},
   "outputs": [],
   "source": [
    "base_data_dir = \"icesat2_dwnld\""
   ]
  },
  {
   "cell_type": "code",
   "execution_count": null,
   "id": "3c638b72-1f30-4bd2-b802-9b93059412ec",
   "metadata": {},
   "outputs": [],
   "source": [
    "base_path = pathlib.Path(base_data_dir)"
   ]
  },
  {
   "cell_type": "code",
   "execution_count": null,
   "id": "504aa0d7-6206-42b0-bfbb-32a1e67ffed2",
   "metadata": {},
   "outputs": [],
   "source": [
    "roi_paths = [f for f in base_path.iterdir() if f.is_dir()]"
   ]
  },
  {
   "cell_type": "code",
   "execution_count": null,
   "id": "792e5b03-3e82-46d8-aac2-eeeeb47e51c6",
   "metadata": {},
   "outputs": [],
   "source": [
    "for roi_path in roi_paths:\n",
    "    year_paths = [f for f in roi_path.iterdir() if f.is_dir()]\n",
    "    out_info = dict()\n",
    "    for year_path in year_paths:\n",
    "        h5_paths = year_path.glob(\"*.h5\")\n",
    "        for h5_path in h5_paths:\n",
    "            print(h5_path)\n",
    "            h5_filename = h5_path.stem\n",
    "            print(f\"\\t{h5_filename}\")\n",
    "            out_info[h5_filename] = dict()\n",
    "            for laser in [1, 2, 3]:\n",
    "                try:\n",
    "                    cshelph.run_cshelph.run_cshelph(\n",
    "                        input_h5_file = str(h5_path),\n",
    "                        laser_num = laser,\n",
    "                        thresh = 20,\n",
    "                        threshlist = None,\n",
    "                        output = None,\n",
    "                        lat_res = 10,\n",
    "                        h_res = 0.5,\n",
    "                        water_temp = 25,\n",
    "                        start_lat = None,\n",
    "                        end_lat = None,\n",
    "                        min_buffer = -40,\n",
    "                        max_buffer = 5,\n",
    "                        surface_buffer = -0.5,\n",
    "                    )\n",
    "                    out_info[h5_filename][laser] = \"OK\"\n",
    "                except Exception as e:\n",
    "                    out_info[h5_filename][laser] = str(e)\n",
    "    out_info_file = roi_path / \"cshelph_processing.json\"\n",
    "    with open(out_info_file, \"w\") as fp:\n",
    "        json.dump(\n",
    "            out_info,\n",
    "            fp,\n",
    "            sort_keys=True,\n",
    "            indent=4,\n",
    "            separators=(\",\", \": \"),\n",
    "            ensure_ascii=False,\n",
    "        )"
   ]
  },
  {
   "cell_type": "code",
   "execution_count": null,
   "id": "a99bd0ed-8b6a-45e7-adf0-b605c0f76f00",
   "metadata": {},
   "outputs": [],
   "source": []
  },
  {
   "cell_type": "code",
   "execution_count": null,
   "id": "c50abf6c-aa27-4184-bb1a-03b493e5c83c",
   "metadata": {},
   "outputs": [],
   "source": []
  },
  {
   "cell_type": "code",
   "execution_count": null,
   "id": "fba002ec-8b3f-47c8-a7ef-32c585a88b01",
   "metadata": {},
   "outputs": [],
   "source": []
  },
  {
   "cell_type": "code",
   "execution_count": null,
   "id": "54f1862f-aa11-4cc0-b478-655b0b8ddf52",
   "metadata": {},
   "outputs": [],
   "source": []
  },
  {
   "cell_type": "code",
   "execution_count": null,
   "id": "66f05fe6-68e5-46b4-9de6-e303963569d0",
   "metadata": {},
   "outputs": [],
   "source": []
  },
  {
   "cell_type": "code",
   "execution_count": null,
   "id": "f2b3f139-73ae-4cb6-83b7-ab46f0cf1957",
   "metadata": {},
   "outputs": [],
   "source": []
  },
  {
   "cell_type": "code",
   "execution_count": null,
   "id": "e91bdae0-9a3e-472e-91ac-3277eda506c7",
   "metadata": {},
   "outputs": [],
   "source": []
  },
  {
   "cell_type": "code",
   "execution_count": null,
   "id": "323c8309-0ccb-494b-8f48-bb4a1ffcaec4",
   "metadata": {},
   "outputs": [],
   "source": []
  },
  {
   "cell_type": "code",
   "execution_count": null,
   "id": "c2b207a3-6a3f-492e-bc9b-9113aa2f0966",
   "metadata": {},
   "outputs": [],
   "source": []
  },
  {
   "cell_type": "code",
   "execution_count": null,
   "id": "d408ca47-70bb-4563-8cf2-029d6ab14c62",
   "metadata": {},
   "outputs": [],
   "source": []
  },
  {
   "cell_type": "code",
   "execution_count": null,
   "id": "2071a5f1-8473-497e-9043-32a16bf79a8c",
   "metadata": {},
   "outputs": [],
   "source": []
  },
  {
   "cell_type": "code",
   "execution_count": null,
   "id": "99fd7e90-1788-4158-8f96-9b506c053bb7",
   "metadata": {},
   "outputs": [],
   "source": []
  },
  {
   "cell_type": "code",
   "execution_count": null,
   "id": "d1fcfab9-f586-44df-9ea0-e39326b19f74",
   "metadata": {},
   "outputs": [],
   "source": []
  },
  {
   "cell_type": "code",
   "execution_count": null,
   "id": "7795b6dc-4a49-424f-b76d-13c57053f6e2",
   "metadata": {},
   "outputs": [],
   "source": []
  },
  {
   "cell_type": "code",
   "execution_count": null,
   "id": "db77b390-fb1d-4350-9887-4d9c4ee00bca",
   "metadata": {},
   "outputs": [],
   "source": []
  },
  {
   "cell_type": "code",
   "execution_count": null,
   "id": "f06f4150-00ab-46af-9c77-1fe38974c16e",
   "metadata": {},
   "outputs": [],
   "source": []
  },
  {
   "cell_type": "code",
   "execution_count": null,
   "id": "a7d49532-9761-4dfd-b8e6-9808a6082bb4",
   "metadata": {},
   "outputs": [],
   "source": []
  }
 ],
 "metadata": {
  "kernelspec": {
   "display_name": "Python 3 (ipykernel)",
   "language": "python",
   "name": "python3"
  },
  "language_info": {
   "codemirror_mode": {
    "name": "ipython",
    "version": 3
   },
   "file_extension": ".py",
   "mimetype": "text/x-python",
   "name": "python",
   "nbconvert_exporter": "python",
   "pygments_lexer": "ipython3",
   "version": "3.11.8"
  }
 },
 "nbformat": 4,
 "nbformat_minor": 5
}
