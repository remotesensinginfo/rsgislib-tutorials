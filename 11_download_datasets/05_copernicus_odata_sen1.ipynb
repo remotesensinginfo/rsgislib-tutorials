{
 "cells": [
  {
   "cell_type": "markdown",
   "id": "df4e924b-0ff1-47ee-bc9c-0b7a2eb4ee3c",
   "metadata": {},
   "source": [
    "# Downloading Sentinel-1 data\n",
    "\n",
    "This tutorial uses Copernicus Data Space Ecosystem OData API to find and download Sentinel-1 data.\n",
    "\n",
    "To have access to the Copernicus Data Space Ecosystem services, you need to register access (https://dataspace.copernicus.eu)\n"
   ]
  },
  {
   "cell_type": "markdown",
   "id": "97329e3f-d07e-4cd4-b5cb-3a5e9542308f",
   "metadata": {},
   "source": [
    "## Import Modules"
   ]
  },
  {
   "cell_type": "code",
   "execution_count": 2,
   "id": "1772d395-9cb8-49b3-9ce1-d287588abfe0",
   "metadata": {},
   "outputs": [],
   "source": [
    "import datetime\n",
    "import os\n",
    "\n",
    "import rsgislib.tools.utils\n",
    "from rsgislib.dataaccess import copernicus_odata"
   ]
  },
  {
   "cell_type": "markdown",
   "id": "e83ea16e-7801-4fe6-a00d-1714b18abe39",
   "metadata": {},
   "source": [
    "## Create Output Directory"
   ]
  },
  {
   "cell_type": "code",
   "execution_count": 7,
   "id": "63c74868-e892-4967-bdd2-64935494bb51",
   "metadata": {},
   "outputs": [],
   "source": [
    "out_dir_path = \"sen1_data\"\n",
    "if not os.path.exists(out_dir_path):\n",
    "    os.mkdir(out_dir_path)"
   ]
  },
  {
   "cell_type": "markdown",
   "id": "d0b0040c-91b3-4148-a209-a5688da0321c",
   "metadata": {},
   "source": [
    "## Username and Password\n",
    "\n",
    "You need to be careful with your username and password and therefore you should not write them into the notebook. RSGISlib provide a tool/functions for doing a basic encoding of the username and password so they are not stored as free text (Note. be careful as the simple encoding is not secure). \n",
    "\n",
    "To create the encoded file, you can use the command line tool `rsgisuserpassfile.py` as shown below:\n",
    "\n",
    "`rsgisuserpassfile.py cop_userinfo.txt`\n",
    "\n",
    "Once you have created the `cop_userinfo.txt` file, you can read it into your notebook/script using the `get_username_password` function shown below:"
   ]
  },
  {
   "cell_type": "code",
   "execution_count": 3,
   "id": "8bb1658b-f544-41d0-b742-4fa29fb173b3",
   "metadata": {},
   "outputs": [],
   "source": [
    "username, password = rsgislib.tools.utils.get_username_password(\n",
    "    input_file=\"cop_userinfo.txt\"\n",
    ")"
   ]
  },
  {
   "cell_type": "markdown",
   "id": "e583707a-a22e-47f2-8d31-efd6f864cc9d",
   "metadata": {},
   "source": [
    "## Access Token\n",
    "\n",
    "When you come to download data, you need an access token to authenticate. The access token is generated using use the following function:"
   ]
  },
  {
   "cell_type": "code",
   "execution_count": 4,
   "id": "d8a59551-ca78-4dea-aff2-a7dc541f3b85",
   "metadata": {},
   "outputs": [],
   "source": [
    "acc_token = copernicus_odata.get_access_token(username=username, password=password)"
   ]
  },
  {
   "cell_type": "markdown",
   "id": "97104eb7-33ec-4181-86bf-0a4171b5f4c2",
   "metadata": {},
   "source": [
    "## Query Individual Scene\n",
    "\n",
    "You can query for an individual scene if you know the name of the scene such as below:"
   ]
  },
  {
   "cell_type": "code",
   "execution_count": 5,
   "id": "d04bccf5-65e7-498e-9cb2-e9f039e6f22b",
   "metadata": {},
   "outputs": [],
   "source": [
    "scn_info = copernicus_odata.query_scn(\n",
    "    scn_name=\"S1A_IW_GRDH_1SDV_20141031T161924_20141031T161949_003076_003856_634E.SAFE\"\n",
    ")"
   ]
  },
  {
   "cell_type": "code",
   "execution_count": 6,
   "id": "f66ece70-037b-40e0-867b-6a11282d92b2",
   "metadata": {},
   "outputs": [
    {
     "data": {
      "text/plain": [
       "{'@odata.mediaContentType': 'application/octet-stream',\n",
       " 'Id': 'c23d5ffd-bc2a-54c1-a2cf-e2dc18bc945f',\n",
       " 'Name': 'S1A_IW_GRDH_1SDV_20141031T161924_20141031T161949_003076_003856_634E.SAFE',\n",
       " 'ContentType': 'application/octet-stream',\n",
       " 'ContentLength': 1748087439,\n",
       " 'OriginDate': '2014-12-27T02:54:17.244Z',\n",
       " 'PublicationDate': '2016-08-21T07:27:38.212Z',\n",
       " 'ModificationDate': '2024-06-11T19:29:45.683Z',\n",
       " 'Online': True,\n",
       " 'EvictionDate': '',\n",
       " 'S3Path': '/eodata/Sentinel-1/SAR/GRD/2014/10/31/S1A_IW_GRDH_1SDV_20141031T161924_20141031T161949_003076_003856_634E.SAFE',\n",
       " 'Checksum': [{'Value': '2532e4332148e698b1d07669a8cd9ca0',\n",
       "   'Algorithm': 'MD5',\n",
       "   'ChecksumDate': '2024-06-11T19:29:41.842623Z'},\n",
       "  {'Value': '92c5a05eff29dc1c78834b418cc7cebe88f7a3a877ea4638fb4334222841c9a6',\n",
       "   'Algorithm': 'BLAKE3',\n",
       "   'ChecksumDate': '2024-06-11T19:29:45.568687Z'}],\n",
       " 'ContentDate': {'Start': '2014-10-31T16:19:24.221Z',\n",
       "  'End': '2014-10-31T16:19:49.219Z'},\n",
       " 'Footprint': \"geography'SRID=4326;POLYGON ((19.165325 54.983635, 23.194235 55.39806, 23.592987 53.904648, 19.706837 53.49408, 19.165325 54.983635))'\",\n",
       " 'GeoFootprint': {'type': 'Polygon',\n",
       "  'coordinates': [[[19.165325, 54.983635],\n",
       "    [23.194235, 55.39806],\n",
       "    [23.592987, 53.904648],\n",
       "    [19.706837, 53.49408],\n",
       "    [19.165325, 54.983635]]]},\n",
       " 'Locations': [{'FormatType': 'Extracted',\n",
       "   'DownloadLink': 'https://catalogue.dataspace.copernicus.eu/odata/v1/Products(c23d5ffd-bc2a-54c1-a2cf-e2dc18bc945f)/$value',\n",
       "   'ContentLength': 1748087439,\n",
       "   'Checksum': [{'Value': '2532e4332148e698b1d07669a8cd9ca0',\n",
       "     'Algorithm': 'MD5',\n",
       "     'ChecksumDate': '2024-06-11T19:29:41.842623Z'},\n",
       "    {'Value': '92c5a05eff29dc1c78834b418cc7cebe88f7a3a877ea4638fb4334222841c9a6',\n",
       "     'Algorithm': 'BLAKE3',\n",
       "     'ChecksumDate': '2024-06-11T19:29:45.568687Z'}],\n",
       "   'S3Path': '/eodata/Sentinel-1/SAR/GRD/2014/10/31/S1A_IW_GRDH_1SDV_20141031T161924_20141031T161949_003076_003856_634E.SAFE'}]}"
      ]
     },
     "execution_count": 6,
     "metadata": {},
     "output_type": "execute_result"
    }
   ],
   "source": [
    "scn_info"
   ]
  },
  {
   "cell_type": "code",
   "execution_count": 8,
   "id": "4afdcc8b-fd88-4e55-ab14-105eca66f809",
   "metadata": {},
   "outputs": [
    {
     "name": "stdout",
     "output_type": "stream",
     "text": [
      "Downloading S1A_IW_GRDH_1SDV_20141031T161924_20141031T161949_003076_003856_634E.SAFE\n"
     ]
    },
    {
     "name": "stderr",
     "output_type": "stream",
     "text": [
      "100%|███████████████████████████████████████████████████████████████████████████████████████████████████████████████████████████████████████████████████████████████| 213390/213390 [02:14<00:00, 1584.23it/s]\n"
     ]
    },
    {
     "name": "stdout",
     "output_type": "stream",
     "text": [
      "Download Complete: S1A_IW_GRDH_1SDV_20141031T161924_20141031T161949_003076_003856_634E.SAFE\n"
     ]
    }
   ],
   "source": [
    "copernicus_odata.download_scn(\n",
    "    access_token=acc_token, scn_info=scn_info, out_path=out_dir_path\n",
    ")"
   ]
  },
  {
   "cell_type": "markdown",
   "id": "f3f1bdff-6b23-4201-b934-ec5ef6ef6333",
   "metadata": {},
   "source": [
    "## Query Multiple Scenes\n",
    "\n",
    "You can query for multiple scenes using the function call below. This allows\n",
    "\n",
    " * A bounding box region of interest to be specified\n",
    " * Time period start and end date\n",
    " * Orbit direction: Ascending or Descending\n",
    " * Product type: GRD or SLC"
   ]
  },
  {
   "cell_type": "code",
   "execution_count": 9,
   "id": "14f77a68-28d4-46da-af7f-866f80277b2a",
   "metadata": {},
   "outputs": [],
   "source": [
    "scns_info = copernicus_odata.query_scn_lst(\n",
    "    sensor=copernicus_odata.RSGIS_ODATA_SEN1,\n",
    "    bbox=(-4.1, -4.0, 52.4, 52.5),\n",
    "    start_date=datetime.datetime(year=2024, month=1, day=1),\n",
    "    end_date=datetime.datetime(year=2024, month=6, day=30),\n",
    "    cloud_cover=None,\n",
    "    orbit_dir=copernicus_odata.RSGIS_ODATA_ORBIT_DIR_ASC,\n",
    "    product_type=copernicus_odata.RSGIS_ODATA_PROD_TYPE_S1_GRD,\n",
    "    order_by=copernicus_odata.RSGIS_ODATA_ORDERBY_ASC,\n",
    "    max_n_rslts=2,\n",
    "    start_n=None,\n",
    ")"
   ]
  },
  {
   "cell_type": "code",
   "execution_count": 10,
   "id": "217968fd-987e-46ff-bc48-2bf192e9e932",
   "metadata": {
    "scrolled": true
   },
   "outputs": [
    {
     "data": {
      "text/plain": [
       "[{'@odata.mediaContentType': 'application/octet-stream',\n",
       "  'Id': 'a56f0e5a-d339-4be4-a4f3-cd7748f1e495',\n",
       "  'Name': 'S1A_IW_GRDH_1SDV_20240105T180641_20240105T180706_051975_0647CF_248A.SAFE',\n",
       "  'ContentType': 'application/octet-stream',\n",
       "  'ContentLength': 1753506454,\n",
       "  'OriginDate': '2024-01-05T18:48:26.361Z',\n",
       "  'PublicationDate': '2024-01-05T18:54:37.583Z',\n",
       "  'ModificationDate': '2024-01-05T18:54:58.774Z',\n",
       "  'Online': True,\n",
       "  'EvictionDate': '',\n",
       "  'S3Path': '/eodata/Sentinel-1/SAR/IW_GRDH_1S/2024/01/05/S1A_IW_GRDH_1SDV_20240105T180641_20240105T180706_051975_0647CF_248A.SAFE',\n",
       "  'Checksum': [{'Value': 'aa5d4b85c6e80cfe2fe523f833e0e793',\n",
       "    'Algorithm': 'MD5',\n",
       "    'ChecksumDate': '2024-01-05T18:54:54.953318Z'},\n",
       "   {'Value': 'ba78dd7fa348a1ed2ed853bbd51cb99f1e88e075fc469dc666f3d7b9b729a69c',\n",
       "    'Algorithm': 'BLAKE3',\n",
       "    'ChecksumDate': '2024-01-05T18:54:58.653498Z'}],\n",
       "  'ContentDate': {'Start': '2024-01-05T18:06:41.935Z',\n",
       "   'End': '2024-01-05T18:07:06.934Z'},\n",
       "  'Footprint': \"geography'SRID=4326;POLYGON ((-6.361548 51.547867, -2.629216 51.955807, -3.002301 53.450939, -6.862489 53.040447, -6.361548 51.547867))'\",\n",
       "  'GeoFootprint': {'type': 'Polygon',\n",
       "   'coordinates': [[[-6.361548, 51.547867],\n",
       "     [-2.629216, 51.955807],\n",
       "     [-3.002301, 53.450939],\n",
       "     [-6.862489, 53.040447],\n",
       "     [-6.361548, 51.547867]]]},\n",
       "  'Locations': [{'FormatType': 'Extracted',\n",
       "    'DownloadLink': 'https://catalogue.dataspace.copernicus.eu/odata/v1/Products(a56f0e5a-d339-4be4-a4f3-cd7748f1e495)/$value',\n",
       "    'ContentLength': 932797733,\n",
       "    'Checksum': [],\n",
       "    'S3Path': '/eodata/Sentinel-1/SAR/IW_GRDH_1S/2024/01/05/S1A_IW_GRDH_1SDV_20240105T180641_20240105T180706_051975_0647CF_248A.SAFE'}]},\n",
       " {'@odata.mediaContentType': 'application/octet-stream',\n",
       "  'Id': '69b3d970-baa3-407e-a935-1939d3cc261c',\n",
       "  'Name': 'S1A_IW_GRDH_1SDV_20240112T175821_20240112T175846_052077_064B4D_4630.SAFE',\n",
       "  'ContentType': 'application/octet-stream',\n",
       "  'ContentLength': 1755828143,\n",
       "  'OriginDate': '2024-01-12T18:41:00.027Z',\n",
       "  'PublicationDate': '2024-01-12T18:47:20.908Z',\n",
       "  'ModificationDate': '2024-01-12T18:47:38.656Z',\n",
       "  'Online': True,\n",
       "  'EvictionDate': '',\n",
       "  'S3Path': '/eodata/Sentinel-1/SAR/IW_GRDH_1S/2024/01/12/S1A_IW_GRDH_1SDV_20240112T175821_20240112T175846_052077_064B4D_4630.SAFE',\n",
       "  'Checksum': [{'Value': 'd22dba5b4019f9f029d1843fbced8169',\n",
       "    'Algorithm': 'MD5',\n",
       "    'ChecksumDate': '2024-01-12T18:47:35.885485Z'},\n",
       "   {'Value': '6b23a9bd5be5fcc22a0e77e24a3f8bcc0db06826aabf12ed09971d144a536187',\n",
       "    'Algorithm': 'BLAKE3',\n",
       "    'ChecksumDate': '2024-01-12T18:47:38.535707Z'}],\n",
       "  'ContentDate': {'Start': '2024-01-12T17:58:21.606Z',\n",
       "   'End': '2024-01-12T17:58:46.605Z'},\n",
       "  'Footprint': \"geography'SRID=4326;POLYGON ((-4.187789 51.184471, -0.481229 51.592274, -0.851144 53.087639, -4.683135 52.677452, -4.187789 51.184471))'\",\n",
       "  'GeoFootprint': {'type': 'Polygon',\n",
       "   'coordinates': [[[-4.187789, 51.184471],\n",
       "     [-0.481229, 51.592274],\n",
       "     [-0.851144, 53.087639],\n",
       "     [-4.683135, 52.677452],\n",
       "     [-4.187789, 51.184471]]]},\n",
       "  'Locations': [{'FormatType': 'Extracted',\n",
       "    'DownloadLink': 'https://catalogue.dataspace.copernicus.eu/odata/v1/Products(69b3d970-baa3-407e-a935-1939d3cc261c)/$value',\n",
       "    'ContentLength': 991429387,\n",
       "    'Checksum': [],\n",
       "    'S3Path': '/eodata/Sentinel-1/SAR/IW_GRDH_1S/2024/01/12/S1A_IW_GRDH_1SDV_20240112T175821_20240112T175846_052077_064B4D_4630.SAFE'}]}]"
      ]
     },
     "execution_count": 10,
     "metadata": {},
     "output_type": "execute_result"
    }
   ],
   "source": [
    "scns_info"
   ]
  },
  {
   "cell_type": "markdown",
   "id": "b56b296c-a905-47b4-ba9b-4ec1a8ee0fb9",
   "metadata": {},
   "source": [
    "## Download Multiple Scenes"
   ]
  },
  {
   "cell_type": "code",
   "execution_count": null,
   "id": "4fc4f942-d7b7-48d1-90f6-7dedd01a7545",
   "metadata": {},
   "outputs": [
    {
     "name": "stdout",
     "output_type": "stream",
     "text": [
      "Downloading S1A_IW_GRDH_1SDV_20240105T180641_20240105T180706_051975_0647CF_248A.SAFE\n"
     ]
    },
    {
     "name": "stderr",
     "output_type": "stream",
     "text": [
      "214052it [01:31, 2345.35it/s]                                                                                                                                                                                 \n"
     ]
    },
    {
     "name": "stdout",
     "output_type": "stream",
     "text": [
      "Download Complete: S1A_IW_GRDH_1SDV_20240105T180641_20240105T180706_051975_0647CF_248A.SAFE\n",
      "Downloading S1A_IW_GRDH_1SDV_20240112T175821_20240112T175846_052077_064B4D_4630.SAFE\n"
     ]
    },
    {
     "name": "stderr",
     "output_type": "stream",
     "text": [
      " 68%|█████████████████████████████████████████████████████████████████████████████████████████████████████████████▏                                                  | 82568/121025 [00:35<00:15, 2497.69it/s]"
     ]
    }
   ],
   "source": [
    "copernicus_odata.download_scns(\n",
    "    access_token=acc_token,\n",
    "    scns_info=scns_info,\n",
    "    out_path=out_dir_path,\n",
    "    no_except=True,\n",
    ")"
   ]
  },
  {
   "cell_type": "code",
   "execution_count": null,
   "id": "190ab1c1-ca98-4686-8db3-87642327c2b2",
   "metadata": {},
   "outputs": [],
   "source": []
  }
 ],
 "metadata": {
  "kernelspec": {
   "display_name": "Python 3 (ipykernel)",
   "language": "python",
   "name": "python3"
  },
  "language_info": {
   "codemirror_mode": {
    "name": "ipython",
    "version": 3
   },
   "file_extension": ".py",
   "mimetype": "text/x-python",
   "name": "python",
   "nbconvert_exporter": "python",
   "pygments_lexer": "ipython3",
   "version": "3.12.4"
  }
 },
 "nbformat": 4,
 "nbformat_minor": 5
}
