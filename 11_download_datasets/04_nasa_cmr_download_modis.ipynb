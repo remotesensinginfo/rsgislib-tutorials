{
 "cells": [
  {
   "cell_type": "markdown",
   "id": "197cac75-77f2-4c17-b569-13d4fb7cde6e",
   "metadata": {},
   "source": [
    "# NASA Common Metadata Repository\n",
    "\n",
    "[NASA's Common Metadata Repository (CMR)]{https://www.earthdata.nasa.gov/eosdis/science-system-description/eosdis-components/cmr} is a high-performance, high-quality, continuously evolving metadata system that catalogs all data and service metadata records for NASA's Earth Observing System Data and Information System (EOSDIS) system and will be the authoritative management system for all EOSDIS metadata. These metadata records are registered, modified, discovered, and accessed through programmatic interfaces leveraging standard protocols and APIs.\n",
    "\n",
    "You can search the CMR system online here: https://cmr.earthdata.nasa.gov/"
   ]
  },
  {
   "cell_type": "code",
   "execution_count": 1,
   "id": "e618abf4-e3ba-493d-859f-5a59579ed404",
   "metadata": {},
   "outputs": [],
   "source": [
    "import rsgislib.dataaccess.nasa_cmr\n",
    "import os\n",
    "import datetime\n",
    "import pprint"
   ]
  },
  {
   "cell_type": "markdown",
   "id": "5731b52a-c15c-4a89-ab80-1ade2f34233a",
   "metadata": {},
   "source": [
    "## Get information on a Product\n",
    "\n",
    "You can query the CMR for metadata on a product using the function below. You can look up the available products and their names here:\n",
    "https://earthdata.nasa.gov/eosdis/science-system-description/eosdis-standard-products\n"
   ]
  },
  {
   "cell_type": "code",
   "execution_count": 2,
   "id": "f503beda-ec7d-4636-a078-d2f8eb122483",
   "metadata": {},
   "outputs": [],
   "source": [
    "# MODIS NDVI Product\n",
    "prod_name=\"MOD13Q1\""
   ]
  },
  {
   "cell_type": "code",
   "execution_count": 3,
   "id": "c485afa4-3874-4ad6-8f12-26a6b535755f",
   "metadata": {},
   "outputs": [],
   "source": [
    "info_dict = rsgislib.dataaccess.nasa_cmr.get_prods_info(prod_short_name=prod_name)\n"
   ]
  },
  {
   "cell_type": "code",
   "execution_count": 4,
   "id": "94e10366-0a89-4580-b0f1-23f76b0cef57",
   "metadata": {
    "scrolled": true
   },
   "outputs": [
    {
     "name": "stdout",
     "output_type": "stream",
     "text": [
      "[{'archive_center': 'LP DAAC',\n",
      "  'boxes': ['-90 -180 90 180'],\n",
      "  'browse_flag': True,\n",
      "  'cloud_hosted': True,\n",
      "  'collection_data_type': 'SCIENCE_QUALITY',\n",
      "  'consortiums': ['GEOSS', 'EOSDIS'],\n",
      "  'coordinate_system': 'CARTESIAN',\n",
      "  'data_center': 'LPCLOUD',\n",
      "  'dataset_id': 'MODIS/Terra Vegetation Indices 16-Day L3 Global 250m SIN Grid '\n",
      "                'V061',\n",
      "  'has_combine': False,\n",
      "  'has_formats': False,\n",
      "  'has_spatial_subsetting': False,\n",
      "  'has_temporal_subsetting': False,\n",
      "  'has_transforms': False,\n",
      "  'has_variables': False,\n",
      "  'id': 'C1748066515-LPCLOUD',\n",
      "  'links': [{'href': 'https://doi.org/10.5067/MODIS/MOD13Q1.061',\n",
      "             'hreflang': 'en-US',\n",
      "             'rel': 'http://esipfed.org/ns/fedsearch/1.1/metadata#'},\n",
      "            {'href': 'https://lpdaac.usgs.gov/',\n",
      "             'hreflang': 'en-US',\n",
      "             'rel': 'http://esipfed.org/ns/fedsearch/1.1/metadata#'},\n",
      "            {'href': 'https://e4ftl01.cr.usgs.gov/MOLT/MOD13Q1.061/',\n",
      "             'hreflang': 'en-US',\n",
      "             'length': '92.6MB',\n",
      "             'rel': 'http://esipfed.org/ns/fedsearch/1.1/data#'},\n",
      "            {'href': 'https://search.earthdata.nasa.gov/search/granules?p=C1748066515-LPCLOUD',\n",
      "             'hreflang': 'en-US',\n",
      "             'length': '92.6MB',\n",
      "             'rel': 'http://esipfed.org/ns/fedsearch/1.1/data#'},\n",
      "            {'href': 'https://appeears.earthdatacloud.nasa.gov/',\n",
      "             'hreflang': 'en-US',\n",
      "             'rel': 'http://esipfed.org/ns/fedsearch/1.1/data#'},\n",
      "            {'href': 'https://opendap.cr.usgs.gov/opendap/hyrax/MOD13Q1.061/contents.html',\n",
      "             'hreflang': 'en-US',\n",
      "             'rel': 'http://esipfed.org/ns/fedsearch/1.1/service#'},\n",
      "            {'href': 'https://lpdaac.usgs.gov/documents/104/MOD13_ATBD.pdf',\n",
      "             'hreflang': 'en-US',\n",
      "             'rel': 'http://esipfed.org/ns/fedsearch/1.1/documentation#'},\n",
      "            {'href': 'https://lpdaac.usgs.gov/documents/621/MOD13_User_Guide_V61.pdf',\n",
      "             'hreflang': 'en-US',\n",
      "             'rel': 'http://esipfed.org/ns/fedsearch/1.1/documentation#'},\n",
      "            {'href': 'https://ladsweb.modaps.eosdis.nasa.gov/filespec/MODIS/61/MOD13Q1',\n",
      "             'hreflang': 'en-US',\n",
      "             'rel': 'http://esipfed.org/ns/fedsearch/1.1/documentation#'},\n",
      "            {'href': 'https://modis-land.gsfc.nasa.gov/ValStatus.php?ProductID=MOD13Q1',\n",
      "             'hreflang': 'en-US',\n",
      "             'rel': 'http://esipfed.org/ns/fedsearch/1.1/documentation#'},\n",
      "            {'href': 'https://modis-land.gsfc.nasa.gov/MODLAND_val.html',\n",
      "             'hreflang': 'en-US',\n",
      "             'rel': 'http://esipfed.org/ns/fedsearch/1.1/documentation#'},\n",
      "            {'href': 'https://landweb.modaps.eosdis.nasa.gov/cgi-bin/QA_WWW/qaFlagPage.cgi?sat=terra&ver=C6',\n",
      "             'hreflang': 'en-US',\n",
      "             'rel': 'http://esipfed.org/ns/fedsearch/1.1/documentation#'},\n",
      "            {'href': 'https://cmr.earthdata.nasa.gov/browse-scaler/browse_images/granules/G2346280125-LPCLOUD?h=500&w=500',\n",
      "             'hreflang': 'en-US',\n",
      "             'rel': 'http://esipfed.org/ns/fedsearch/1.1/browse#'}],\n",
      "  'online_access_flag': True,\n",
      "  'orbit_parameters': {},\n",
      "  'organizations': ['LP DAAC', 'NASA/GSFC/SED/ESD/TISL/MODAPS'],\n",
      "  'original_format': 'UMM_JSON',\n",
      "  'platforms': ['Terra'],\n",
      "  'processing_level_id': '3',\n",
      "  'service_features': {'esi': {'has_combine': False,\n",
      "                               'has_formats': False,\n",
      "                               'has_spatial_subsetting': False,\n",
      "                               'has_temporal_subsetting': False,\n",
      "                               'has_transforms': False,\n",
      "                               'has_variables': False},\n",
      "                       'harmony': {'has_combine': False,\n",
      "                                   'has_formats': False,\n",
      "                                   'has_spatial_subsetting': False,\n",
      "                                   'has_temporal_subsetting': False,\n",
      "                                   'has_transforms': False,\n",
      "                                   'has_variables': False},\n",
      "                       'opendap': {'has_combine': False,\n",
      "                                   'has_formats': False,\n",
      "                                   'has_spatial_subsetting': False,\n",
      "                                   'has_temporal_subsetting': False,\n",
      "                                   'has_transforms': False,\n",
      "                                   'has_variables': False}},\n",
      "  'short_name': 'MOD13Q1',\n",
      "  'summary': 'The Terra Moderate Resolution Imaging Spectroradiometer (MODIS) '\n",
      "             'Vegetation Indices (MOD13Q1) Version 6.1 data are generated '\n",
      "             'every 16 days at 250 meter (m) spatial resolution as a Level 3 '\n",
      "             'product. The MOD13Q1 product provides two primary vegetation '\n",
      "             'layers. The first is the Normalized Difference Vegetation Index '\n",
      "             '(NDVI) which is referred to as the continuity index to the '\n",
      "             'existing National Oceanic and Atmospheric '\n",
      "             'Administration-Advanced Very High Resolution Radiometer '\n",
      "             '(NOAA-AVHRR) derived NDVI. The second vegetation layer is the '\n",
      "             'Enhanced Vegetation Index (EVI), which has improved sensitivity '\n",
      "             'over high biomass regions. The algorithm chooses the best '\n",
      "             'available pixel value from all the acquisitions from the 16 day '\n",
      "             'period. The criteria used is low clouds, low view angle, and the '\n",
      "             'highest NDVI/EVI value.\\n'\n",
      "             '\\n'\n",
      "             'Along with the vegetation layers and the two quality layers, the '\n",
      "             'HDF file will have MODIS reflectance bands 1 (red), 2 '\n",
      "             '(near-infrared), 3 (blue), and 7 (mid-infrared), as well as four '\n",
      "             'observation layers. \\n'\n",
      "             '\\n'\n",
      "             'Validation at stage 3 '\n",
      "             '(https://landweb.modaps.eosdis.nasa.gov/cgi-bin/QA_WWW/newPage.cgi?fileName=maturity) '\n",
      "             'has been achieved for all MOD13 vegetation products. Further '\n",
      "             'details regarding product validation for the MOD13Q1 data '\n",
      "             'product is available from the MODIS land team validation site '\n",
      "             '(https://landval.gsfc.nasa.gov/ProductStatus.php?ProductID=MOD13).\\n'\n",
      "             '\\n'\n",
      "             'Improvements/Changes from Previous Versions\\n'\n",
      "             '\\n'\n",
      "             '* The Version 6.1 Level-1B (L1B) products have been improved by '\n",
      "             'undergoing various calibration changes that include: changes to '\n",
      "             'the response-versus-scan angle (RVS) approach that affects '\n",
      "             'reflectance bands for Aqua and Terra MODIS, corrections to '\n",
      "             'adjust for the optical crosstalk in Terra MODIS infrared (IR) '\n",
      "             'bands, and corrections to the Terra MODIS forward look-up table '\n",
      "             '(LUT) update for the period 2012 - 2017.\\n'\n",
      "             '* A polarization correction has been applied to the L1B '\n",
      "             'Reflective Solar Bands (RSB).',\n",
      "  'time_start': '2000-02-18T00:00:00.000Z',\n",
      "  'title': 'MODIS/Terra Vegetation Indices 16-Day L3 Global 250m SIN Grid V061',\n",
      "  'updated': '2021-02-16T00:00:00.000Z',\n",
      "  'version_id': '061'}]\n"
     ]
    }
   ],
   "source": [
    "pprint.pprint(info_dict)"
   ]
  },
  {
   "cell_type": "markdown",
   "id": "1bf350f3-d0b2-45e2-a563-9c477297db13",
   "metadata": {},
   "source": [
    "## Find Most Recent Version\n",
    "\n",
    "You can find the most recent version of the product you are interested in using the function below:"
   ]
  },
  {
   "cell_type": "code",
   "execution_count": 5,
   "id": "ce3c3575-8b70-4b15-b7de-c5242d5f6d42",
   "metadata": {},
   "outputs": [
    {
     "data": {
      "text/plain": [
       "'061'"
      ]
     },
     "execution_count": 5,
     "metadata": {},
     "output_type": "execute_result"
    }
   ],
   "source": [
    "max_version = rsgislib.dataaccess.nasa_cmr.get_max_prod_version(prod_short_name=prod_name)\n",
    "max_version"
   ]
  },
  {
   "cell_type": "markdown",
   "id": "4e1353af-2342-4704-8dbe-234fcb8f2808",
   "metadata": {},
   "source": [
    "## Search for Data\n",
    "\n",
    "Use the following function to search for the data you are interested in. You can specify the boundary box but also limit the search by date"
   ]
  },
  {
   "cell_type": "code",
   "execution_count": 6,
   "id": "f0f66d5d-3d60-4f43-bb86-63f46e80d940",
   "metadata": {},
   "outputs": [],
   "source": [
    "bbox = [39.1, 39.5, -8, -7.6]\n",
    "prod_data_granules = rsgislib.dataaccess.nasa_cmr.find_granules(prod_short_name=prod_name, \n",
    "                                                                version=max_version, \n",
    "                                                                only_dnwld = True, \n",
    "                                                                bbox = bbox, \n",
    "                                                                pt = None, \n",
    "                                                                start_date = datetime.datetime(year=2020, month=4, day=1), \n",
    "                                                                end_date = datetime.datetime(year=2020, month=4, day=30), \n",
    "                                                                cloud_min = 0, \n",
    "                                                                cloud_max = None, \n",
    "                                                                sort_date = True, \n",
    "                                                                sort_desc = True, \n",
    "                                                                page_size = 100, \n",
    "                                                                page_num = 1, \n",
    "                                                                other_params = None)\n"
   ]
  },
  {
   "cell_type": "code",
   "execution_count": 7,
   "id": "ff977d1b-57bf-47bf-af59-0b11f205910c",
   "metadata": {},
   "outputs": [
    {
     "data": {
      "text/plain": [
       "3"
      ]
     },
     "execution_count": 7,
     "metadata": {},
     "output_type": "execute_result"
    }
   ],
   "source": [
    "# Print out the number of data granules found\n",
    "len(prod_data_granules)"
   ]
  },
  {
   "cell_type": "markdown",
   "id": "4931da17-3b50-488c-acea-b3ba01fd7f06",
   "metadata": {},
   "source": [
    "### Print a single product to check the data type to download. \n",
    "\n",
    "Look up the file that you will want to download (e.g., ATL08_20200517210904_07990708_006_01.h5) and note the data type (e.g., application/x-hdf5) as you'll need it later."
   ]
  },
  {
   "cell_type": "code",
   "execution_count": 8,
   "id": "b3356114-21dc-4119-87d5-20df9dd14002",
   "metadata": {
    "scrolled": true
   },
   "outputs": [
    {
     "name": "stdout",
     "output_type": "stream",
     "text": [
      "{'browse_flag': True,\n",
      " 'cloud_cover': '28.0',\n",
      " 'collection_concept_id': 'C1748066515-LPCLOUD',\n",
      " 'coordinate_system': 'GEODETIC',\n",
      " 'data_center': 'LPCLOUD',\n",
      " 'dataset_id': 'MODIS/Terra Vegetation Indices 16-Day L3 Global 250m SIN Grid '\n",
      "               'V061',\n",
      " 'day_night_flag': 'DAY',\n",
      " 'granule_size': '222.992',\n",
      " 'id': 'G2192936668-LPCLOUD',\n",
      " 'links': [{'href': 'https://data.lpdaac.earthdatacloud.nasa.gov/lp-prod-protected/MOD13Q1.061/MOD13Q1.A2020113.h21v09.061.2020333054308/MOD13Q1.A2020113.h21v09.061.2020333054308.hdf',\n",
      "            'hreflang': 'en-US',\n",
      "            'rel': 'http://esipfed.org/ns/fedsearch/1.1/data#',\n",
      "            'title': 'Download MOD13Q1.A2020113.h21v09.061.2020333054308.hdf'},\n",
      "           {'href': 's3://lp-prod-protected/MOD13Q1.061/MOD13Q1.A2020113.h21v09.061.2020333054308/MOD13Q1.A2020113.h21v09.061.2020333054308.hdf',\n",
      "            'hreflang': 'en-US',\n",
      "            'rel': 'http://esipfed.org/ns/fedsearch/1.1/s3#',\n",
      "            'title': 'This link provides direct download access via S3 to the '\n",
      "                     'granule'},\n",
      "           {'href': 'https://doi.org/10.5067/MODIS/MOD13Q1.061',\n",
      "            'hreflang': 'en-US',\n",
      "            'rel': 'http://esipfed.org/ns/fedsearch/1.1/documentation#',\n",
      "            'title': 'The Landing Page for this file may be accessed directly '\n",
      "                     'from this link (DOI)',\n",
      "            'type': 'text/html'},\n",
      "           {'href': 'https://data.lpdaac.earthdatacloud.nasa.gov/lp-prod-protected/MOD13Q1.061/MOD13Q1.A2020113.h21v09.061.2020333054308/MOD13Q1.A2020113.h21v09.061.2020333054308.cmr.xml',\n",
      "            'hreflang': 'en-US',\n",
      "            'rel': 'http://esipfed.org/ns/fedsearch/1.1/metadata#',\n",
      "            'title': 'Download '\n",
      "                     'MOD13Q1.A2020113.h21v09.061.2020333054308.cmr.xml '\n",
      "                     '(EXTENDED METADATA)'},\n",
      "           {'href': 's3://lp-prod-protected/MOD13Q1.061/MOD13Q1.A2020113.h21v09.061.2020333054308/MOD13Q1.A2020113.h21v09.061.2020333054308.cmr.xml',\n",
      "            'hreflang': 'en-US',\n",
      "            'rel': 'http://esipfed.org/ns/fedsearch/1.1/metadata#',\n",
      "            'title': 'This link provides direct download access via S3 to the '\n",
      "                     'granule (EXTENDED METADATA)'},\n",
      "           {'href': 'https://data.lpdaac.earthdatacloud.nasa.gov/s3credentials',\n",
      "            'hreflang': 'en-US',\n",
      "            'rel': 'http://esipfed.org/ns/fedsearch/1.1/metadata#',\n",
      "            'title': 'api endpoint to retrieve temporary credentials valid for '\n",
      "                     'same-region direct s3 access (VIEW RELATED INFORMATION)'},\n",
      "           {'href': 'https://data.lpdaac.earthdatacloud.nasa.gov/lp-prod-public/MOD13Q1.061/MOD13Q1.A2020113.h21v09.061.2020333054308/BROWSE.MOD13Q1.A2020113.h21v09.061.2020333054308.1.jpg',\n",
      "            'hreflang': 'en-US',\n",
      "            'rel': 'http://esipfed.org/ns/fedsearch/1.1/browse#',\n",
      "            'title': 'Download '\n",
      "                     'BROWSE.MOD13Q1.A2020113.h21v09.061.2020333054308.1.jpg'},\n",
      "           {'href': 's3://lp-prod-public/MOD13Q1.061/MOD13Q1.A2020113.h21v09.061.2020333054308/BROWSE.MOD13Q1.A2020113.h21v09.061.2020333054308.1.jpg',\n",
      "            'hreflang': 'en-US',\n",
      "            'rel': 'http://esipfed.org/ns/fedsearch/1.1/browse#',\n",
      "            'title': 'This link provides direct download access via S3 to the '\n",
      "                     'granule'},\n",
      "           {'href': 'https://data.lpdaac.earthdatacloud.nasa.gov/lp-prod-public/MOD13Q1.061/MOD13Q1.A2020113.h21v09.061.2020333054308/BROWSE.MOD13Q1.A2020113.h21v09.061.2020333054308.2.jpg',\n",
      "            'hreflang': 'en-US',\n",
      "            'rel': 'http://esipfed.org/ns/fedsearch/1.1/browse#',\n",
      "            'title': 'Download '\n",
      "                     'BROWSE.MOD13Q1.A2020113.h21v09.061.2020333054308.2.jpg'},\n",
      "           {'href': 's3://lp-prod-public/MOD13Q1.061/MOD13Q1.A2020113.h21v09.061.2020333054308/BROWSE.MOD13Q1.A2020113.h21v09.061.2020333054308.2.jpg',\n",
      "            'hreflang': 'en-US',\n",
      "            'rel': 'http://esipfed.org/ns/fedsearch/1.1/browse#',\n",
      "            'title': 'This link provides direct download access via S3 to the '\n",
      "                     'granule'},\n",
      "           {'href': 'https://doi.org/10.5067/MODIS/MOD13Q1.061',\n",
      "            'hreflang': 'en-US',\n",
      "            'inherited': True,\n",
      "            'rel': 'http://esipfed.org/ns/fedsearch/1.1/metadata#'},\n",
      "           {'href': 'https://lpdaac.usgs.gov/',\n",
      "            'hreflang': 'en-US',\n",
      "            'inherited': True,\n",
      "            'rel': 'http://esipfed.org/ns/fedsearch/1.1/metadata#'},\n",
      "           {'href': 'https://e4ftl01.cr.usgs.gov/MOLT/MOD13Q1.061/',\n",
      "            'hreflang': 'en-US',\n",
      "            'inherited': True,\n",
      "            'length': '92.6MB',\n",
      "            'rel': 'http://esipfed.org/ns/fedsearch/1.1/data#'},\n",
      "           {'href': 'https://search.earthdata.nasa.gov/search/granules?p=C1748066515-LPCLOUD',\n",
      "            'hreflang': 'en-US',\n",
      "            'inherited': True,\n",
      "            'length': '92.6MB',\n",
      "            'rel': 'http://esipfed.org/ns/fedsearch/1.1/data#'},\n",
      "           {'href': 'https://appeears.earthdatacloud.nasa.gov/',\n",
      "            'hreflang': 'en-US',\n",
      "            'inherited': True,\n",
      "            'rel': 'http://esipfed.org/ns/fedsearch/1.1/data#'},\n",
      "           {'href': 'https://opendap.cr.usgs.gov/opendap/hyrax/MOD13Q1.061/contents.html',\n",
      "            'hreflang': 'en-US',\n",
      "            'inherited': True,\n",
      "            'rel': 'http://esipfed.org/ns/fedsearch/1.1/service#'},\n",
      "           {'href': 'https://lpdaac.usgs.gov/documents/104/MOD13_ATBD.pdf',\n",
      "            'hreflang': 'en-US',\n",
      "            'inherited': True,\n",
      "            'rel': 'http://esipfed.org/ns/fedsearch/1.1/documentation#'},\n",
      "           {'href': 'https://lpdaac.usgs.gov/documents/621/MOD13_User_Guide_V61.pdf',\n",
      "            'hreflang': 'en-US',\n",
      "            'inherited': True,\n",
      "            'rel': 'http://esipfed.org/ns/fedsearch/1.1/documentation#'},\n",
      "           {'href': 'https://ladsweb.modaps.eosdis.nasa.gov/filespec/MODIS/61/MOD13Q1',\n",
      "            'hreflang': 'en-US',\n",
      "            'inherited': True,\n",
      "            'rel': 'http://esipfed.org/ns/fedsearch/1.1/documentation#'},\n",
      "           {'href': 'https://modis-land.gsfc.nasa.gov/ValStatus.php?ProductID=MOD13Q1',\n",
      "            'hreflang': 'en-US',\n",
      "            'inherited': True,\n",
      "            'rel': 'http://esipfed.org/ns/fedsearch/1.1/documentation#'},\n",
      "           {'href': 'https://modis-land.gsfc.nasa.gov/MODLAND_val.html',\n",
      "            'hreflang': 'en-US',\n",
      "            'inherited': True,\n",
      "            'rel': 'http://esipfed.org/ns/fedsearch/1.1/documentation#'},\n",
      "           {'href': 'https://landweb.modaps.eosdis.nasa.gov/cgi-bin/QA_WWW/qaFlagPage.cgi?sat=terra&ver=C6',\n",
      "            'hreflang': 'en-US',\n",
      "            'inherited': True,\n",
      "            'rel': 'http://esipfed.org/ns/fedsearch/1.1/documentation#'}],\n",
      " 'online_access_flag': True,\n",
      " 'original_format': 'ECHO10',\n",
      " 'polygons': [['-9.9998919 40.6239581 0.0034202 40.011892 -0.0000385 '\n",
      "               '29.8878503 -10.0030363 30.3449669 -9.9998919 40.6239581']],\n",
      " 'producer_granule_id': 'MOD13Q1.A2020113.h21v09.061.2020333054308',\n",
      " 'time_end': '2020-05-07T23:59:59.000Z',\n",
      " 'time_start': '2020-04-22T00:00:00.000Z',\n",
      " 'title': 'MOD13Q1.A2020113.h21v09.061.2020333054308',\n",
      " 'updated': '2020-12-04T09:04:04.821Z'}\n"
     ]
    }
   ],
   "source": [
    "pprint.pprint(prod_data_granules[0])"
   ]
  },
  {
   "cell_type": "markdown",
   "id": "c49e7b35-6599-48a8-891f-9ceb014d4682",
   "metadata": {},
   "source": [
    "## How much data is to be downloaded?\n",
    "\n",
    "The following function sums the file sizes of the identified data to download:"
   ]
  },
  {
   "cell_type": "code",
   "execution_count": 9,
   "id": "9cfdf0dc-0753-484b-b06f-3ae2ad47dfb1",
   "metadata": {},
   "outputs": [
    {
     "data": {
      "text/plain": [
       "671.273"
      ]
     },
     "execution_count": 9,
     "metadata": {},
     "output_type": "execute_result"
    }
   ],
   "source": [
    "total_file_size = rsgislib.dataaccess.nasa_cmr.get_total_file_size(granule_lst=prod_data_granules)\n",
    "total_file_size"
   ]
  },
  {
   "cell_type": "markdown",
   "id": "db234e64-6a41-4d3a-8f9a-ea0832333986",
   "metadata": {},
   "source": [
    "## Get the Download URLs\n",
    "\n",
    "The next step is to build a [pysondb](https://github.com/pysonDB/pysonDB) database of the data file to be downloaded"
   ]
  },
  {
   "cell_type": "code",
   "execution_count": 10,
   "id": "79cab80f-2626-4bdd-8900-fc4eb607da91",
   "metadata": {},
   "outputs": [],
   "source": [
    "# The file name of the pysondb JSON database\n",
    "db_file_name = f\"{prod_name}_scns_db.json\""
   ]
  },
  {
   "cell_type": "code",
   "execution_count": 11,
   "id": "c909b4e4-2c68-4ef2-85a2-d0966092b2c5",
   "metadata": {},
   "outputs": [
    {
     "name": "stderr",
     "output_type": "stream",
     "text": [
      "100%|██████████████████████████████████████████████████████████████████████████████████████████████████████████████████████████████████████████████████████| 3/3 [00:00<00:00, 16215.09it/s]\n"
     ]
    }
   ],
   "source": [
    "urls_not_found = rsgislib.dataaccess.nasa_cmr.create_cmr_dwnld_db(\n",
    "    db_json = db_file_name, \n",
    "    granule_lst=prod_data_granules, \n",
    "    dwnld_file_mime_type = \"application/x-hdfeos\"\n",
    ")"
   ]
  },
  {
   "cell_type": "code",
   "execution_count": 12,
   "id": "afa4ffd6-3582-4d94-b3f5-7b3f80e119dc",
   "metadata": {},
   "outputs": [
    {
     "data": {
      "text/plain": [
       "3"
      ]
     },
     "execution_count": 12,
     "metadata": {},
     "output_type": "execute_result"
    }
   ],
   "source": [
    "# Check whether there were data for which the URL could not be found.\n",
    "len(urls_not_found)"
   ]
  },
  {
   "cell_type": "code",
   "execution_count": 13,
   "id": "bf2a7c80-b721-4728-b47a-fa18f68de280",
   "metadata": {},
   "outputs": [
    {
     "data": {
      "text/plain": [
       "['MOD13Q1.A2020113.h21v09.061.2020333054308',\n",
       " 'MOD13Q1.A2020097.h21v09.061.2020332103549',\n",
       " 'MOD13Q1.A2020081.h21v09.061.2020335013855']"
      ]
     },
     "execution_count": 13,
     "metadata": {},
     "output_type": "execute_result"
    }
   ],
   "source": [
    "urls_not_found"
   ]
  },
  {
   "cell_type": "markdown",
   "id": "44250159-8201-43f8-acad-164e3e14cc01",
   "metadata": {},
   "source": [
    "## Download the Data"
   ]
  },
  {
   "cell_type": "markdown",
   "id": "1e9ea8ed-d635-4ba0-a652-0dffc88bc22c",
   "metadata": {},
   "source": [
    "### Create Username and Password File\n",
    "\n",
    "You need to be careful with your username and password and therefore you should not write them into the notebook. RSGISlib provide a tool/functions for doing a basic encoding of the username and password so they are not stored as free text (Note. be careful as the simple encoding is not secure). \n",
    "\n",
    "To create the encoded file, you can use the command line tool `rsgisuserpassfile.py` as shown below:\n",
    "\n",
    "`rsgisuserpassfile.py userinfo.txt`\n",
    "\n",
    "Once you have created the `userinfo.txt` file, you can read it into your notebook/script using the `get_username_password` function shown below:"
   ]
  },
  {
   "cell_type": "markdown",
   "id": "14859c02-19d3-4a10-80b7-aa3b0b308c9c",
   "metadata": {},
   "source": [
    "### Create Output Directory"
   ]
  },
  {
   "cell_type": "code",
   "execution_count": 14,
   "id": "c9ea0772-cb9f-43a2-b9f5-fdae8690d067",
   "metadata": {},
   "outputs": [],
   "source": [
    "out_dwnld_dir = \"MOD13Q1_data\"\n",
    "if not os.path.exists(out_dwnld_dir):\n",
    "    os.mkdir(out_dwnld_dir)"
   ]
  },
  {
   "cell_type": "markdown",
   "id": "5d26825a-adb2-4896-af8a-0c6124344782",
   "metadata": {},
   "source": [
    "### Run Download"
   ]
  },
  {
   "cell_type": "code",
   "execution_count": 15,
   "id": "5b121855-238e-4841-b449-121fa1de5ff2",
   "metadata": {},
   "outputs": [],
   "source": [
    "rsgislib.dataaccess.nasa_cmr.download_granules_use_dwnld_db(\n",
    "    db_json = db_file_name, \n",
    "    out_path = out_dwnld_dir, \n",
    "    user_pass_file = \"userinfo.txt\", \n",
    "    use_wget = False\n",
    ")"
   ]
  },
  {
   "cell_type": "code",
   "execution_count": null,
   "id": "e3b5c72e-dd1b-45a0-9656-17d79ef5cf55",
   "metadata": {},
   "outputs": [],
   "source": []
  }
 ],
 "metadata": {
  "kernelspec": {
   "display_name": "Python 3 (ipykernel)",
   "language": "python",
   "name": "python3"
  },
  "language_info": {
   "codemirror_mode": {
    "name": "ipython",
    "version": 3
   },
   "file_extension": ".py",
   "mimetype": "text/x-python",
   "name": "python",
   "nbconvert_exporter": "python",
   "pygments_lexer": "ipython3",
   "version": "3.12.4"
  }
 },
 "nbformat": 4,
 "nbformat_minor": 5
}
