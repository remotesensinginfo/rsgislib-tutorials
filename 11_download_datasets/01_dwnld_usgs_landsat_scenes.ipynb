{
 "cells": [
  {
   "cell_type": "markdown",
   "id": "59b54e7b-443c-4a9e-a901-cef2555c4e12",
   "metadata": {},
   "source": [
    "# Finding Landsat Scenes\n",
    "\n",
    "This tutorial uses the USGS Machine-to-Machine (M2M) API to find Landsat scenes and then download them. \n",
    "\n",
    "To have access to the M2M service, you need to request access (https://m2m.cr.usgs.gov/api/docs/json/)\n"
   ]
  },
  {
   "cell_type": "code",
   "execution_count": null,
   "id": "3c635dc0-d4e8-4e8f-81e2-69e8c095bfbc",
   "metadata": {},
   "outputs": [],
   "source": [
    "import rsgislib.dataaccess.usgs_m2m\n",
    "import rsgislib.tools.utils\n",
    "import rsgislib.tools.httptools\n",
    "import datetime\n",
    "import os"
   ]
  },
  {
   "cell_type": "markdown",
   "id": "2d5bbac9-2a15-4559-a9f5-0e3427f7d340",
   "metadata": {},
   "source": [
    "## Username and Password\n",
    "\n",
    "You need to be careful with your username and password and therefore you should not write them into the notebook. RSGISlib provide a tool/functions for doing a basic encoding of the username and password so they are not stored as free text (Note. be careful as the simple encoding is not secure). \n",
    "\n",
    "To create the encoded file, you can use the command line tool `rsgisuserpassfile.py` as shown below:\n",
    "\n",
    "`rsgisuserpassfile.py userinfo.txt`\n",
    "\n",
    "Once you have created the `userinfo.txt` file, you can read it into your notebook/script using the `get_username_password` function shown below:"
   ]
  },
  {
   "cell_type": "code",
   "execution_count": null,
   "id": "d947c54d-d717-415f-8548-b66260b868ea",
   "metadata": {},
   "outputs": [],
   "source": [
    "username, password = rsgislib.tools.utils.get_username_password(input_file = \"userinfo.txt\")"
   ]
  },
  {
   "cell_type": "markdown",
   "id": "44bb9b21-90f9-4f2e-8107-abd92af1a0b0",
   "metadata": {},
   "source": [
    "## API Key\n",
    "\n",
    "For all M2M calls, you need to pass your API key, which is generated for your session using your username and password. Note, the `RSGIS_USGS_USER` and `RSGIS_USGS_PASS` environmental variables can be defined for the system you are using, and then you do not need to pass the username and password into the function. \n",
    "\n",
    "The API key is generated using use the following function:"
   ]
  },
  {
   "cell_type": "code",
   "execution_count": null,
   "id": "9f5c34bd-4fc9-4ea8-8e6f-72ebbc9846db",
   "metadata": {},
   "outputs": [],
   "source": [
    "api_key = rsgislib.dataaccess.usgs_m2m.usgs_login(username=username, password=password)\n",
    "api_key"
   ]
  },
  {
   "cell_type": "markdown",
   "id": "70d2a589-096b-44ea-8f01-565486e1613f",
   "metadata": {},
   "source": [
    "## Search by WRS2 Row/Path\n",
    "\n",
    "I would commonly search by Landsat WRS2 row and path, and the way to do that is to find the lat/long at the centre of the row/path of interest. Alternatively, you can just search by a bounding box or point.\n",
    "\n",
    "For this example, we'll search for the row/path 24/204 which is one of the scenes which covers Aberystwyth."
   ]
  },
  {
   "cell_type": "code",
   "execution_count": null,
   "id": "3e9013e8-0c25-4994-8446-a5372fcbb77b",
   "metadata": {},
   "outputs": [],
   "source": [
    "lon, lat = rsgislib.dataaccess.usgs_m2m.get_wrs_pt(\n",
    "        api_key=api_key, row=24, path=204, grid_version=2\n",
    "    )\n",
    "print(f\"{lon}, {lat}\")"
   ]
  },
  {
   "cell_type": "markdown",
   "id": "1089c1a4-21c7-4b57-8b82-83bb9596a45d",
   "metadata": {},
   "source": [
    "## Search for Scenes\n",
    "\n",
    "The datasets which are available are listed below:\n",
    "\n",
    "| Dataset Name | Dataset ID |\n",
    "|-|-|\n",
    "| Landsat 4/5 TM Collection 1 Level 1 | `landsat_tm_c1` |\n",
    "| Landsat 4/5 TM Collection 2 Level 1 | `landsat_tm_c2_l1` |\n",
    "| Landsat 4/5 TM Collection 2 Level 2 | `landsat_tm_c2_l2` |\n",
    "| Landsat 7 ETM+ Collection 1 Level 1 | `landsat_etm_c1` |\n",
    "| Landsat 7 ETM+ Collection 2 Level 1 | `landsat_etm_c2_l1` |\n",
    "| Landsat 7 ETM+ Collection 2 Level 2 | `landsat_etm_c2_l2` |\n",
    "| Landsat 8/9 Collection 1 Level 1 | `landsat_8_c1` |\n",
    "| Landsat 8/9 Collection 2 Level 1 | `landsat_ot_c2_l1` |\n",
    "| Landsat 8/9 Collection 2 Level 2 | `landsat_ot_c2_l2` |\n",
    "| Sentinel 2A | `sentinel_2a` |\n",
    "\n",
    "You can also specify the min-max cloud cover thresholds, start and end time periods and months of interest, alongside a point or boundary box to be searched.\n",
    "\n",
    "The function below can then be used to search for scenes:"
   ]
  },
  {
   "cell_type": "code",
   "execution_count": null,
   "id": "38dc4c2f-529a-4f5a-addb-ade6932ba28f",
   "metadata": {},
   "outputs": [],
   "source": [
    "# Specify the dataset which are want to download:\n",
    "usgs_dataset = \"landsat_ot_c2_l2\""
   ]
  },
  {
   "cell_type": "code",
   "execution_count": null,
   "id": "0a28820a-33a0-4d04-b3c5-37d0b9588b27",
   "metadata": {},
   "outputs": [],
   "source": [
    "scn_lst, meta_data_dict = rsgislib.dataaccess.usgs_m2m.usgs_search(\n",
    "        dataset=usgs_dataset,\n",
    "        api_key=api_key,\n",
    "        start_date=datetime.datetime(year=2020, month=4, day=1),\n",
    "        end_date=datetime.datetime(year=2020, month=6, day=30),\n",
    "        cloud_min=0,\n",
    "        cloud_max=20,\n",
    "        pt=[lat, lon],\n",
    "        bbox=None,\n",
    "        poly_geom=None,\n",
    "        months=None,\n",
    "        full_meta=False,\n",
    "        max_n_rslts=10,\n",
    "        start_n=None,\n",
    "    )"
   ]
  },
  {
   "cell_type": "code",
   "execution_count": null,
   "id": "b2546f1a-561c-4713-98a2-73826e1c7793",
   "metadata": {},
   "outputs": [],
   "source": [
    "scn_lst"
   ]
  },
  {
   "cell_type": "markdown",
   "id": "f0fae650-b833-4f55-a24b-22d281deafe1",
   "metadata": {},
   "source": [
    "## Get Download IDs\n",
    "\n",
    "The next step is to get a list of download IDs for the scenes, this is done using the function below:\n"
   ]
  },
  {
   "cell_type": "code",
   "execution_count": null,
   "id": "37bca0b2-4cc7-4611-8915-e81d1aa5857c",
   "metadata": {},
   "outputs": [],
   "source": [
    "scn_dsp_ids, scn_ent_ids = rsgislib.dataaccess.usgs_m2m.get_download_ids(scn_lst)"
   ]
  },
  {
   "cell_type": "code",
   "execution_count": null,
   "id": "0de5b92c-d27a-4991-b659-43d652c16e5d",
   "metadata": {},
   "outputs": [],
   "source": [
    "scn_dsp_ids"
   ]
  },
  {
   "cell_type": "markdown",
   "id": "8a5d79e9-b711-439b-8093-fb5897496758",
   "metadata": {},
   "source": [
    "## Create Scene List\n",
    "\n",
    "Next you need to create a download list on the USGS server. You need to provide a unique name for your list but also a time period for which the list should be stored. See the [RSGISLib documentation](http://rsgislib.org/dev/rsgislib_dataaccess.html#rsgislib.dataaccess.usgs_m2m.create_scene_list) on how the time period should be specified but generally I would specify that they should exist for 1 week which is `P1W`."
   ]
  },
  {
   "cell_type": "code",
   "execution_count": null,
   "id": "8f2ebaa9-ff41-4b30-a778-12a681449652",
   "metadata": {},
   "outputs": [],
   "source": [
    "# Define a unique base name for the search and download list.\n",
    "dnwld_name = \"aber_r24_p204\""
   ]
  },
  {
   "cell_type": "code",
   "execution_count": null,
   "id": "0f94b6a5-f96a-46e4-a3e5-9079630c46e6",
   "metadata": {},
   "outputs": [],
   "source": [
    "scn_lst_add_info = rsgislib.dataaccess.usgs_m2m.create_scene_list(\n",
    "            api_key=api_key,\n",
    "            dataset=usgs_dataset,\n",
    "            scn_ent_ids=scn_ent_ids,\n",
    "            lst_name=f\"{dnwld_name}_lst\",\n",
    "            lst_period=\"P1W\",\n",
    "        )"
   ]
  },
  {
   "cell_type": "markdown",
   "id": "356eac86-3949-4b3f-9007-91fe39b54aed",
   "metadata": {},
   "source": [
    "## Check Scenes are available for Download\n",
    "\n",
    "Once you have created the scene list, you need to get the download list: "
   ]
  },
  {
   "cell_type": "code",
   "execution_count": null,
   "id": "903b0703-c2ca-491b-89cc-ad84945d2870",
   "metadata": {},
   "outputs": [],
   "source": [
    "dwlds_lst = rsgislib.dataaccess.usgs_m2m.check_dwnld_opts(\n",
    "            api_key=api_key,\n",
    "            lst_name=f\"{dnwld_name}_lst\",\n",
    "            dataset=usgs_dataset,\n",
    "            dwnld_filetype=\"bundle\",\n",
    "            rm_lst=True,\n",
    "        )"
   ]
  },
  {
   "cell_type": "markdown",
   "id": "af48b76b-00a9-4d41-ac84-3f0bb2958546",
   "metadata": {},
   "source": [
    "## Request Downloads\n",
    "\n",
    "You can now request the download URLs:"
   ]
  },
  {
   "cell_type": "code",
   "execution_count": null,
   "id": "e27d8a40-cd1c-4cf8-9c7f-5a12b600c0b7",
   "metadata": {},
   "outputs": [],
   "source": [
    "avail_dwn_urls, prep_dwnld_ids = rsgislib.dataaccess.usgs_m2m.request_downloads(\n",
    "            api_key=api_key,\n",
    "            dwlds_lst=dwlds_lst,\n",
    "            dwnld_label=f\"{dnwld_name}_dwnld\",\n",
    "        )"
   ]
  },
  {
   "cell_type": "markdown",
   "id": "5fcaa21e-d493-4409-bed6-3f9b49405c82",
   "metadata": {},
   "source": [
    "## Get the List of URLs\n",
    "\n",
    "The following loop extracts the URLs for each scene ID and checks whether the scene is a tier 1 (T1) scene, as tier 2 (T2) data is commonly poorly registered. This results in a dictionary of URLs to be downloaded:"
   ]
  },
  {
   "cell_type": "code",
   "execution_count": null,
   "id": "6dbfafcd-d054-48d6-aab9-b71e2bc612a9",
   "metadata": {},
   "outputs": [],
   "source": [
    "file_urls = dict()\n",
    "for scn_id in scn_dsp_ids:\n",
    "    print(scn_id)\n",
    "    for url_id in avail_dwn_urls:\n",
    "        if scn_id in avail_dwn_urls[url_id]:\n",
    "            if \"T1\" in scn_id:\n",
    "                file_urls[f\"{scn_id}.tar\"] = avail_dwn_urls[url_id]"
   ]
  },
  {
   "cell_type": "code",
   "execution_count": null,
   "id": "17fbd0ab-e6fd-4b6f-abf5-6859d23656d0",
   "metadata": {},
   "outputs": [],
   "source": [
    "file_urls"
   ]
  },
  {
   "cell_type": "markdown",
   "id": "79b510d9-352f-4feb-8c71-8c2cd7352c11",
   "metadata": {},
   "source": [
    "## Create a Database of the URLs to download\n",
    "\n",
    "When there is a long list of URLs that need to be downloaded, it is useful to keep track of whether a scene has been successfully downloaded. To do this, RSGISLib used the [pysondb](https://github.com/pysonDB/pysonDB) module, which will need to be installed on your system. "
   ]
  },
  {
   "cell_type": "code",
   "execution_count": null,
   "id": "74184d10-a037-4ae7-84d3-5ee059e546db",
   "metadata": {},
   "outputs": [],
   "source": [
    "ls_scns_file = \"aber_r24_p204_scns.json\"\n",
    "rsgislib.tools.httptools.create_file_listings_db(\n",
    "    db_json=ls_scns_file,\n",
    "    file_urls=file_urls,\n",
    ")"
   ]
  },
  {
   "cell_type": "markdown",
   "id": "f3da7e9b-80ca-4e92-906f-b438eb5a29f0",
   "metadata": {},
   "source": [
    "## Logout of the USGS M2M system\n",
    "\n",
    "Finally you should logout of the USGS M2M system using the function below:"
   ]
  },
  {
   "cell_type": "code",
   "execution_count": null,
   "id": "b836a39a-99d1-47f0-949b-1ac4feaa5a44",
   "metadata": {},
   "outputs": [],
   "source": [
    "rsgislib.dataaccess.usgs_m2m.usgs_logout(api_key)"
   ]
  },
  {
   "cell_type": "markdown",
   "id": "9f453d6d-200e-438f-b197-ea7418b3b4d6",
   "metadata": {},
   "source": [
    "## Perform Download\n",
    "\n",
    "The final stage is to actually download the data requested. This is performed using the following functions:"
   ]
  },
  {
   "cell_type": "markdown",
   "id": "fa03c551-afce-4381-b831-dc43c9e2f4d5",
   "metadata": {},
   "source": [
    "### Create Output Directory"
   ]
  },
  {
   "cell_type": "code",
   "execution_count": null,
   "id": "2ad30622-299e-4cc3-97e5-4cbb403fae34",
   "metadata": {},
   "outputs": [],
   "source": [
    "out_dwnld_dir = \"aber_r24_p204\"\n",
    "if not os.path.exists(out_dwnld_dir):\n",
    "    os.mkdir(out_dwnld_dir)"
   ]
  },
  {
   "cell_type": "markdown",
   "id": "e673869c-4c59-4ef8-b117-35ace1d24c57",
   "metadata": {},
   "source": [
    "### Run Download\n",
    "\n",
    "RSGISLib has a function which downloads the URLs within the [pysondb](https://github.com/pysonDB/pysonDB) json database and records those which were successfully downloaded. You can read the database file (`aber_r24_p204_scns.json`) in each text editor if you want to check which files have been downloaded etc. or just run the function again and it'll only try and download the scenes which have not been previously downloaded."
   ]
  },
  {
   "cell_type": "code",
   "execution_count": null,
   "id": "de435a3c-b28f-4dad-ac75-3a87d2abcf2b",
   "metadata": {},
   "outputs": [],
   "source": [
    "rsgislib.tools.httptools.download_http_files_use_lst_db(\n",
    "    db_json=ls_scns_file,\n",
    "    out_dir_path=out_dwnld_dir,\n",
    "    http_user=None,\n",
    "    http_pass=None,\n",
    "    use_wget=False,\n",
    "    wget_time_out=60,\n",
    "    check_file_exists=True,\n",
    ")"
   ]
  },
  {
   "cell_type": "code",
   "execution_count": null,
   "id": "c5c04176-d456-4e40-9638-11b947394456",
   "metadata": {},
   "outputs": [],
   "source": []
  }
 ],
 "metadata": {
  "kernelspec": {
   "display_name": "Python 3 (ipykernel)",
   "language": "python",
   "name": "python3"
  },
  "language_info": {
   "codemirror_mode": {
    "name": "ipython",
    "version": 3
   },
   "file_extension": ".py",
   "mimetype": "text/x-python",
   "name": "python",
   "nbconvert_exporter": "python",
   "pygments_lexer": "ipython3",
   "version": "3.12.4"
  }
 },
 "nbformat": 4,
 "nbformat_minor": 5
}
