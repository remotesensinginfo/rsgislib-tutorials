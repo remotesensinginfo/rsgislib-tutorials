{
 "cells": [
  {
   "cell_type": "markdown",
   "id": "197cac75-77f2-4c17-b569-13d4fb7cde6e",
   "metadata": {},
   "source": [
    "# NASA Common Metadata Repository\n",
    "\n",
    "[NASA's Common Metadata Repository (CMR)]{https://www.earthdata.nasa.gov/eosdis/science-system-description/eosdis-components/cmr} is a high-performance, high-quality, continuously evolving metadata system that catalogs all data and service metadata records for NASA's Earth Observing System Data and Information System (EOSDIS) system and will be the authoritative management system for all EOSDIS metadata. These metadata records are registered, modified, discovered, and accessed through programmatic interfaces leveraging standard protocols and APIs.\n",
    "\n",
    "You can search the CMR system online here: https://cmr.earthdata.nasa.gov/"
   ]
  },
  {
   "cell_type": "code",
   "execution_count": null,
   "id": "e618abf4-e3ba-493d-859f-5a59579ed404",
   "metadata": {},
   "outputs": [],
   "source": [
    "import rsgislib.dataaccess.nasa_cmr\n",
    "import os\n",
    "import datetime\n",
    "import pprint"
   ]
  },
  {
   "cell_type": "markdown",
   "id": "5731b52a-c15c-4a89-ab80-1ade2f34233a",
   "metadata": {},
   "source": [
    "## Get information on a Product\n",
    "\n",
    "You can query the CMR for metadata on a product using the function below. You can look up the available products and their names here:\n",
    "https://earthdata.nasa.gov/eosdis/science-system-description/eosdis-standard-products\n"
   ]
  },
  {
   "cell_type": "code",
   "execution_count": null,
   "id": "f503beda-ec7d-4636-a078-d2f8eb122483",
   "metadata": {},
   "outputs": [],
   "source": [
    "# GEDI Canopy Product\n",
    "prod_name=\"GEDI02_B\""
   ]
  },
  {
   "cell_type": "code",
   "execution_count": null,
   "id": "c485afa4-3874-4ad6-8f12-26a6b535755f",
   "metadata": {},
   "outputs": [],
   "source": [
    "info_dict = rsgislib.dataaccess.nasa_cmr.get_prods_info(prod_short_name=prod_name)\n"
   ]
  },
  {
   "cell_type": "code",
   "execution_count": null,
   "id": "94e10366-0a89-4580-b0f1-23f76b0cef57",
   "metadata": {
    "scrolled": true
   },
   "outputs": [],
   "source": [
    "pprint.pprint(info_dict)"
   ]
  },
  {
   "cell_type": "markdown",
   "id": "1bf350f3-d0b2-45e2-a563-9c477297db13",
   "metadata": {},
   "source": [
    "## Find Most Recent Version\n",
    "\n",
    "You can find the most recent version of the product you are interested in using the function below:"
   ]
  },
  {
   "cell_type": "code",
   "execution_count": null,
   "id": "ce3c3575-8b70-4b15-b7de-c5242d5f6d42",
   "metadata": {},
   "outputs": [],
   "source": [
    "max_version = rsgislib.dataaccess.nasa_cmr.get_max_prod_version(prod_short_name=prod_name)\n",
    "max_version"
   ]
  },
  {
   "cell_type": "markdown",
   "id": "4e1353af-2342-4704-8dbe-234fcb8f2808",
   "metadata": {},
   "source": [
    "## Search for Data\n",
    "\n",
    "Use the following function to search for the data you are interested in. You can specify the boundary box but also limit the search by date"
   ]
  },
  {
   "cell_type": "code",
   "execution_count": null,
   "id": "f0f66d5d-3d60-4f43-bb86-63f46e80d940",
   "metadata": {},
   "outputs": [],
   "source": [
    "bbox = [39.1, 39.5, -8, -7.6]\n",
    "prod_data_granules = rsgislib.dataaccess.nasa_cmr.find_granules(prod_short_name=prod_name, \n",
    "                                                                version=max_version, \n",
    "                                                                only_dnwld = True, \n",
    "                                                                bbox = bbox, \n",
    "                                                                pt = None, \n",
    "                                                                start_date = datetime.datetime(year=2020, month=4, day=1), \n",
    "                                                                end_date = datetime.datetime(year=2020, month=4, day=30), \n",
    "                                                                cloud_min = 0, \n",
    "                                                                cloud_max = None, \n",
    "                                                                sort_date = True, \n",
    "                                                                sort_desc = True, \n",
    "                                                                page_size = 100, \n",
    "                                                                page_num = 1, \n",
    "                                                                other_params = None)\n"
   ]
  },
  {
   "cell_type": "code",
   "execution_count": null,
   "id": "ff977d1b-57bf-47bf-af59-0b11f205910c",
   "metadata": {},
   "outputs": [],
   "source": [
    "# Print out the number of data granules found\n",
    "len(prod_data_granules)"
   ]
  },
  {
   "cell_type": "markdown",
   "id": "4931da17-3b50-488c-acea-b3ba01fd7f06",
   "metadata": {},
   "source": [
    "### Print a single product to check the data type to download. \n",
    "\n",
    "Look up the file that you will want to download (e.g., ATL08_20200517210904_07990708_006_01.h5) and note the data type (e.g., application/x-hdf5) as you'll need it later."
   ]
  },
  {
   "cell_type": "code",
   "execution_count": null,
   "id": "b3356114-21dc-4119-87d5-20df9dd14002",
   "metadata": {
    "scrolled": true
   },
   "outputs": [],
   "source": [
    "pprint.pprint(prod_data_granules[0])"
   ]
  },
  {
   "cell_type": "markdown",
   "id": "c49e7b35-6599-48a8-891f-9ceb014d4682",
   "metadata": {},
   "source": [
    "## How much data is to be downloaded?\n",
    "\n",
    "The following function sums the file sizes of the identified data to download:"
   ]
  },
  {
   "cell_type": "code",
   "execution_count": null,
   "id": "9cfdf0dc-0753-484b-b06f-3ae2ad47dfb1",
   "metadata": {},
   "outputs": [],
   "source": [
    "total_file_size = rsgislib.dataaccess.nasa_cmr.get_total_file_size(granule_lst=prod_data_granules)\n",
    "total_file_size"
   ]
  },
  {
   "cell_type": "markdown",
   "id": "db234e64-6a41-4d3a-8f9a-ea0832333986",
   "metadata": {},
   "source": [
    "## Get the Download URLs\n",
    "\n",
    "The next step is to build a [pysondb](https://github.com/pysonDB/pysonDB) database of the data file to be downloaded"
   ]
  },
  {
   "cell_type": "code",
   "execution_count": null,
   "id": "79cab80f-2626-4bdd-8900-fc4eb607da91",
   "metadata": {},
   "outputs": [],
   "source": [
    "# The file name of the pysondb JSON database\n",
    "db_file_name = f\"{prod_name}_scns_db.json\""
   ]
  },
  {
   "cell_type": "code",
   "execution_count": null,
   "id": "c909b4e4-2c68-4ef2-85a2-d0966092b2c5",
   "metadata": {},
   "outputs": [],
   "source": [
    "urls_not_found = rsgislib.dataaccess.nasa_cmr.create_cmr_dwnld_db(\n",
    "    db_json = db_file_name, \n",
    "    granule_lst=prod_data_granules, \n",
    "    dwnld_file_mime_type = \"application/x-hdfeos\"\n",
    ")"
   ]
  },
  {
   "cell_type": "code",
   "execution_count": null,
   "id": "afa4ffd6-3582-4d94-b3f5-7b3f80e119dc",
   "metadata": {},
   "outputs": [],
   "source": [
    "# Check whether there were data for which the URL could not be found.\n",
    "len(urls_not_found)"
   ]
  },
  {
   "cell_type": "code",
   "execution_count": null,
   "id": "bf2a7c80-b721-4728-b47a-fa18f68de280",
   "metadata": {},
   "outputs": [],
   "source": [
    "urls_not_found"
   ]
  },
  {
   "cell_type": "markdown",
   "id": "44250159-8201-43f8-acad-164e3e14cc01",
   "metadata": {},
   "source": [
    "## Download the Data"
   ]
  },
  {
   "cell_type": "markdown",
   "id": "1e9ea8ed-d635-4ba0-a652-0dffc88bc22c",
   "metadata": {},
   "source": [
    "### Create Username and Password File\n",
    "\n",
    "You need to be careful with your username and password and therefore you should not write them into the notebook. RSGISlib provide a tool/functions for doing a basic encoding of the username and password so they are not stored as free text (Note. be careful as the simple encoding is not secure). \n",
    "\n",
    "To create the encoded file, you can use the command line tool `rsgisuserpassfile.py` as shown below:\n",
    "\n",
    "`rsgisuserpassfile.py userinfo.txt`\n",
    "\n",
    "Once you have created the `userinfo.txt` file, you can read it into your notebook/script using the `get_username_password` function shown below:"
   ]
  },
  {
   "cell_type": "markdown",
   "id": "14859c02-19d3-4a10-80b7-aa3b0b308c9c",
   "metadata": {},
   "source": [
    "### Create Output Directory"
   ]
  },
  {
   "cell_type": "code",
   "execution_count": null,
   "id": "c9ea0772-cb9f-43a2-b9f5-fdae8690d067",
   "metadata": {},
   "outputs": [],
   "source": [
    "out_dwnld_dir = \"GEDI02_B_data\"\n",
    "if not os.path.exists(out_dwnld_dir):\n",
    "    os.mkdir(out_dwnld_dir)"
   ]
  },
  {
   "cell_type": "markdown",
   "id": "5d26825a-adb2-4896-af8a-0c6124344782",
   "metadata": {},
   "source": [
    "### Run Download"
   ]
  },
  {
   "cell_type": "code",
   "execution_count": null,
   "id": "5b121855-238e-4841-b449-121fa1de5ff2",
   "metadata": {},
   "outputs": [],
   "source": [
    "rsgislib.dataaccess.nasa_cmr.download_granules_use_dwnld_db(\n",
    "    db_json = db_file_name, \n",
    "    out_path = out_dwnld_dir, \n",
    "    user_pass_file = \"userinfo.txt\", \n",
    "    use_wget = False\n",
    ")"
   ]
  },
  {
   "cell_type": "code",
   "execution_count": null,
   "id": "e3b5c72e-dd1b-45a0-9656-17d79ef5cf55",
   "metadata": {},
   "outputs": [],
   "source": []
  }
 ],
 "metadata": {
  "kernelspec": {
   "display_name": "Python 3 (ipykernel)",
   "language": "python",
   "name": "python3"
  },
  "language_info": {
   "codemirror_mode": {
    "name": "ipython",
    "version": 3
   },
   "file_extension": ".py",
   "mimetype": "text/x-python",
   "name": "python",
   "nbconvert_exporter": "python",
   "pygments_lexer": "ipython3",
   "version": "3.12.4"
  }
 },
 "nbformat": 4,
 "nbformat_minor": 5
}
