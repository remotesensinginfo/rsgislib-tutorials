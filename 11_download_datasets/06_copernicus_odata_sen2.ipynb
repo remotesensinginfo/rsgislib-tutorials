{
 "cells": [
  {
   "cell_type": "markdown",
   "id": "df4e924b-0ff1-47ee-bc9c-0b7a2eb4ee3c",
   "metadata": {},
   "source": [
    "# Downloading Sentinel-2 data\n",
    "\n",
    "This tutorial uses Copernicus Data Space Ecosystem OData API to find and download Sentinel-2 data.\n",
    "\n",
    "To have access to the Copernicus Data Space Ecosystem services, you need to register access (https://dataspace.copernicus.eu)\n"
   ]
  },
  {
   "cell_type": "markdown",
   "id": "97329e3f-d07e-4cd4-b5cb-3a5e9542308f",
   "metadata": {},
   "source": [
    "## Import Modules"
   ]
  },
  {
   "cell_type": "code",
   "execution_count": null,
   "id": "1772d395-9cb8-49b3-9ce1-d287588abfe0",
   "metadata": {},
   "outputs": [],
   "source": [
    "import datetime\n",
    "import os\n",
    "\n",
    "import rsgislib.tools.utils\n",
    "from rsgislib.dataaccess import copernicus_odata"
   ]
  },
  {
   "cell_type": "markdown",
   "id": "e83ea16e-7801-4fe6-a00d-1714b18abe39",
   "metadata": {},
   "source": [
    "## Create Output Directory"
   ]
  },
  {
   "cell_type": "code",
   "execution_count": null,
   "id": "63c74868-e892-4967-bdd2-64935494bb51",
   "metadata": {},
   "outputs": [],
   "source": [
    "out_dir_path = \"sen2_data\"\n",
    "if not os.path.exists(out_dir_path):\n",
    "    os.mkdir(out_dir_path)"
   ]
  },
  {
   "cell_type": "markdown",
   "id": "d0b0040c-91b3-4148-a209-a5688da0321c",
   "metadata": {},
   "source": [
    "## Username and Password\n",
    "\n",
    "You need to be careful with your username and password and therefore you should not write them into the notebook. RSGISlib provide a tool/functions for doing a basic encoding of the username and password so they are not stored as free text (Note. be careful as the simple encoding is not secure). \n",
    "\n",
    "To create the encoded file, you can use the command line tool `rsgisuserpassfile.py` as shown below:\n",
    "\n",
    "`rsgisuserpassfile.py cop_userinfo.txt`\n",
    "\n",
    "Once you have created the `cop_userinfo.txt` file, you can read it into your notebook/script using the `get_username_password` function shown below:"
   ]
  },
  {
   "cell_type": "code",
   "execution_count": null,
   "id": "8bb1658b-f544-41d0-b742-4fa29fb173b3",
   "metadata": {},
   "outputs": [],
   "source": [
    "username, password = rsgislib.tools.utils.get_username_password(\n",
    "    input_file=\"cop_userinfo.txt\"\n",
    ")"
   ]
  },
  {
   "cell_type": "markdown",
   "id": "e583707a-a22e-47f2-8d31-efd6f864cc9d",
   "metadata": {},
   "source": [
    "## Access Token\n",
    "\n",
    "When you come to download data, you need an access token to authenticate. The access token is generated using use the following function:"
   ]
  },
  {
   "cell_type": "code",
   "execution_count": null,
   "id": "d8a59551-ca78-4dea-aff2-a7dc541f3b85",
   "metadata": {},
   "outputs": [],
   "source": [
    "acc_token = copernicus_odata.get_access_token(username=username, password=password)"
   ]
  },
  {
   "cell_type": "markdown",
   "id": "97104eb7-33ec-4181-86bf-0a4171b5f4c2",
   "metadata": {},
   "source": [
    "## Query Individual Scene\n",
    "\n",
    "You can query for an individual scene if you know the name of the scene such as below:"
   ]
  },
  {
   "cell_type": "code",
   "execution_count": null,
   "id": "d04bccf5-65e7-498e-9cb2-e9f039e6f22b",
   "metadata": {},
   "outputs": [],
   "source": [
    "scn_info = copernicus_odata.query_scn(\n",
    "    scn_name=\"S2A_MSIL2A_20230904T113321_N0509_R080_T30UVD_20230904T145956.SAFE\"\n",
    ")"
   ]
  },
  {
   "cell_type": "code",
   "execution_count": null,
   "id": "f66ece70-037b-40e0-867b-6a11282d92b2",
   "metadata": {
    "scrolled": true
   },
   "outputs": [],
   "source": [
    "scn_info"
   ]
  },
  {
   "cell_type": "code",
   "execution_count": null,
   "id": "4afdcc8b-fd88-4e55-ab14-105eca66f809",
   "metadata": {},
   "outputs": [],
   "source": [
    "copernicus_odata.download_scn(\n",
    "    access_token=acc_token, scn_info=scn_info, out_path=out_dir_path\n",
    ")"
   ]
  },
  {
   "cell_type": "markdown",
   "id": "f3f1bdff-6b23-4201-b934-ec5ef6ef6333",
   "metadata": {},
   "source": [
    "## Query Multiple Scenes\n",
    "\n",
    "You can query for multiple scenes using the function call below. This allows\n",
    "\n",
    " * A bounding box region of interest to be specified\n",
    " * Time period start and end date\n",
    " * Cloud Cover: < 30 %\n",
    " * Product type: Level-2 (i.e., SREF)"
   ]
  },
  {
   "cell_type": "code",
   "execution_count": null,
   "id": "14f77a68-28d4-46da-af7f-866f80277b2a",
   "metadata": {},
   "outputs": [],
   "source": [
    "scns_info = copernicus_odata.query_scn_lst(\n",
    "    sensor = copernicus_odata.RSGIS_ODATA_SEN2,\n",
    "    bbox = (-4.1, -4.0, 52.4, 52.5),\n",
    "    start_date = datetime.datetime(year=2024, month=1, day=1),\n",
    "    end_date = datetime.datetime(year=2024, month=6, day=30),\n",
    "    cloud_cover = 30,\n",
    "    orbit_dir = None,\n",
    "    product_type = copernicus_odata.RSGIS_ODATA_PROD_TYPE_S2_MSI_2A,\n",
    "    order_by = copernicus_odata.RSGIS_ODATA_ORDERBY_ASC,\n",
    "    max_n_rslts = 10,\n",
    "    start_n = None,\n",
    ")"
   ]
  },
  {
   "cell_type": "code",
   "execution_count": null,
   "id": "217968fd-987e-46ff-bc48-2bf192e9e932",
   "metadata": {
    "scrolled": true
   },
   "outputs": [],
   "source": [
    "scns_info"
   ]
  },
  {
   "cell_type": "markdown",
   "id": "b56b296c-a905-47b4-ba9b-4ec1a8ee0fb9",
   "metadata": {},
   "source": [
    "## Download Multiple Scenes"
   ]
  },
  {
   "cell_type": "code",
   "execution_count": null,
   "id": "4fc4f942-d7b7-48d1-90f6-7dedd01a7545",
   "metadata": {},
   "outputs": [],
   "source": [
    "copernicus_odata.download_scns(\n",
    "    access_token=acc_token,\n",
    "    scns_info=scns_info,\n",
    "    out_path=out_dir_path,\n",
    "    no_except=True,\n",
    ")"
   ]
  },
  {
   "cell_type": "code",
   "execution_count": null,
   "id": "190ab1c1-ca98-4686-8db3-87642327c2b2",
   "metadata": {},
   "outputs": [],
   "source": []
  }
 ],
 "metadata": {
  "kernelspec": {
   "display_name": "Python 3 (ipykernel)",
   "language": "python",
   "name": "python3"
  },
  "language_info": {
   "codemirror_mode": {
    "name": "ipython",
    "version": 3
   },
   "file_extension": ".py",
   "mimetype": "text/x-python",
   "name": "python",
   "nbconvert_exporter": "python",
   "pygments_lexer": "ipython3",
   "version": "3.12.4"
  }
 },
 "nbformat": 4,
 "nbformat_minor": 5
}
