{
 "cells": [
  {
   "cell_type": "markdown",
   "id": "df4e924b-0ff1-47ee-bc9c-0b7a2eb4ee3c",
   "metadata": {},
   "source": [
    "# Downloading Sentinel-2 data\n",
    "\n",
    "This tutorial uses Copernicus Data Space Ecosystem OData API to find and download Sentinel-2 data.\n",
    "\n",
    "To have access to the Copernicus Data Space Ecosystem services, you need to register access (https://dataspace.copernicus.eu)\n"
   ]
  },
  {
   "cell_type": "markdown",
   "id": "97329e3f-d07e-4cd4-b5cb-3a5e9542308f",
   "metadata": {},
   "source": [
    "## Import Modules"
   ]
  },
  {
   "cell_type": "code",
   "execution_count": 1,
   "id": "1772d395-9cb8-49b3-9ce1-d287588abfe0",
   "metadata": {},
   "outputs": [],
   "source": [
    "import datetime\n",
    "import os\n",
    "\n",
    "import rsgislib.tools.utils\n",
    "from rsgislib.dataaccess import copernicus_odata"
   ]
  },
  {
   "cell_type": "markdown",
   "id": "e83ea16e-7801-4fe6-a00d-1714b18abe39",
   "metadata": {},
   "source": [
    "## Create Output Directory"
   ]
  },
  {
   "cell_type": "code",
   "execution_count": 2,
   "id": "63c74868-e892-4967-bdd2-64935494bb51",
   "metadata": {},
   "outputs": [],
   "source": [
    "out_dir_path = \"sen2_data\"\n",
    "if not os.path.exists(out_dir_path):\n",
    "    os.mkdir(out_dir_path)"
   ]
  },
  {
   "cell_type": "markdown",
   "id": "d0b0040c-91b3-4148-a209-a5688da0321c",
   "metadata": {},
   "source": [
    "## Username and Password\n",
    "\n",
    "You need to be careful with your username and password and therefore you should not write them into the notebook. RSGISlib provide a tool/functions for doing a basic encoding of the username and password so they are not stored as free text (Note. be careful as the simple encoding is not secure). \n",
    "\n",
    "To create the encoded file, you can use the command line tool `rsgisuserpassfile.py` as shown below:\n",
    "\n",
    "`rsgisuserpassfile.py cop_userinfo.txt`\n",
    "\n",
    "Once you have created the `cop_userinfo.txt` file, you can read it into your notebook/script using the `get_username_password` function shown below:"
   ]
  },
  {
   "cell_type": "code",
   "execution_count": 3,
   "id": "8bb1658b-f544-41d0-b742-4fa29fb173b3",
   "metadata": {},
   "outputs": [],
   "source": [
    "username, password = rsgislib.tools.utils.get_username_password(\n",
    "    input_file=\"cop_userinfo.txt\"\n",
    ")"
   ]
  },
  {
   "cell_type": "markdown",
   "id": "e583707a-a22e-47f2-8d31-efd6f864cc9d",
   "metadata": {},
   "source": [
    "## Access Token\n",
    "\n",
    "When you come to download data, you need an access token to authenticate. The access token is generated using use the following function:"
   ]
  },
  {
   "cell_type": "code",
   "execution_count": 4,
   "id": "d8a59551-ca78-4dea-aff2-a7dc541f3b85",
   "metadata": {},
   "outputs": [],
   "source": [
    "acc_token = copernicus_odata.get_access_token(username=username, password=password)"
   ]
  },
  {
   "cell_type": "markdown",
   "id": "97104eb7-33ec-4181-86bf-0a4171b5f4c2",
   "metadata": {},
   "source": [
    "## Query Individual Scene\n",
    "\n",
    "You can query for an individual scene if you know the name of the scene such as below:"
   ]
  },
  {
   "cell_type": "code",
   "execution_count": 5,
   "id": "d04bccf5-65e7-498e-9cb2-e9f039e6f22b",
   "metadata": {},
   "outputs": [],
   "source": [
    "scn_info = copernicus_odata.query_scn(\n",
    "    scn_name=\"S2A_MSIL2A_20230904T113321_N0509_R080_T30UVD_20230904T145956.SAFE\"\n",
    ")"
   ]
  },
  {
   "cell_type": "code",
   "execution_count": 6,
   "id": "f66ece70-037b-40e0-867b-6a11282d92b2",
   "metadata": {
    "scrolled": true
   },
   "outputs": [
    {
     "data": {
      "text/plain": [
       "{'@odata.mediaContentType': 'application/octet-stream',\n",
       " 'Id': 'a03924e3-75a1-497e-9956-34cd54ef13c3',\n",
       " 'Name': 'S2A_MSIL2A_20230904T113321_N0509_R080_T30UVD_20230904T145956.SAFE',\n",
       " 'ContentType': 'application/octet-stream',\n",
       " 'ContentLength': 1008206421,\n",
       " 'OriginDate': '2023-09-04T16:42:52.194Z',\n",
       " 'PublicationDate': '2023-09-04T16:50:12.591Z',\n",
       " 'ModificationDate': '2023-09-04T17:28:04.304Z',\n",
       " 'Online': True,\n",
       " 'EvictionDate': '',\n",
       " 'S3Path': '/eodata/Sentinel-2/MSI/L2A/2023/09/04/S2A_MSIL2A_20230904T113321_N0509_R080_T30UVD_20230904T145956.SAFE',\n",
       " 'Checksum': [{'Value': '39b84a7c387c851c544e7bd4a9f7e516',\n",
       "   'Algorithm': 'MD5',\n",
       "   'ChecksumDate': '2023-09-04T17:28:01.018920Z'},\n",
       "  {'Value': 'd01f568afed7a79d62b1d47f6ff78d8c273574052e8c00ac65c0845373b47ba1',\n",
       "   'Algorithm': 'BLAKE3',\n",
       "   'ChecksumDate': '2023-09-04T17:28:04.036318Z'}],\n",
       " 'ContentDate': {'Start': '2023-09-04T11:33:21.024Z',\n",
       "  'End': '2023-09-04T11:33:21.024Z'},\n",
       " 'Footprint': \"geography'SRID=4326;POLYGON ((-2.8544312 53.0319135350545, -2.8537292 53.2495367346332, -4.499054 53.2402008150607, -4.465576 52.2534495351733, -3.2756348 52.2601146824621, -3.208496 52.3859440541593, -3.1294556 52.5294705318254, -3.0519104 52.6733481655699, -2.9727783 52.8168250699769, -2.893982 52.9603474017902, -2.8544312 53.0319135350545))'\",\n",
       " 'GeoFootprint': {'type': 'Polygon',\n",
       "  'coordinates': [[[-2.8544312, 53.0319135350545],\n",
       "    [-2.8537292, 53.2495367346332],\n",
       "    [-4.499054, 53.2402008150607],\n",
       "    [-4.465576, 52.2534495351733],\n",
       "    [-3.2756348, 52.2601146824621],\n",
       "    [-3.208496, 52.3859440541593],\n",
       "    [-3.1294556, 52.5294705318254],\n",
       "    [-3.0519104, 52.6733481655699],\n",
       "    [-2.9727783, 52.8168250699769],\n",
       "    [-2.893982, 52.9603474017902],\n",
       "    [-2.8544312, 53.0319135350545]]]},\n",
       " 'Locations': [{'FormatType': 'Extracted',\n",
       "   'DownloadLink': 'https://catalogue.dataspace.copernicus.eu/odata/v1/Products(a03924e3-75a1-497e-9956-34cd54ef13c3)/$value',\n",
       "   'ContentLength': 1008186407,\n",
       "   'Checksum': [],\n",
       "   'S3Path': '/eodata/Sentinel-2/MSI/L2A/2023/09/04/S2A_MSIL2A_20230904T113321_N0509_R080_T30UVD_20230904T145956.SAFE'}]}"
      ]
     },
     "execution_count": 6,
     "metadata": {},
     "output_type": "execute_result"
    }
   ],
   "source": [
    "scn_info"
   ]
  },
  {
   "cell_type": "code",
   "execution_count": 7,
   "id": "4afdcc8b-fd88-4e55-ab14-105eca66f809",
   "metadata": {},
   "outputs": [
    {
     "name": "stdout",
     "output_type": "stream",
     "text": [
      "Downloading S2A_MSIL2A_20230904T113321_N0509_R080_T30UVD_20230904T145956.SAFE\n"
     ]
    },
    {
     "name": "stderr",
     "output_type": "stream",
     "text": [
      "123073it [01:03, 1931.47it/s]                                                                                                                 "
     ]
    },
    {
     "name": "stdout",
     "output_type": "stream",
     "text": [
      "Download Complete: S2A_MSIL2A_20230904T113321_N0509_R080_T30UVD_20230904T145956.SAFE\n"
     ]
    },
    {
     "name": "stderr",
     "output_type": "stream",
     "text": [
      "\n"
     ]
    }
   ],
   "source": [
    "copernicus_odata.download_scn(\n",
    "    access_token=acc_token, scn_info=scn_info, out_path=out_dir_path\n",
    ")"
   ]
  },
  {
   "cell_type": "markdown",
   "id": "f3f1bdff-6b23-4201-b934-ec5ef6ef6333",
   "metadata": {},
   "source": [
    "## Query Multiple Scenes\n",
    "\n",
    "You can query for multiple scenes using the function call below. This allows\n",
    "\n",
    " * A bounding box region of interest to be specified\n",
    " * Time period start and end date\n",
    " * Cloud Cover: < 30 %\n",
    " * Product type: Level-2 (i.e., SREF)"
   ]
  },
  {
   "cell_type": "code",
   "execution_count": 8,
   "id": "14f77a68-28d4-46da-af7f-866f80277b2a",
   "metadata": {},
   "outputs": [],
   "source": [
    "scns_info = copernicus_odata.query_scn_lst(\n",
    "    sensor = copernicus_odata.RSGIS_ODATA_SEN2,\n",
    "    bbox = (-4.1, -4.0, 52.4, 52.5),\n",
    "    start_date = datetime.datetime(year=2024, month=1, day=1),\n",
    "    end_date = datetime.datetime(year=2024, month=6, day=30),\n",
    "    cloud_cover = 30,\n",
    "    orbit_dir = None,\n",
    "    product_type = copernicus_odata.RSGIS_ODATA_PROD_TYPE_S2_MSI_2A,\n",
    "    order_by = copernicus_odata.RSGIS_ODATA_ORDERBY_ASC,\n",
    "    max_n_rslts = 10,\n",
    "    start_n = None,\n",
    ")"
   ]
  },
  {
   "cell_type": "code",
   "execution_count": 9,
   "id": "217968fd-987e-46ff-bc48-2bf192e9e932",
   "metadata": {
    "scrolled": true
   },
   "outputs": [
    {
     "data": {
      "text/plain": [
       "[{'@odata.mediaContentType': 'application/octet-stream',\n",
       "  'Id': '3afb107e-01dd-452c-ac45-46214f0c56e4',\n",
       "  'Name': 'S2B_MSIL2A_20240117T113329_N0510_R080_T30UVD_20240117T130100.SAFE',\n",
       "  'ContentType': 'application/octet-stream',\n",
       "  'ContentLength': 1082943672,\n",
       "  'OriginDate': '2024-01-17T14:21:00.000Z',\n",
       "  'PublicationDate': '2024-01-17T14:41:44.325Z',\n",
       "  'ModificationDate': '2024-03-13T18:36:34.158Z',\n",
       "  'Online': True,\n",
       "  'EvictionDate': '',\n",
       "  'S3Path': '/eodata/Sentinel-2/MSI/L2A/2024/01/17/S2B_MSIL2A_20240117T113329_N0510_R080_T30UVD_20240117T130100.SAFE',\n",
       "  'Checksum': [{'Value': 'ea617aed2c7988d23134510bf7afebe4',\n",
       "    'Algorithm': 'MD5',\n",
       "    'ChecksumDate': '2024-01-17T14:43:00.372874Z'},\n",
       "   {'Value': 'dd407cd8d710694d40e906973f8c3598494f705803ebec883a34aa2d1149d609',\n",
       "    'Algorithm': 'BLAKE3',\n",
       "    'ChecksumDate': '2024-01-17T14:43:02.301627Z'}],\n",
       "  'ContentDate': {'Start': '2024-01-17T11:33:29.025Z',\n",
       "   'End': '2024-01-17T11:33:29.025Z'},\n",
       "  'Footprint': \"geography'SRID=4326;POLYGON ((-2.854568740917136 52.99425681917926, -2.853723127599169 53.24953673463324, -4.49905958790245 53.24020081506075, -4.465566151532104 52.25344953517325, -3.255391833213863 52.26022804070217, -3.228669653974455 52.30982290555893, -3.15104857676764 52.45360172052279, -3.072263192009675 52.59714975155728, -2.993815858327447 52.74076517098248, -2.928551837138138 52.85990564626109, -2.915769928188862 52.88335100208692, -2.898066097451035 52.9153584519839, -2.854568740917136 52.99425681917926))'\",\n",
       "  'GeoFootprint': {'type': 'Polygon',\n",
       "   'coordinates': [[[-2.854568740917136, 52.99425681917926],\n",
       "     [-2.853723127599169, 53.24953673463324],\n",
       "     [-4.49905958790245, 53.24020081506075],\n",
       "     [-4.465566151532104, 52.25344953517325],\n",
       "     [-3.255391833213863, 52.26022804070217],\n",
       "     [-3.228669653974455, 52.30982290555893],\n",
       "     [-3.15104857676764, 52.45360172052279],\n",
       "     [-3.072263192009675, 52.59714975155728],\n",
       "     [-2.993815858327447, 52.74076517098248],\n",
       "     [-2.928551837138138, 52.85990564626109],\n",
       "     [-2.915769928188862, 52.88335100208692],\n",
       "     [-2.898066097451035, 52.9153584519839],\n",
       "     [-2.854568740917136, 52.99425681917926]]]},\n",
       "  'Locations': [{'FormatType': 'Extracted',\n",
       "    'DownloadLink': 'https://catalogue.dataspace.copernicus.eu/odata/v1/Products(3afb107e-01dd-452c-ac45-46214f0c56e4)/$value',\n",
       "    'ContentLength': 1082879986,\n",
       "    'Checksum': [],\n",
       "    'S3Path': '/eodata/Sentinel-2/MSI/L2A/2024/01/17/S2B_MSIL2A_20240117T113329_N0510_R080_T30UVD_20240117T130100.SAFE'}]},\n",
       " {'@odata.mediaContentType': 'application/octet-stream',\n",
       "  'Id': '62495e9d-4443-4bfa-a6e6-edda379e738c',\n",
       "  'Name': 'S2A_MSIL2A_20240531T113321_N0510_R080_T30UVD_20240531T190753.SAFE',\n",
       "  'ContentType': 'application/octet-stream',\n",
       "  'ContentLength': 1067967437,\n",
       "  'OriginDate': '2024-05-31T20:05:13.000Z',\n",
       "  'PublicationDate': '2024-05-31T20:22:12.070Z',\n",
       "  'ModificationDate': '2024-05-31T20:23:38.234Z',\n",
       "  'Online': True,\n",
       "  'EvictionDate': '',\n",
       "  'S3Path': '/eodata/Sentinel-2/MSI/L2A/2024/05/31/S2A_MSIL2A_20240531T113321_N0510_R080_T30UVD_20240531T190753.SAFE',\n",
       "  'Checksum': [{'Value': 'c730c61ce88dc63df6d0f5cfd1881dfa',\n",
       "    'Algorithm': 'MD5',\n",
       "    'ChecksumDate': '2024-05-31T20:23:35.883732Z'},\n",
       "   {'Value': 'e74e2058817bc4e9c12c31687c31e07dfede4b17da96fe6269b9084020c6b810',\n",
       "    'Algorithm': 'BLAKE3',\n",
       "    'ChecksumDate': '2024-05-31T20:23:38.102066Z'}],\n",
       "  'ContentDate': {'Start': '2024-05-31T11:33:21.024Z',\n",
       "   'End': '2024-05-31T11:33:21.024Z'},\n",
       "  'Footprint': \"geography'SRID=4326;POLYGON ((-2.854510049993164 53.01197486333872, -2.853723127599169 53.24953673463324, -4.49905958790245 53.24020081506075, -4.465566151532104 52.25344953517325, -3.264236090296312 52.26017850168567, -3.225561751552139 52.33286901033717, -3.148734032175564 52.47667852898022, -3.070355591270268 52.62024187688188, -2.991370964101341 52.76384993178376, -2.912418777361165 52.90757869891019, -2.854510049993164 53.01197486333872))'\",\n",
       "  'GeoFootprint': {'type': 'Polygon',\n",
       "   'coordinates': [[[-2.854510049993164, 53.01197486333872],\n",
       "     [-2.853723127599169, 53.24953673463324],\n",
       "     [-4.49905958790245, 53.24020081506075],\n",
       "     [-4.465566151532104, 52.25344953517325],\n",
       "     [-3.264236090296312, 52.26017850168567],\n",
       "     [-3.225561751552139, 52.33286901033717],\n",
       "     [-3.148734032175564, 52.47667852898022],\n",
       "     [-3.070355591270268, 52.62024187688188],\n",
       "     [-2.991370964101341, 52.76384993178376],\n",
       "     [-2.912418777361165, 52.90757869891019],\n",
       "     [-2.854510049993164, 53.01197486333872]]]},\n",
       "  'Locations': [{'FormatType': 'Extracted',\n",
       "    'DownloadLink': 'https://catalogue.dataspace.copernicus.eu/odata/v1/Products(62495e9d-4443-4bfa-a6e6-edda379e738c)/$value',\n",
       "    'ContentLength': 1067967437,\n",
       "    'Checksum': [{'Value': 'c730c61ce88dc63df6d0f5cfd1881dfa',\n",
       "      'Algorithm': 'MD5',\n",
       "      'ChecksumDate': '2024-05-31T20:23:35.883732Z'},\n",
       "     {'Value': 'e74e2058817bc4e9c12c31687c31e07dfede4b17da96fe6269b9084020c6b810',\n",
       "      'Algorithm': 'BLAKE3',\n",
       "      'ChecksumDate': '2024-05-31T20:23:38.102066Z'}],\n",
       "    'S3Path': '/eodata/Sentinel-2/MSI/L2A/2024/05/31/S2A_MSIL2A_20240531T113321_N0510_R080_T30UVD_20240531T190753.SAFE'}]},\n",
       " {'@odata.mediaContentType': 'application/octet-stream',\n",
       "  'Id': '741baad1-cfa0-4439-bc7c-496a12639945',\n",
       "  'Name': 'S2B_MSIL2A_20240602T112119_N0510_R037_T30UVD_20240602T125034.SAFE',\n",
       "  'ContentType': 'application/octet-stream',\n",
       "  'ContentLength': 1108398622,\n",
       "  'OriginDate': '2024-06-02T13:58:57.000Z',\n",
       "  'PublicationDate': '2024-06-02T14:12:57.934Z',\n",
       "  'ModificationDate': '2024-06-02T14:14:22.596Z',\n",
       "  'Online': True,\n",
       "  'EvictionDate': '',\n",
       "  'S3Path': '/eodata/Sentinel-2/MSI/L2A/2024/06/02/S2B_MSIL2A_20240602T112119_N0510_R037_T30UVD_20240602T125034.SAFE',\n",
       "  'Checksum': [{'Value': '24439a71e17e425ce732e7208a1a1a29',\n",
       "    'Algorithm': 'MD5',\n",
       "    'ChecksumDate': '2024-06-02T14:14:20.218528Z'},\n",
       "   {'Value': 'c517909542600fe2853be50bb53214389450573662421112a52c54bfc367432e',\n",
       "    'Algorithm': 'BLAKE3',\n",
       "    'ChecksumDate': '2024-06-02T14:14:22.442304Z'}],\n",
       "  'ContentDate': {'Start': '2024-06-02T11:21:19.024Z',\n",
       "   'End': '2024-06-02T11:21:19.024Z'},\n",
       "  'Footprint': \"geography'SRID=4326;POLYGON ((-4.49905958790245 53.24020081506075, -4.465566151532104 52.25344953517325, -2.85699281525734 52.26245957867572, -2.853723127599169 53.24953673463324, -4.49905958790245 53.24020081506075))'\",\n",
       "  'GeoFootprint': {'type': 'Polygon',\n",
       "   'coordinates': [[[-4.49905958790245, 53.24020081506075],\n",
       "     [-4.465566151532104, 52.25344953517325],\n",
       "     [-2.85699281525734, 52.26245957867572],\n",
       "     [-2.853723127599169, 53.24953673463324],\n",
       "     [-4.49905958790245, 53.24020081506075]]]},\n",
       "  'Locations': [{'FormatType': 'Extracted',\n",
       "    'DownloadLink': 'https://catalogue.dataspace.copernicus.eu/odata/v1/Products(741baad1-cfa0-4439-bc7c-496a12639945)/$value',\n",
       "    'ContentLength': 1108398622,\n",
       "    'Checksum': [{'Value': '24439a71e17e425ce732e7208a1a1a29',\n",
       "      'Algorithm': 'MD5',\n",
       "      'ChecksumDate': '2024-06-02T14:14:20.218528Z'},\n",
       "     {'Value': 'c517909542600fe2853be50bb53214389450573662421112a52c54bfc367432e',\n",
       "      'Algorithm': 'BLAKE3',\n",
       "      'ChecksumDate': '2024-06-02T14:14:22.442304Z'}],\n",
       "    'S3Path': '/eodata/Sentinel-2/MSI/L2A/2024/06/02/S2B_MSIL2A_20240602T112119_N0510_R037_T30UVD_20240602T125034.SAFE'}]}]"
      ]
     },
     "execution_count": 9,
     "metadata": {},
     "output_type": "execute_result"
    }
   ],
   "source": [
    "scns_info"
   ]
  },
  {
   "cell_type": "markdown",
   "id": "b56b296c-a905-47b4-ba9b-4ec1a8ee0fb9",
   "metadata": {},
   "source": [
    "## Download Multiple Scenes"
   ]
  },
  {
   "cell_type": "code",
   "execution_count": 10,
   "id": "4fc4f942-d7b7-48d1-90f6-7dedd01a7545",
   "metadata": {},
   "outputs": [
    {
     "name": "stdout",
     "output_type": "stream",
     "text": [
      "Downloading S2B_MSIL2A_20240117T113329_N0510_R080_T30UVD_20240117T130100.SAFE\n"
     ]
    },
    {
     "name": "stderr",
     "output_type": "stream",
     "text": [
      "132196it [00:53, 2462.52it/s]                                                                                                                 \n"
     ]
    },
    {
     "name": "stdout",
     "output_type": "stream",
     "text": [
      "Download Complete: S2B_MSIL2A_20240117T113329_N0510_R080_T30UVD_20240117T130100.SAFE\n",
      "Downloading S2A_MSIL2A_20240531T113321_N0510_R080_T30UVD_20240531T190753.SAFE\n"
     ]
    },
    {
     "name": "stderr",
     "output_type": "stream",
     "text": [
      "100%|███████████████████████████████████████████████████████████████████████████████████████████████| 130368/130368 [00:52<00:00, 2472.78it/s]\n"
     ]
    },
    {
     "name": "stdout",
     "output_type": "stream",
     "text": [
      "Download Complete: S2A_MSIL2A_20240531T113321_N0510_R080_T30UVD_20240531T190753.SAFE\n",
      "Downloading S2B_MSIL2A_20240602T112119_N0510_R037_T30UVD_20240602T125034.SAFE\n"
     ]
    },
    {
     "name": "stderr",
     "output_type": "stream",
     "text": [
      "100%|███████████████████████████████████████████████████████████████████████████████████████████████| 135303/135303 [00:55<00:00, 2426.21it/s]\n"
     ]
    },
    {
     "name": "stdout",
     "output_type": "stream",
     "text": [
      "Download Complete: S2B_MSIL2A_20240602T112119_N0510_R037_T30UVD_20240602T125034.SAFE\n"
     ]
    }
   ],
   "source": [
    "copernicus_odata.download_scns(\n",
    "    access_token=acc_token,\n",
    "    scns_info=scns_info,\n",
    "    out_path=out_dir_path,\n",
    "    no_except=True,\n",
    ")"
   ]
  },
  {
   "cell_type": "code",
   "execution_count": null,
   "id": "190ab1c1-ca98-4686-8db3-87642327c2b2",
   "metadata": {},
   "outputs": [],
   "source": []
  }
 ],
 "metadata": {
  "kernelspec": {
   "display_name": "Python 3 (ipykernel)",
   "language": "python",
   "name": "python3"
  },
  "language_info": {
   "codemirror_mode": {
    "name": "ipython",
    "version": 3
   },
   "file_extension": ".py",
   "mimetype": "text/x-python",
   "name": "python",
   "nbconvert_exporter": "python",
   "pygments_lexer": "ipython3",
   "version": "3.12.4"
  }
 },
 "nbformat": 4,
 "nbformat_minor": 5
}
