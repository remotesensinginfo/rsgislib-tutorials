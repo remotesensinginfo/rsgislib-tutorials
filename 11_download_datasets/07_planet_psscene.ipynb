{
 "cells": [
  {
   "cell_type": "markdown",
   "id": "df4e924b-0ff1-47ee-bc9c-0b7a2eb4ee3c",
   "metadata": {},
   "source": [
    "# Downloading Planet Datasets\n",
    "\n",
    "This tutorial uses the Planet API to find and download planetscope data.\n",
    "\n",
    "To have access to the Planet API to run this tutorial (https://www.planet.com)\n"
   ]
  },
  {
   "cell_type": "markdown",
   "id": "d0eee2e5-a3fe-4ef1-b55f-2e0812b91157",
   "metadata": {},
   "source": [
    "## Differences between notebooks and scripts\n",
    "\n",
    "Please note that there are some differences between using the functions provided in RSGISLib when running from within a notebook, such as this, verses a normal python scripts as the python API uses asyncio (https://docs.python.org/3/library/asyncio.html) as does the notebook server and two loops cannot be run alongside one other.\n",
    "\n",
    "Therefore, I have shown both functions and prepended the cells with functions that would be used within a normal Python script with %%script false --no-raise-error so they do not run within the notebook and produce an error. Note the function names are almost the same with the functions executed within the notebook starting with an `_` and those used within a script with `run_`\n"
   ]
  },
  {
   "cell_type": "markdown",
   "id": "97329e3f-d07e-4cd4-b5cb-3a5e9542308f",
   "metadata": {},
   "source": [
    "## Import Modules"
   ]
  },
  {
   "cell_type": "code",
   "execution_count": null,
   "id": "1772d395-9cb8-49b3-9ce1-d287588abfe0",
   "metadata": {},
   "outputs": [],
   "source": [
    "import datetime\n",
    "import os\n",
    "\n",
    "import rsgislib.tools.utils\n",
    "from rsgislib.dataaccess import planet_data_api"
   ]
  },
  {
   "cell_type": "markdown",
   "id": "e83ea16e-7801-4fe6-a00d-1714b18abe39",
   "metadata": {},
   "source": [
    "## Create Output Directory"
   ]
  },
  {
   "cell_type": "code",
   "execution_count": null,
   "id": "63c74868-e892-4967-bdd2-64935494bb51",
   "metadata": {},
   "outputs": [],
   "source": [
    "out_dir_path = \"planet_data\"\n",
    "if not os.path.exists(out_dir_path):\n",
    "    os.mkdir(out_dir_path)"
   ]
  },
  {
   "cell_type": "markdown",
   "id": "d0b0040c-91b3-4148-a209-a5688da0321c",
   "metadata": {},
   "source": [
    "## Username and Password\n",
    "\n",
    "You need to be careful with your username and password and therefore you should not write them into the notebook. RSGISlib provide a tool/functions for doing a basic encoding of the username and password so they are not stored as free text (Note. be careful as the simple encoding is not secure). \n",
    "\n",
    "To create the encoded file, you can use the command line tool `rsgisuserpassfile.py` as shown below:\n",
    "\n",
    "`rsgisuserpassfile.py planet_userinfo.txt`\n",
    "\n",
    "Once you have created the `planet_userinfo.txt` file, you can read it into your notebook/script using the `get_username_password` function shown below:"
   ]
  },
  {
   "cell_type": "code",
   "execution_count": null,
   "id": "8bb1658b-f544-41d0-b742-4fa29fb173b3",
   "metadata": {},
   "outputs": [],
   "source": [
    "username, password = rsgislib.tools.utils.get_username_password(\n",
    "    input_file=\"planet_userinfo.txt\"\n",
    ")"
   ]
  },
  {
   "cell_type": "markdown",
   "id": "e583707a-a22e-47f2-8d31-efd6f864cc9d",
   "metadata": {},
   "source": [
    "## 1. Get Authentication Object\n",
    "\n",
    "When you use the API, you need to be authenticated. The function below will create an authentication object using your login credencials."
   ]
  },
  {
   "cell_type": "code",
   "execution_count": null,
   "id": "d8a59551-ca78-4dea-aff2-a7dc541f3b85",
   "metadata": {},
   "outputs": [],
   "source": [
    "planet_auth = planet_data_api.planet_auth(username=username, password=password)"
   ]
  },
  {
   "cell_type": "markdown",
   "id": "97104eb7-33ec-4181-86bf-0a4171b5f4c2",
   "metadata": {},
   "source": [
    "## 2. Search for Scenes\n",
    "\n",
    "The first step is to query to find the scenes you are interested in. In this case, we are looking for scenes in May and June 2024 within a bounding box (xMin, xMax, yMin, yMax) and with cloud cover of less than 10 percent. \n",
    "\n",
    "The results have been restricted to just provide 2 scenes to speed up building the order and the download. Given the small land area of the scenes you would probably increase this. "
   ]
  },
  {
   "cell_type": "markdown",
   "id": "92854780-4c28-49e9-af9d-e9b7d93e989f",
   "metadata": {},
   "source": [
    "### Notebook Function:"
   ]
  },
  {
   "cell_type": "code",
   "execution_count": null,
   "id": "d625d726-903a-4d96-8b90-41dd90fe6d3d",
   "metadata": {},
   "outputs": [],
   "source": [
    "items = await planet_data_api._search_planet_items(\n",
    "    planet_auth,\n",
    "    item_type=planet_data_api.RSGIS_PLANET_ITEM_PSScene,\n",
    "    bbox=(-4.1, -4.0, 52.4, 52.5),\n",
    "    start_date=datetime.datetime(year=2024, month=5, day=1),\n",
    "    end_date=datetime.datetime(year=2024, month=6, day=30),\n",
    "    cloud_cover=10,\n",
    "    sun_elevation_min=None,\n",
    "    sun_elevation_max=None,\n",
    "    view_angle_min=None,\n",
    "    view_angle_max=None,\n",
    "    max_n_rslts=2,\n",
    ")"
   ]
  },
  {
   "cell_type": "markdown",
   "id": "8b161d92-c3b0-4625-bde3-e48b62ac6ff3",
   "metadata": {},
   "source": [
    "### Script Function"
   ]
  },
  {
   "cell_type": "code",
   "execution_count": null,
   "id": "d04bccf5-65e7-498e-9cb2-e9f039e6f22b",
   "metadata": {},
   "outputs": [],
   "source": [
    "%%script false --no-raise-error\n",
    "\n",
    "items = planet_data_api.run_search_planet_items(\n",
    "    planet_auth,\n",
    "    item_type = planet_data_api.RSGIS_PLANET_ITEM_PSScene,\n",
    "    bbox = (-4.1, -4.0, 52.4, 52.5),\n",
    "    start_date = datetime.datetime(year=2024, month=5, day=1),\n",
    "    end_date = datetime.datetime(year=2024, month=6, day=30),\n",
    "    cloud_cover = 10,\n",
    "    sun_elevation_min = None,\n",
    "    sun_elevation_max = None,\n",
    "    view_angle_min = None,\n",
    "    view_angle_max = None,\n",
    "    max_n_rslts = 2,\n",
    ")"
   ]
  },
  {
   "cell_type": "code",
   "execution_count": null,
   "id": "f66ece70-037b-40e0-867b-6a11282d92b2",
   "metadata": {
    "scrolled": true
   },
   "outputs": [],
   "source": [
    "items"
   ]
  },
  {
   "cell_type": "markdown",
   "id": "b56b296c-a905-47b4-ba9b-4ec1a8ee0fb9",
   "metadata": {},
   "source": [
    "## 3. Create an Order\n",
    "\n",
    "The next step is to create an order so the planet servers will prepare the data to be downloaded. You need to provide the list of items you found through the search, specify the type of the items (which will match what you specified in the search), and then the bundle you want to download (e.g., 8-band surface reflectance). \n",
    "\n",
    "By default, once the order has been created and is ready to download, Planet will send you an email notification. Although this can be turned off. "
   ]
  },
  {
   "cell_type": "markdown",
   "id": "2fe7b0d5-8e51-40bf-94dd-c19b39b3d474",
   "metadata": {},
   "source": [
    "### Notebook Function:"
   ]
  },
  {
   "cell_type": "code",
   "execution_count": null,
   "id": "4fc4f942-d7b7-48d1-90f6-7dedd01a7545",
   "metadata": {},
   "outputs": [],
   "source": [
    "order_info = await planet_data_api._create_planet_order(\n",
    "    planet_auth,\n",
    "    order_name=\"example_order\",\n",
    "    items=items,\n",
    "    item_type=planet_data_api.RSGIS_PLANET_ITEM_PSScene,\n",
    "    bundle_type=planet_data_api.RSGIS_PLANET_BUNDLE_analytic_8b_sr_udm2,\n",
    "    email_notification=True,\n",
    ")"
   ]
  },
  {
   "cell_type": "markdown",
   "id": "8aab4df9-8a68-4598-b264-d7913994f8e4",
   "metadata": {},
   "source": [
    "### Script Function:"
   ]
  },
  {
   "cell_type": "code",
   "execution_count": null,
   "id": "98d4b732-e90c-4d6a-83f4-0c9535a1b98a",
   "metadata": {},
   "outputs": [],
   "source": [
    "%%script false --no-raise-error\n",
    "\n",
    "order_info = planet_data_api.run_create_planet_order(\n",
    "        planet_auth,\n",
    "        order_name = \"example_order\",\n",
    "        items = items,\n",
    "        item_type = planet_data_api.RSGIS_PLANET_ITEM_PSScene,\n",
    "        bundle_type = planet_data_api.RSGIS_PLANET_BUNDLE_analytic_8b_sr_udm2,\n",
    "        email_notification = True,\n",
    ")"
   ]
  },
  {
   "cell_type": "markdown",
   "id": "b1692b21-cafd-45a7-b75e-13a2292e2132",
   "metadata": {},
   "source": [
    "Note. you will want to make note of order id - the `id` field in the returned order_info dictionary."
   ]
  },
  {
   "cell_type": "code",
   "execution_count": null,
   "id": "68e10269-9ca5-4d9e-8630-503ef269c9d8",
   "metadata": {},
   "outputs": [],
   "source": [
    "order_info"
   ]
  },
  {
   "cell_type": "markdown",
   "id": "9f8ff5a6-c9fd-4b7d-af91-c407e61e1cf4",
   "metadata": {},
   "source": [
    "## 4. Download the Order\n",
    "\n",
    "Once the order has been submitted, you should able to see it on the Planet orders page, as shown below:\n",
    "\n",
    "![Planet Order](figures/planet_orders_page.png)\n",
    "\n",
    "Once the status has changed to `success` the data is available for download and you can run the following function - note, if you run the function before the data is ready you will get an error. Note that it can take a little while for the data to be available for download, so you might need some patience. "
   ]
  },
  {
   "cell_type": "markdown",
   "id": "25bcc9f6-bc08-47d6-9287-6c62580bfbf0",
   "metadata": {},
   "source": [
    "### Notebook Function:"
   ]
  },
  {
   "cell_type": "code",
   "execution_count": null,
   "id": "a6b4a50f-c152-4116-af5e-fdc2d16ef74a",
   "metadata": {},
   "outputs": [],
   "source": [
    "dwnld_paths = await planet_data_api._download_planet_order(\n",
    "    planet_auth,\n",
    "    order_id=order_info[\"id\"],\n",
    "    out_file_path=out_dir_path,\n",
    "    overwrite=False,\n",
    ")"
   ]
  },
  {
   "cell_type": "markdown",
   "id": "fb07e479-cc86-4a39-9965-5da8f928eda9",
   "metadata": {},
   "source": [
    "### Script Function:"
   ]
  },
  {
   "cell_type": "code",
   "execution_count": null,
   "id": "db68c4a8-f2b5-4f2e-b43b-a2978aa668fd",
   "metadata": {},
   "outputs": [],
   "source": [
    "%%script false --no-raise-error\n",
    "\n",
    "dwnld_paths = planet_data_api.run_download_planet_order(\n",
    "    planet_auth,\n",
    "    order_id = order_info[\"id\"],\n",
    "    out_file_path = out_dir_path,\n",
    "    overwrite = False,\n",
    ")"
   ]
  },
  {
   "cell_type": "markdown",
   "id": "71419ff5-2149-47b8-9859-d35cd0bb7cc8",
   "metadata": {},
   "source": [
    "The download function will return a list of the file paths which have been downloaded:"
   ]
  },
  {
   "cell_type": "code",
   "execution_count": null,
   "id": "90eae6d3-885f-4e34-b6d8-0f2eefdc1732",
   "metadata": {},
   "outputs": [],
   "source": [
    "dwnld_paths"
   ]
  },
  {
   "cell_type": "code",
   "execution_count": null,
   "id": "9d36e833-cf4b-481f-a7d1-ae99bbce0297",
   "metadata": {},
   "outputs": [],
   "source": []
  }
 ],
 "metadata": {
  "kernelspec": {
   "display_name": "Python 3 (ipykernel)",
   "language": "python",
   "name": "python3"
  },
  "language_info": {
   "codemirror_mode": {
    "name": "ipython",
    "version": 3
   },
   "file_extension": ".py",
   "mimetype": "text/x-python",
   "name": "python",
   "nbconvert_exporter": "python",
   "pygments_lexer": "ipython3",
   "version": "3.12.4"
  }
 },
 "nbformat": 4,
 "nbformat_minor": 5
}
